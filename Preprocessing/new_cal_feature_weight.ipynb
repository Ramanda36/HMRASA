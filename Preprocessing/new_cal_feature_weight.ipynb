{
 "cells": [
  {
   "cell_type": "code",
   "execution_count": 1,
   "metadata": {},
   "outputs": [],
   "source": [
    "import csv\n",
    "import pandas as pd\n",
    "import numpy as np"
   ]
  },
  {
   "cell_type": "code",
   "execution_count": 9,
   "metadata": {},
   "outputs": [
    {
     "name": "stdout",
     "output_type": "stream",
     "text": [
      "           id  vote_average\n",
      "0      135397           6.5\n",
      "1       76341           7.1\n",
      "2      262500           6.3\n",
      "3      140607           7.5\n",
      "4      168259           7.3\n",
      "...       ...           ...\n",
      "10861      21           7.4\n",
      "10862   20379           5.7\n",
      "10863   39768           6.5\n",
      "10864   21449           5.4\n",
      "10865   22293           1.5\n",
      "\n",
      "[10866 rows x 2 columns]\n"
     ]
    }
   ],
   "source": [
    "print(movies2)"
   ]
  },
  {
   "cell_type": "code",
   "execution_count": 13,
   "metadata": {},
   "outputs": [
    {
     "name": "stdout",
     "output_type": "stream",
     "text": [
      "(10866, 2)\n",
      "(45466, 2)\n",
      "           id  vote_average\n",
      "0      135397           6.0\n",
      "1       76341           7.0\n",
      "2      262500           6.0\n",
      "3      140607           7.0\n",
      "4      168259           7.0\n",
      "...       ...           ...\n",
      "45848  439050           4.0\n",
      "45849  111109           9.0\n",
      "45850   67758           3.0\n",
      "45851  227506           0.0\n",
      "45852  461257           0.0\n",
      "\n",
      "[45853 rows x 2 columns]\n"
     ]
    }
   ],
   "source": [
    "def remove_dul(data):\n",
    "    data['id'] = list(map(lambda x: int(x), data['id'].tolist()))\n",
    "    data = data[~data.id.duplicated(keep='first')]\n",
    "    data = data.reset_index(drop=True)\n",
    "    return data\n",
    "# def replace_value(value):\n",
    "\n",
    "movie_Info = pd.read_csv('all_movies_meta.csv')\n",
    "movies = pd.read_csv('movie_info.csv')\n",
    "movies = movies[['id','vote_average']]\n",
    "print(movies.shape)\n",
    "movies2 = pd.read_csv('movies_metadata.csv')\n",
    "movies2 = movies2[['id','vote_average']]\n",
    "print(movies2.shape)\n",
    "def clean_id(x):\n",
    "    try:\n",
    "        return int(x)\n",
    "    except:\n",
    "        return np.nan\n",
    "\n",
    "\n",
    "\n",
    "\n",
    "all_movies_rating = movies.append(movies2, ignore_index = True)\n",
    "all_movies_rating['vote_average'] = all_movies_rating['vote_average'].apply(clean_id)\n",
    "all_movies_rating['id'] = all_movies_rating['id'].apply(clean_id)\n",
    "all_movies_rating = all_movies_rating[all_movies_rating['vote_average'].notnull()]\n",
    "all_movies_rating = all_movies_rating[all_movies_rating['id'].notnull()]\n",
    "all_movies_rating = remove_dul(all_movies_rating)\n",
    "all_movies_rating = all_movies_rating.reset_index(drop=True)\n",
    "print(all_movies_rating)\n",
    "movies_with_rating = pd.merge(movie_Info, all_movies_rating[['id','vote_average']], on='id', how='left')\n",
    "# movies_with_rating = pd.merge(movies_with_rating, movies2[['id','vote_average']], on='id', how='left')\n",
    "# movies_with_rating['vote_average_x'] = list(map(lambda x: , movies_with_rating['vote_average_x'].tolist() ))\n",
    "movies_meta = remove_dul(movies_with_rating)\n",
    "# print(movies_meta)\n",
    "\n",
    "\n",
    "\n",
    "#id有些是空的 先做處裡........\n",
    "\n",
    "\n"
   ]
  },
  {
   "cell_type": "code",
   "execution_count": 14,
   "metadata": {},
   "outputs": [
    {
     "name": "stdout",
     "output_type": "stream",
     "text": [
      "           id                               original_title  \\\n",
      "0         862                                    Toy Story   \n",
      "1        8844                                      Jumanji   \n",
      "2       15602                             Grumpier Old Men   \n",
      "3       31357                            Waiting to Exhale   \n",
      "4       11862                  Father of the Bride Part II   \n",
      "...       ...                                          ...   \n",
      "25913  249260                             Avalanche Sharks   \n",
      "25914   19422                               Lost in Austen   \n",
      "25915    1777                              Fahrenheit 9/11   \n",
      "25916   11052  YÅ«giÅ Dyueru MonsutÄzu Hikari no Piramiddo   \n",
      "25917   15138                              Little Monsters   \n",
      "\n",
      "                                                    cast  \\\n",
      "0                 ['tomhanks', 'timallen', 'donrickles']   \n",
      "1      ['robinwilliams', 'jonathanhyde', 'kirstendunst']   \n",
      "2          ['waltermatthau', 'jacklemmon', 'annmargret']   \n",
      "3      ['whitneyhouston', 'angelabassett', 'lorettade...   \n",
      "4          ['stevemartin', 'dianekeaton', 'martinshort']   \n",
      "...                                                  ...   \n",
      "25913  ['alexandermendeluk', 'katenauta', 'benjaminea...   \n",
      "25914        ['jemimarooper', 'elliotcowan', 'tommison']   \n",
      "25915      ['michaelmoore', 'georgewbush', 'benaffleck']   \n",
      "25916           ['dangreen', 'ericstuart', 'scottieray']   \n",
      "25917       ['fredsavage', 'howiemandel', 'danielstern']   \n",
      "\n",
      "                   director                                  genres  \\\n",
      "0          ['johnlasseter']       ['animation', 'comedy', 'family']   \n",
      "1           ['joejohnston']      ['adventure', 'fantasy', 'family']   \n",
      "2          ['howarddeutch']                   ['romance', 'comedy']   \n",
      "3        ['forestwhitaker']          ['comedy', 'drama', 'romance']   \n",
      "4          ['charlesshyer']                              ['comedy']   \n",
      "...                     ...                                     ...   \n",
      "25913      ['scottwheeler']  ['action', 'horror', 'sciencefiction']   \n",
      "25914           ['danzeff']           ['comedy', 'drama', 'family']   \n",
      "25915      ['michaelmoore']                         ['documentary']   \n",
      "25916      ['hatsukitsuji']   ['adventure', 'fantasy', 'animation']   \n",
      "25917  ['richardgreenberg']      ['adventure', 'fantasy', 'comedy']   \n",
      "\n",
      "                                    production_companies  \\\n",
      "0                              ['pixaranimationstudios']   \n",
      "1      ['tristarpictures', 'teitlerfilm', 'interscope...   \n",
      "2                        ['warnerbros', 'lancastergate']   \n",
      "3                 ['twentiethcenturyfoxfilmcorporation']   \n",
      "4         ['sandollarproductions', 'touchstonepictures']   \n",
      "...                                                  ...   \n",
      "25913  ['odysseymedia', 'pulserproductions', 'roguest...   \n",
      "25914                                  ['mammothscreen']   \n",
      "25915   ['bimdistribuzione', 'fellowshipadventuregroup']   \n",
      "25916  ['konamicorporationltd', 'tohocompany', 'shuei...   \n",
      "25917                           ['metrogoldwynmayermgm']   \n",
      "\n",
      "                                                keywords  release_year  \\\n",
      "0                             ['jealousy', 'toy', 'boy']          1995   \n",
      "1      ['boardgame', 'disappearance', 'basedonchildre...          1995   \n",
      "2      ['fishing', 'bestfriend', 'duringcreditsstinger']          1995   \n",
      "3      ['basedonnovel', 'interracialrelationship', 's...          1995   \n",
      "4                ['baby', 'midlifecrisis', 'confidence']          1995   \n",
      "...                                                  ...           ...   \n",
      "25913              ['bikini', 'madeforcabletv', 'curse']          2014   \n",
      "25914                       ['janeausten', 'miniseries']          2008   \n",
      "25915           ['skabundertv', 'øverstehylde', 'foran']          2004   \n",
      "25916                   ['monster', 'cardgame', 'fight']          2004   \n",
      "25917                   ['monster', 'bed', 'friendship']          1989   \n",
      "\n",
      "       vote_average  \n",
      "0               7.0  \n",
      "1               6.0  \n",
      "2               6.0  \n",
      "3               6.0  \n",
      "4               5.0  \n",
      "...             ...  \n",
      "25913           3.0  \n",
      "25914           6.0  \n",
      "25915           6.0  \n",
      "25916           5.0  \n",
      "25917           5.0  \n",
      "\n",
      "[25918 rows x 9 columns]\n"
     ]
    }
   ],
   "source": [
    "\n",
    "movies_meta = movies_meta.reset_index(drop=True)\n",
    "print(movies_meta)\n"
   ]
  },
  {
   "cell_type": "code",
   "execution_count": 15,
   "metadata": {},
   "outputs": [],
   "source": [
    "from ast import literal_eval\n",
    "cols = ['cast','director','genres','production_companies','keywords']\n",
    "for c in cols:\n",
    "    movies_meta[c] = movies_meta[c].apply(literal_eval)\n",
    "# movies_meta['id'] = movies_meta['id'].astype('int')\n",
    "movies_meta['original_title'] = movies_meta['original_title'].astype('str')\n",
    "\n",
    "\n",
    "# movies_meta['original_title'] = movies_meta['original_title'].apply(literal_eval)"
   ]
  },
  {
   "cell_type": "code",
   "execution_count": null,
   "metadata": {},
   "outputs": [],
   "source": [
    "print(movies_meta)"
   ]
  },
  {
   "cell_type": "code",
   "execution_count": 17,
   "metadata": {},
   "outputs": [
    {
     "name": "stdout",
     "output_type": "stream",
     "text": [
      "           id                            original_title  \\\n",
      "0         862                                 toy story   \n",
      "1        8844                                   jumanji   \n",
      "2       15602                          grumpier old men   \n",
      "3       31357                            waiting exhale   \n",
      "4       11862                      father bride part ii   \n",
      "...       ...                                       ...   \n",
      "25913  249260                          avalanche sharks   \n",
      "25914   19422                               lost austen   \n",
      "25915    1777                               fahrenheit    \n",
      "25916   11052  yå«giå dyueru monsutäzu hikari piramiddo   \n",
      "25917   15138                           little monsters   \n",
      "\n",
      "                                                    cast            director  \\\n",
      "0                       [tomhanks, timallen, donrickles]      [johnlasseter]   \n",
      "1            [robinwilliams, jonathanhyde, kirstendunst]       [joejohnston]   \n",
      "2                [waltermatthau, jacklemmon, annmargret]      [howarddeutch]   \n",
      "3         [whitneyhouston, angelabassett, lorettadevine]    [forestwhitaker]   \n",
      "4                [stevemartin, dianekeaton, martinshort]      [charlesshyer]   \n",
      "...                                                  ...                 ...   \n",
      "25913  [alexandermendeluk, katenauta, benjamineasterday]      [scottwheeler]   \n",
      "25914              [jemimarooper, elliotcowan, tommison]           [danzeff]   \n",
      "25915            [michaelmoore, georgewbush, benaffleck]      [michaelmoore]   \n",
      "25916                 [dangreen, ericstuart, scottieray]      [hatsukitsuji]   \n",
      "25917             [fredsavage, howiemandel, danielstern]  [richardgreenberg]   \n",
      "\n",
      "                                 genres  \\\n",
      "0           [animation, comedy, family]   \n",
      "1          [adventure, fantasy, family]   \n",
      "2                     [romance, comedy]   \n",
      "3              [comedy, drama, romance]   \n",
      "4                              [comedy]   \n",
      "...                                 ...   \n",
      "25913  [action, horror, sciencefiction]   \n",
      "25914           [comedy, drama, family]   \n",
      "25915                     [documentary]   \n",
      "25916   [adventure, fantasy, animation]   \n",
      "25917      [adventure, fantasy, comedy]   \n",
      "\n",
      "                                    production_companies  \\\n",
      "0                                [pixaranimationstudios]   \n",
      "1      [tristarpictures, teitlerfilm, interscopecommu...   \n",
      "2                            [warnerbros, lancastergate]   \n",
      "3                   [twentiethcenturyfoxfilmcorporation]   \n",
      "4             [sandollarproductions, touchstonepictures]   \n",
      "...                                                  ...   \n",
      "25913  [odysseymedia, pulserproductions, roguestate, ...   \n",
      "25914                                    [mammothscreen]   \n",
      "25915       [bimdistribuzione, fellowshipadventuregroup]   \n",
      "25916  [konamicorporationltd, tohocompany, shueisha, ...   \n",
      "25917                             [metrogoldwynmayermgm]   \n",
      "\n",
      "                                                keywords  release_year  \\\n",
      "0                                   [jealousy, toy, boy]          1995   \n",
      "1       [boardgame, disappearance, basedonchildrensbook]          1995   \n",
      "2            [fishing, bestfriend, duringcreditsstinger]          1995   \n",
      "3      [basedonnovel, interracialrelationship, single...          1995   \n",
      "4                      [baby, midlifecrisis, confidence]          1995   \n",
      "...                                                  ...           ...   \n",
      "25913                    [bikini, madeforcabletv, curse]          2014   \n",
      "25914                           [janeausten, miniseries]          2008   \n",
      "25915                 [skabundertv, øverstehylde, foran]          2004   \n",
      "25916                         [monster, cardgame, fight]          2004   \n",
      "25917                         [monster, bed, friendship]          1989   \n",
      "\n",
      "       vote_average  \n",
      "0               7.0  \n",
      "1               6.0  \n",
      "2               6.0  \n",
      "3               6.0  \n",
      "4               5.0  \n",
      "...             ...  \n",
      "25913           3.0  \n",
      "25914           6.0  \n",
      "25915           6.0  \n",
      "25916           5.0  \n",
      "25917           5.0  \n",
      "\n",
      "[25918 rows x 9 columns]\n"
     ]
    }
   ],
   "source": [
    "# --title--\n",
    "import re\n",
    "import string\n",
    "from sklearn.metrics.pairwise import cosine_similarity\n",
    "from sklearn.feature_extraction.text import CountVectorizer\n",
    "from nltk.corpus import stopwords\n",
    "stopwords = stopwords.words('english')\n",
    "num = r'[0-9]+'\n",
    "\n",
    "def clean_string(text):\n",
    "    text = ''.join([word for word in text if word not in string.punctuation])\n",
    "    text = text.lower()\n",
    "    text = ' '.join([word for word in text.split() if word not in stopwords])\n",
    "    text = re.sub(num, '', text)\n",
    "    return text   \n",
    "\n",
    "movies_meta['original_title'] = list(map(clean_string, movies_meta['original_title']))\n",
    "print(movies_meta)"
   ]
  },
  {
   "cell_type": "code",
   "execution_count": 21,
   "metadata": {},
   "outputs": [
    {
     "name": "stdout",
     "output_type": "stream",
     "text": [
      "0                                          [toy, story]\n",
      "1                                             [jumanji]\n",
      "2                                  [grumpier, old, men]\n",
      "3                                     [waiting, exhale]\n",
      "4                             [father, bride, part, ii]\n",
      "                              ...                      \n",
      "25913                               [avalanche, sharks]\n",
      "25914                                    [lost, austen]\n",
      "25915                                      [fahrenheit]\n",
      "25916    [yå«giå, dyueru, monsutäzu, hikari, piramiddo]\n",
      "25917                                [little, monsters]\n",
      "Name: original_title, Length: 25918, dtype: object\n"
     ]
    }
   ],
   "source": [
    "# movies_meta['original_title'] = list(map(lambda x: list(x.split(\" \")), movies_meta['original_title'].tolist()))\n",
    "movies_meta['original_title']  = list(map(lambda x: [ele for ele in x if ele.strip()], movies_meta['original_title'].tolist()))\n",
    "print(movies_meta['original_title'])"
   ]
  },
  {
   "cell_type": "code",
   "execution_count": 51,
   "metadata": {},
   "outputs": [
    {
     "name": "stdout",
     "output_type": "stream",
     "text": [
      "                    original_title  \\\n",
      "0                     [toy, story]   \n",
      "1                        [jumanji]   \n",
      "2             [grumpier, old, men]   \n",
      "3                [waiting, exhale]   \n",
      "4            [father, bride, part]   \n",
      "...                            ...   \n",
      "25913          [avalanche, sharks]   \n",
      "25914               [lost, austen]   \n",
      "25915                 [fahrenheit]   \n",
      "25916  [yå«giå, dyueru, monsutäzu]   \n",
      "25917           [little, monsters]   \n",
      "\n",
      "                                                    cast            director  \\\n",
      "0                       [tomhanks, timallen, donrickles]      [johnlasseter]   \n",
      "1            [robinwilliams, jonathanhyde, kirstendunst]       [joejohnston]   \n",
      "2                [waltermatthau, jacklemmon, annmargret]      [howarddeutch]   \n",
      "3         [whitneyhouston, angelabassett, lorettadevine]    [forestwhitaker]   \n",
      "4                [stevemartin, dianekeaton, martinshort]      [charlesshyer]   \n",
      "...                                                  ...                 ...   \n",
      "25913  [alexandermendeluk, katenauta, benjamineasterday]      [scottwheeler]   \n",
      "25914              [jemimarooper, elliotcowan, tommison]           [danzeff]   \n",
      "25915            [michaelmoore, georgewbush, benaffleck]      [michaelmoore]   \n",
      "25916                 [dangreen, ericstuart, scottieray]      [hatsukitsuji]   \n",
      "25917             [fredsavage, howiemandel, danielstern]  [richardgreenberg]   \n",
      "\n",
      "                                 genres  \\\n",
      "0           [animation, comedy, family]   \n",
      "1          [adventure, fantasy, family]   \n",
      "2                     [romance, comedy]   \n",
      "3              [comedy, drama, romance]   \n",
      "4                              [comedy]   \n",
      "...                                 ...   \n",
      "25913  [action, horror, sciencefiction]   \n",
      "25914           [comedy, drama, family]   \n",
      "25915                     [documentary]   \n",
      "25916   [adventure, fantasy, animation]   \n",
      "25917      [adventure, fantasy, comedy]   \n",
      "\n",
      "                                    production_companies  \\\n",
      "0                                [pixaranimationstudios]   \n",
      "1      [tristarpictures, teitlerfilm, interscopecommu...   \n",
      "2                            [warnerbros, lancastergate]   \n",
      "3                   [twentiethcenturyfoxfilmcorporation]   \n",
      "4             [sandollarproductions, touchstonepictures]   \n",
      "...                                                  ...   \n",
      "25913  [odysseymedia, pulserproductions, roguestate, ...   \n",
      "25914                                    [mammothscreen]   \n",
      "25915       [bimdistribuzione, fellowshipadventuregroup]   \n",
      "25916  [konamicorporationltd, tohocompany, shueisha, ...   \n",
      "25917                             [metrogoldwynmayermgm]   \n",
      "\n",
      "                                                keywords  vote_average  \n",
      "0                                   [jealousy, toy, boy]           7.0  \n",
      "1       [boardgame, disappearance, basedonchildrensbook]           6.0  \n",
      "2            [fishing, bestfriend, duringcreditsstinger]           6.0  \n",
      "3      [basedonnovel, interracialrelationship, single...           6.0  \n",
      "4                      [baby, midlifecrisis, confidence]           5.0  \n",
      "...                                                  ...           ...  \n",
      "25913                    [bikini, madeforcabletv, curse]           3.0  \n",
      "25914                           [janeausten, miniseries]           6.0  \n",
      "25915                 [skabundertv, øverstehylde, foran]           6.0  \n",
      "25916                         [monster, cardgame, fight]           5.0  \n",
      "25917                         [monster, bed, friendship]           5.0  \n",
      "\n",
      "[25918 rows x 7 columns]\n"
     ]
    }
   ],
   "source": [
    "# movies_meta.drop(['id','release_year'], inplace=True, axis=1)\n",
    "print(movies_meta)\n",
    "# movies_meta['original_title'] = movies_meta['original_title'].apply(lambda x: x[:3] if len(x)>3 else x)"
   ]
  },
  {
   "cell_type": "code",
   "execution_count": 29,
   "metadata": {},
   "outputs": [],
   "source": [
    "from keras_preprocessing.text import Tokenizer\n",
    "movies_meta_em = movies_meta.copy()\n",
    "all_str_col = ['original_title','cast','director','genres','production_companies','keywords']\n",
    "col_concat = []\n",
    "# dict makes from whole features' words\n",
    "for c in all_str_col:\n",
    "    col_concat.extend(movies_meta_em[c].tolist())\n",
    "# embedding for each col\n",
    "for c in all_str_col:\n",
    "    token = Tokenizer()\n",
    "    token.fit_on_texts(col_concat)\n",
    "    movies_meta_em[c] = token.texts_to_sequences(movies_meta_em[c].tolist())"
   ]
  },
  {
   "cell_type": "code",
   "execution_count": 30,
   "metadata": {},
   "outputs": [
    {
     "name": "stdout",
     "output_type": "stream",
     "text": [
      "              original_title                   cast director       genres  \\\n",
      "0                [2673, 140]     [404, 1427, 14887]   [5908]  [14, 2, 10]   \n",
      "1                    [30694]     [465, 43020, 1203]   [5184]  [8, 12, 10]   \n",
      "2          [30695, 711, 215]       [662, 663, 1758]   [4575]       [5, 2]   \n",
      "3              [4786, 30696]     [9191, 2530, 7635]    [640]    [2, 1, 5]   \n",
      "4            [474, 411, 653]       [746, 695, 3927]   [8149]          [2]   \n",
      "...                      ...                    ...      ...          ...   \n",
      "25913         [10902, 10779]  [62030, 15729, 62031]  [17354]    [3, 6, 9]   \n",
      "25914           [244, 20298]  [62032, 12085, 62033]  [68349]   [2, 1, 10]   \n",
      "25915                [19784]      [2195, 6694, 670]   [2195]         [15]   \n",
      "25916  [43017, 43018, 43019]  [62034, 11652, 62035]  [68350]  [8, 12, 14]   \n",
      "25917            [130, 3526]    [11670, 9478, 3001]  [25866]   [8, 12, 2]   \n",
      "\n",
      "               production_companies             keywords  vote_average  \n",
      "0                             [592]      [90, 2673, 161]           7.0  \n",
      "1                 [77, 26971, 1022]  [10550, 1753, 3163]           6.0  \n",
      "2                       [13, 26972]    [2736, 1027, 168]           6.0  \n",
      "3                              [24]     [26, 4230, 1959]           6.0  \n",
      "4                        [6026, 72]    [100, 1312, 4906]           5.0  \n",
      "...                             ...                  ...           ...  \n",
      "25913  [10533, 80962, 18350, 29378]    [1995, 2466, 515]           3.0  \n",
      "25914                       [18466]          [5469, 834]           6.0  \n",
      "25915                 [2424, 80963]   [2890, 3798, 5398]           6.0  \n",
      "25916      [28722, 132, 7168, 8412]      [44, 5431, 129]           5.0  \n",
      "25917                          [17]       [44, 4788, 80]           5.0  \n",
      "\n",
      "[25918 rows x 7 columns]\n"
     ]
    }
   ],
   "source": [
    "print(movies_meta_em)"
   ]
  },
  {
   "cell_type": "code",
   "execution_count": 31,
   "metadata": {},
   "outputs": [
    {
     "name": "stderr",
     "output_type": "stream",
     "text": [
      "Using TensorFlow backend.\n"
     ]
    },
    {
     "name": "stdout",
     "output_type": "stream",
     "text": [
      "                                          original_title  \\\n",
      "0      [-0.346128993706117, -0.4088484370818867, -0.9...   \n",
      "1      [-0.346128993706117, -0.623526538045331, 1.014...   \n",
      "2      [3.161810251729028, -0.5664236088328324, -0.98...   \n",
      "3      [-0.346128993706117, -0.23914592030831466, 1.0...   \n",
      "4      [-0.29195850332213724, -0.5905176717916926, -0...   \n",
      "...                                                  ...   \n",
      "25913  [-0.346128993706117, 0.25205170987964853, -0.2...   \n",
      "25914  [-0.346128993706117, -0.603930033505458, 0.333...   \n",
      "25915  [-0.346128993706117, -0.623526538045331, 0.300...   \n",
      "25916  [4.570014434242527, 2.8314014631688287, 1.8211...   \n",
      "25917  [-0.346128993706117, -0.613085777429825, -0.76...   \n",
      "\n",
      "                                                    cast  \\\n",
      "0      [-0.7170023565440657, -0.8572184321928932, -0....   \n",
      "1      [-0.7137605110385186, 1.174938095654474, -1.03...   \n",
      "2      [-0.7032909444058496, -0.8945460495149279, -1....   \n",
      "3      [-0.2500171687203996, -0.803327906137652, -0.7...   \n",
      "4      [-0.6988267637096861, -0.8929825891035338, -0....   \n",
      "...                                                  ...   \n",
      "25913  [2.558111924191254, -0.1584493445754324, 1.833...   \n",
      "25914  [2.5582182142078294, -0.33648839892293814, 1.8...   \n",
      "25915  [-0.6218196467008672, -0.5998826201049917, -1....   \n",
      "25916  [2.5583245042244047, -0.3576439726146149, 1.83...   \n",
      "25917  [-0.11827069317529104, -0.46386156431370307, -...   \n",
      "\n",
      "                                                director  \\\n",
      "0      [-0.07554968780470367, -0.1937142955113404, -0...   \n",
      "1      [-0.07554968780470367, -0.1937142955113404, -0...   \n",
      "2      [-0.07554968780470367, -0.1937142955113404, -0...   \n",
      "3      [-0.07554968780470367, -0.1937142955113404, -0...   \n",
      "4      [-0.07554968780470367, -0.1937142955113404, -0...   \n",
      "...                                                  ...   \n",
      "25913  [-0.07554968780470367, -0.1937142955113404, -0...   \n",
      "25914  [-0.07554968780470367, -0.1937142955113404, 1....   \n",
      "25915  [-0.07554968780470367, -0.1937142955113404, -0...   \n",
      "25916  [-0.07554968780470367, -0.1937142955113404, 1....   \n",
      "25917  [-0.07554968780470367, -0.1937142955113404, 0....   \n",
      "\n",
      "                                                  genres  \\\n",
      "0      [2.6620249365686184, -0.3586097065201226, 0.49...   \n",
      "1      [1.3208398222316273, 1.4999078646833444, 0.498...   \n",
      "2      [-0.4674069968843612, 0.19894556484091747, -0....   \n",
      "3      [-0.020345292105364086, -0.5444614636404692, -...   \n",
      "4      [-0.4674069968843612, -0.730313220760816, -0.6...   \n",
      "...                                                  ...   \n",
      "25913  [0.20318556028413445, 0.38479732196126415, 0.3...   \n",
      "25914  [-0.020345292105364086, -0.5444614636404692, 0...   \n",
      "25915  [-0.4674069968843612, -0.730313220760816, 1.23...   \n",
      "25916  [1.3208398222316273, 1.4999078646833444, 1.086...   \n",
      "25917  [1.3208398222316273, 1.4999078646833444, -0.67...   \n",
      "\n",
      "                                    production_companies  \\\n",
      "0      [-0.31210832879183065, -0.49539316230891856, -...   \n",
      "1      [-0.307049974016418, 0.6682115907135181, -0.88...   \n",
      "2      [-0.31210832879183065, -0.4948323057671036, -0...   \n",
      "3      [-0.31210832879183065, -0.49539316230891856, -...   \n",
      "4      [-0.31210832879183065, -0.23541458377222343, -...   \n",
      "...                                                  ...   \n",
      "25913  [5.006521792337529, 0.29627741786837236, 0.009...   \n",
      "25914  [-0.31210832879183065, -0.49539316230891856, -...   \n",
      "25915  [-0.31210832879183065, -0.3908149886658802, 1....   \n",
      "25916  [-0.30343686346255183, -0.18614549371432337, -...   \n",
      "25917  [-0.31210832879183065, -0.49539316230891856, -...   \n",
      "\n",
      "                                                keywords  vote_average  \n",
      "0      [-0.2328619655310423, -0.17820032739565675, -0...           7.0  \n",
      "1      [1.0336170308678942, -0.23831154429554843, -0....           6.0  \n",
      "2      [0.0875112108046734, -0.28574713502307164, -0....           6.0  \n",
      "3      [-0.24061097659887518, -0.07646862662051397, -...           6.0  \n",
      "4      [-0.2316511825516934, -0.267125725439953, -0.3...           5.0  \n",
      "...                                                  ...           ...  \n",
      "25913  [-0.002207807965079182, -0.19172535119813236, ...           3.0  \n",
      "25914  [-0.24375901234518227, 0.004485501356622755, -...           6.0  \n",
      "25915  [0.10615726868664627, -0.10469476325176746, -0...           6.0  \n",
      "25916  [-0.23843156723604716, 0.002002646745540272, -...           5.0  \n",
      "25917  [-0.23843156723604716, -0.04000986680514489, -...           5.0  \n",
      "\n",
      "[25918 rows x 7 columns]\n"
     ]
    }
   ],
   "source": [
    "\n",
    "\n",
    "# 跑這邊~~~~\n",
    "from keras.preprocessing import sequence\n",
    "# from sklearn.preprocessing import MinMaxScaler\n",
    "from sklearn.preprocessing import StandardScaler\n",
    "# paddind dataset-------------------\n",
    "all_cols = ['original_title','cast','director','genres','production_companies','keywords']\n",
    "for feature in all_cols:\n",
    "    movies_meta_em[feature] = list(sequence.pad_sequences(movies_meta_em[feature].tolist(), maxlen = 3, dtype='float32'))\n",
    "# print(movies)\n",
    "\n",
    "# ----data normalization-----\n",
    "scaler = StandardScaler()\n",
    "for feature in all_cols:\n",
    "    movies_meta_em[feature] = list(scaler.fit_transform(movies_meta_em[feature].tolist()))\n",
    "# normalized_movies = scaler.fit_transform(test_movies)\n",
    "print(movies_meta_em)"
   ]
  },
  {
   "cell_type": "code",
   "execution_count": 37,
   "metadata": {},
   "outputs": [
    {
     "name": "stdout",
     "output_type": "stream",
     "text": [
      "       vote_average        k1        k2        k3        o1        o2  \\\n",
      "0               7.0 -0.232862 -0.178200 -0.507153 -0.346129 -0.408848   \n",
      "1               6.0  1.033617 -0.238312 -0.383120 -0.346129 -0.623527   \n",
      "2               6.0  0.087511 -0.285747 -0.506864  3.161810 -0.566424   \n",
      "3               6.0 -0.240611 -0.076469 -0.432865 -0.346129 -0.239146   \n",
      "4               5.0 -0.231651 -0.267126 -0.311104 -0.291959 -0.590518   \n",
      "...             ...       ...       ...       ...       ...       ...   \n",
      "25913           3.0 -0.002208 -0.191725 -0.492527 -0.346129  0.252052   \n",
      "25914           6.0 -0.243759  0.004486 -0.479347 -0.346129 -0.603930   \n",
      "25915           6.0  0.106157 -0.104695 -0.290776 -0.346129 -0.623527   \n",
      "25916           5.0 -0.238432  0.002003 -0.508476  4.570014  2.831401   \n",
      "25917           5.0 -0.238432 -0.040010 -0.510500 -0.346129 -0.613086   \n",
      "\n",
      "             o3        c1        c2        c3       d1        d2        d3  \\\n",
      "0     -0.985517 -0.717002 -0.857218 -0.392496 -0.07555 -0.193714 -0.657124   \n",
      "1      1.014394 -0.713761  1.174938 -1.038735 -0.07555 -0.193714 -0.687383   \n",
      "2     -0.980608 -0.703291 -0.894546 -1.012525 -0.07555 -0.193714 -0.712836   \n",
      "3      1.014525 -0.250017 -0.803328 -0.734978 -0.07555 -0.193714 -0.877296   \n",
      "4     -0.951938 -0.698827 -0.892983 -0.910092 -0.07555 -0.193714 -0.563464   \n",
      "...         ...       ...       ...       ...      ...       ...       ...   \n",
      "25913 -0.289142  2.558112 -0.158449  1.833923 -0.07555 -0.193714 -0.178749   \n",
      "25914  0.333924  2.558218 -0.336488  1.834017 -0.07555 -0.193714  1.952542   \n",
      "25915  0.300280 -0.621820 -0.599883 -1.063906 -0.07555 -0.193714 -0.812306   \n",
      "25916  1.821126  2.558325 -0.357644  1.834112 -0.07555 -0.193714  1.952584   \n",
      "25917 -0.763886 -0.118271 -0.463862 -0.953823 -0.07555 -0.193714  0.177003   \n",
      "\n",
      "             g1        g2        g3        p1        p2        p3  \n",
      "0      2.662025 -0.358610  0.498220 -0.312108 -0.495393 -0.897279  \n",
      "1      1.320840  1.499908  0.498220 -0.307050  0.668212 -0.883729  \n",
      "2     -0.467407  0.198946 -0.677587 -0.312108 -0.494832 -0.066024  \n",
      "3     -0.020345 -0.544461 -0.236660 -0.312108 -0.495393 -0.915177  \n",
      "4     -0.467407 -0.730313 -0.677587 -0.312108 -0.235415 -0.913664  \n",
      "...         ...       ...       ...       ...       ...       ...  \n",
      "25913  0.203186  0.384797  0.351244  5.006522  0.296277  0.009791  \n",
      "25914 -0.020345 -0.544461  0.498220 -0.312108 -0.495393 -0.334055  \n",
      "25915 -0.467407 -0.730313  1.233099 -0.312108 -0.390815  1.635275  \n",
      "25916  1.320840  1.499908  1.086124 -0.303437 -0.186145 -0.650864  \n",
      "25917  1.320840  1.499908 -0.677587 -0.312108 -0.495393 -0.915397  \n",
      "\n",
      "[25918 rows x 19 columns]\n"
     ]
    }
   ],
   "source": [
    "# split features\n",
    "# split_movies_meta_em = movies_meta_em.copy()\n",
    "# all_cols = ['original_title','cast','director','genres','production_companies','vote_average','keywords']\n",
    "split_movies_meta_em[['p1','p2','p3']] = pd.DataFrame(split_movies_meta_em['production_companies'].tolist(), index= split_movies_meta_em.index)\n",
    "split_movies_meta_em.drop('production_companies', inplace=True, axis=1)\n",
    "\n",
    "# print(type(split_movies['vote_ave']))\n",
    "print(split_movies_meta_em)"
   ]
  },
  {
   "cell_type": "code",
   "execution_count": 38,
   "metadata": {},
   "outputs": [],
   "source": [
    "# -----KNN------\n",
    "# import libs\n",
    "from sklearn.neighbors import KNeighborsClassifier\n",
    "# from sklearn.linear_model import LinearRegression\n",
    "from IPython.display import display\n",
    "from sklearn.metrics import confusion_matrix\n",
    "from sklearn.metrics import plot_confusion_matrix\n"
   ]
  },
  {
   "cell_type": "code",
   "execution_count": 40,
   "metadata": {},
   "outputs": [
    {
     "name": "stdout",
     "output_type": "stream",
     "text": [
      "           id  vote_average\n",
      "0      135397           6.5\n",
      "1       76341           7.1\n",
      "2      262500           6.3\n",
      "3      140607           7.5\n",
      "4      168259           7.3\n",
      "...       ...           ...\n",
      "10861      21           7.4\n",
      "10862   20379           5.7\n",
      "10863   39768           6.5\n",
      "10864   21449           5.4\n",
      "10865   22293           1.5\n",
      "\n",
      "[10866 rows x 2 columns]\n"
     ]
    }
   ],
   "source": [
    "print(movies)"
   ]
  },
  {
   "cell_type": "code",
   "execution_count": 41,
   "metadata": {},
   "outputs": [],
   "source": [
    "split_movies_meta_em2 = split_movies_meta_em.copy()\n",
    "split_movies_meta_em2.drop('vote_average', inplace=True, axis=1)\n",
    "split_movies_meta_em2['rating'] = list(map(lambda x: 0 if x <= 3 else (1 if x>3 and x < 7 else 2)\n",
    ", split_movies_meta_em['vote_average'].tolist()))\n"
   ]
  },
  {
   "cell_type": "code",
   "execution_count": 42,
   "metadata": {},
   "outputs": [
    {
     "data": {
      "text/plain": [
       "(20743, 5175)"
      ]
     },
     "execution_count": 42,
     "metadata": {},
     "output_type": "execute_result"
    }
   ],
   "source": [
    "#define training and validation split\n",
    "cond = np.random.rand(len(split_movies_meta_em2))>.2\n",
    "train = np.where(cond)[0]\n",
    "valid = np.where(~cond)[0]\n",
    "\n",
    "len(train), len(valid)"
   ]
  },
  {
   "cell_type": "code",
   "execution_count": 43,
   "metadata": {},
   "outputs": [
    {
     "data": {
      "text/plain": [
       "(20743, 5175)"
      ]
     },
     "execution_count": 43,
     "metadata": {},
     "output_type": "execute_result"
    }
   ],
   "source": [
    "train_df = split_movies_meta_em2.iloc[train]\n",
    "valid_df = split_movies_meta_em2.iloc[valid]\n",
    "len(train_df), len(valid_df)"
   ]
  },
  {
   "cell_type": "code",
   "execution_count": 44,
   "metadata": {},
   "outputs": [
    {
     "name": "stdout",
     "output_type": "stream",
     "text": [
      "(5175,)\n",
      "(5175, 18)\n"
     ]
    }
   ],
   "source": [
    "train_y = train_df['rating']\n",
    "train_xs = train_df.drop('rating', axis = 1)\n",
    "\n",
    "valid_y = valid_df['rating']\n",
    "valid_xs = valid_df.drop('rating', axis = 1)\n",
    "\n",
    "print(np.array(valid_y).shape)\n",
    "print(np.array(valid_xs).shape)"
   ]
  },
  {
   "cell_type": "code",
   "execution_count": 52,
   "metadata": {},
   "outputs": [
    {
     "name": "stdout",
     "output_type": "stream",
     "text": [
      "0        2\n",
      "1        1\n",
      "3        1\n",
      "18       1\n",
      "24       1\n",
      "        ..\n",
      "25893    1\n",
      "25896    2\n",
      "25909    1\n",
      "25913    0\n",
      "25916    1\n",
      "Name: rating, Length: 5175, dtype: int64\n"
     ]
    }
   ],
   "source": [
    "print(valid_y)"
   ]
  },
  {
   "cell_type": "code",
   "execution_count": 45,
   "metadata": {},
   "outputs": [],
   "source": [
    "#train model\n",
    "m =KNeighborsClassifier()\n",
    "m = m.fit(train_xs, train_y)\n"
   ]
  },
  {
   "cell_type": "code",
   "execution_count": 46,
   "metadata": {},
   "outputs": [
    {
     "name": "stdout",
     "output_type": "stream",
     "text": [
      "0.691207729468599\n"
     ]
    },
    {
     "data": {
      "image/png": "[encoded data removed]",
      "text/plain": [
       "<Figure size 432x288 with 2 Axes>"
      ]
     },
     "metadata": {
      "needs_background": "light"
     },
     "output_type": "display_data"
    }
   ],
   "source": [
    "plot_confusion_matrix(estimator = m, X = valid_xs, y_true = valid_y)\n",
    "std_score = m.score(valid_xs, valid_y) #0.02689143509348857\n",
    "# use StandardScaler precision is higher   0.0386297664695866\n",
    "print(std_score)"
   ]
  },
  {
   "cell_type": "code",
   "execution_count": 49,
   "metadata": {},
   "outputs": [
    {
     "data": {
      "text/html": [
       "<div>\n",
       "<style scoped>\n",
       "    .dataframe tbody tr th:only-of-type {\n",
       "        vertical-align: middle;\n",
       "    }\n",
       "\n",
       "    .dataframe tbody tr th {\n",
       "        vertical-align: top;\n",
       "    }\n",
       "\n",
       "    .dataframe thead th {\n",
       "        text-align: right;\n",
       "    }\n",
       "</style>\n",
       "<table border=\"1\" class=\"dataframe\">\n",
       "  <thead>\n",
       "    <tr style=\"text-align: right;\">\n",
       "      <th></th>\n",
       "      <th>o</th>\n",
       "      <th>c</th>\n",
       "      <th>d</th>\n",
       "      <th>g</th>\n",
       "      <th>p</th>\n",
       "      <th>k</th>\n",
       "    </tr>\n",
       "  </thead>\n",
       "  <tbody>\n",
       "    <tr>\n",
       "      <th>0</th>\n",
       "      <td>0</td>\n",
       "      <td>0</td>\n",
       "      <td>0</td>\n",
       "      <td>0</td>\n",
       "      <td>0</td>\n",
       "      <td>0</td>\n",
       "    </tr>\n",
       "  </tbody>\n",
       "</table>\n",
       "</div>"
      ],
      "text/plain": [
       "   o  c  d  g  p  k\n",
       "0  0  0  0  0  0  0"
      ]
     },
     "execution_count": 49,
     "metadata": {},
     "output_type": "execute_result"
    }
   ],
   "source": [
    "data = {'o': [0], 'c': [0], 'd': [0], 'g': [0], 'p': [0], 'k': [0]}\n",
    "feat_imp = pd.DataFrame(data)\n",
    "feat_imp.head()"
   ]
  },
  {
   "cell_type": "code",
   "execution_count": 50,
   "metadata": {},
   "outputs": [
    {
     "data": {
      "text/html": [
       "<div>\n",
       "<style scoped>\n",
       "    .dataframe tbody tr th:only-of-type {\n",
       "        vertical-align: middle;\n",
       "    }\n",
       "\n",
       "    .dataframe tbody tr th {\n",
       "        vertical-align: top;\n",
       "    }\n",
       "\n",
       "    .dataframe thead th {\n",
       "        text-align: right;\n",
       "    }\n",
       "</style>\n",
       "<table border=\"1\" class=\"dataframe\">\n",
       "  <thead>\n",
       "    <tr style=\"text-align: right;\">\n",
       "      <th></th>\n",
       "      <th>o</th>\n",
       "      <th>c</th>\n",
       "      <th>d</th>\n",
       "      <th>g</th>\n",
       "      <th>p</th>\n",
       "      <th>k</th>\n",
       "    </tr>\n",
       "  </thead>\n",
       "  <tbody>\n",
       "    <tr>\n",
       "      <th>0</th>\n",
       "      <td>0.005024</td>\n",
       "      <td>0.006377</td>\n",
       "      <td>0.004058</td>\n",
       "      <td>0.011208</td>\n",
       "      <td>0.013913</td>\n",
       "      <td>0.005024</td>\n",
       "    </tr>\n",
       "  </tbody>\n",
       "</table>\n",
       "</div>"
      ],
      "text/plain": [
       "          o         c         d         g         p         k\n",
       "0  0.005024  0.006377  0.004058  0.011208  0.013913  0.005024"
      ]
     },
     "execution_count": 50,
     "metadata": {},
     "output_type": "execute_result"
    }
   ],
   "source": [
    "# this result is rating to 3 class(0,1,2) and use knn to predict\n",
    "valid_o = valid_xs.copy()\n",
    "valid_o['o1'] = np.random.permutation(valid_o['o1'])\n",
    "valid_o['o2'] = np.random.permutation(valid_o['o2'])\n",
    "valid_o['o3'] = np.random.permutation(valid_o['o3'])\n",
    "o_score = m.score(valid_o, valid_y)\n",
    "feat_imp['o'] = std_score - o_score\n",
    "\n",
    "valid_c = valid_xs.copy()\n",
    "valid_c['c1'] = np.random.permutation(valid_c['c1'])\n",
    "valid_c['c2'] = np.random.permutation(valid_c['c2'])\n",
    "valid_c['c3'] = np.random.permutation(valid_c['c3'])\n",
    "\n",
    "c_score = m.score(valid_c, valid_y) #0.02689143509348857\n",
    "\n",
    "feat_imp['c'] = std_score - c_score\n",
    "# feat_imp.head()\n",
    "\n",
    "valid_d = valid_xs.copy()\n",
    "valid_d['d1'] = np.random.permutation(valid_d['d1'])\n",
    "valid_d['d2'] = np.random.permutation(valid_d['d2'])\n",
    "valid_d['d3'] = np.random.permutation(valid_d['d3'])\n",
    "\n",
    "d_score = m.score(valid_d, valid_y) #0.02689143509348857\n",
    "\n",
    "feat_imp['d'] = std_score - d_score\n",
    "# feat_imp.head()\n",
    "\n",
    "valid_g = valid_xs.copy()\n",
    "valid_g['g1'] = np.random.permutation(valid_g['g1'])\n",
    "valid_g['g2'] = np.random.permutation(valid_g['g2'])\n",
    "valid_g['g3'] = np.random.permutation(valid_g['g3'])\n",
    "\n",
    "g_score = m.score(valid_g, valid_y) #0.02689143509348857\n",
    "\n",
    "feat_imp['g'] = std_score - g_score\n",
    "# feat_imp.head()\n",
    "\n",
    "valid_p = valid_xs.copy()\n",
    "valid_p['p1'] = np.random.permutation(valid_p['p1'])\n",
    "valid_p['p2'] = np.random.permutation(valid_p['p2'])\n",
    "valid_p['p3'] = np.random.permutation(valid_p['p3'])\n",
    "\n",
    "p_score = m.score(valid_p, valid_y) #0.02689143509348857\n",
    "# print(p_score)\n",
    "feat_imp['p'] = std_score - p_score\n",
    "# feat_imp.head()\n",
    "\n",
    "valid_k = valid_xs.copy()\n",
    "valid_k['k1'] = np.random.permutation(valid_k['k1'])\n",
    "valid_k['k2'] = np.random.permutation(valid_k['k2'])\n",
    "valid_k['k3'] = np.random.permutation(valid_k['k3'])\n",
    "\n",
    "k_score = m.score(valid_k, valid_y) #0.02689143509348857\n",
    "\n",
    "feat_imp['k'] = std_score - k_score\n",
    "feat_imp.head()\n",
    "\n"
   ]
  }
 ],
 "metadata": {
  "kernelspec": {
   "display_name": "Python 3.6.12 ('py36')",
   "language": "python",
   "name": "python3"
  },
  "language_info": {
   "codemirror_mode": {
    "name": "ipython",
    "version": 3
   },
   "file_extension": ".py",
   "mimetype": "text/x-python",
   "name": "python",
   "nbconvert_exporter": "python",
   "pygments_lexer": "ipython3",
   "version": "3.6.12 |Anaconda, Inc.| (default, Sep  9 2020, 00:29:25) [MSC v.1916 64 bit (AMD64)]"
  },
  "orig_nbformat": 4,
  "vscode": {
   "interpreter": {
    "hash": "65a80066adf52311e4b099f946732f29f233270ec01e58fbcfb8e7e9b391e6c3"
   }
  }
 },
 "nbformat": 4,
 "nbformat_minor": 2
}
