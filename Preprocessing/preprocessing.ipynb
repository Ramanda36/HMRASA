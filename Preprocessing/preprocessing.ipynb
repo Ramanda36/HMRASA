{
 "cells": [
  {
   "attachments": {},
   "cell_type": "markdown",
   "metadata": {},
   "source": [
    "# The code here is for calculating the importance of each attributes"
   ]
  },
  {
   "cell_type": "code",
   "execution_count": 1,
   "metadata": {},
   "outputs": [],
   "source": [
    "import csv\n",
    "import pandas as pd\n",
    "import numpy as np\n"
   ]
  },
  {
   "cell_type": "code",
   "execution_count": 30,
   "metadata": {},
   "outputs": [
    {
     "name": "stdout",
     "output_type": "stream",
     "text": [
      "           id    imdb_id  popularity     budget     revenue  \\\n",
      "0      135397  tt0369610   32.985763  150000000  1513528810   \n",
      "1       76341  tt1392190   28.419936  150000000   378436354   \n",
      "2      262500  tt2908446   13.112507  110000000   295238201   \n",
      "3      140607  tt2488496   11.173104  200000000  2068178225   \n",
      "4      168259  tt2820852    9.335014  190000000  1506249360   \n",
      "...       ...        ...         ...        ...         ...   \n",
      "10861      21  tt0060371    0.080598          0           0   \n",
      "10862   20379  tt0060472    0.065543          0           0   \n",
      "10863   39768  tt0060161    0.065141          0           0   \n",
      "10864   21449  tt0061177    0.064317          0           0   \n",
      "10865   22293  tt0060666    0.035919      19000           0   \n",
      "\n",
      "                     original_title  \\\n",
      "0                    Jurassic World   \n",
      "1                Mad Max: Fury Road   \n",
      "2                         Insurgent   \n",
      "3      Star Wars: The Force Awakens   \n",
      "4                         Furious 7   \n",
      "...                             ...   \n",
      "10861            The Endless Summer   \n",
      "10862                    Grand Prix   \n",
      "10863           Beregis Avtomobilya   \n",
      "10864        What's Up, Tiger Lily?   \n",
      "10865      Manos: The Hands of Fate   \n",
      "\n",
      "                                                    cast            director  \\\n",
      "0      Chris Pratt|Bryce Dallas Howard|Irrfan Khan|Vi...     Colin Trevorrow   \n",
      "1      Tom Hardy|Charlize Theron|Hugh Keays-Byrne|Nic...       George Miller   \n",
      "2      Shailene Woodley|Theo James|Kate Winslet|Ansel...    Robert Schwentke   \n",
      "3      Harrison Ford|Mark Hamill|Carrie Fisher|Adam D...         J.J. Abrams   \n",
      "4      Vin Diesel|Paul Walker|Jason Statham|Michelle ...           James Wan   \n",
      "...                                                  ...                 ...   \n",
      "10861  Michael Hynson|Robert August|Lord 'Tally Ho' B...         Bruce Brown   \n",
      "10862  James Garner|Eva Marie Saint|Yves Montand|Tosh...  John Frankenheimer   \n",
      "10863  Innokentiy Smoktunovskiy|Oleg Efremov|Georgi Z...      Eldar Ryazanov   \n",
      "10864  Tatsuya Mihashi|Akiko Wakabayashi|Mie Hama|Joh...         Woody Allen   \n",
      "10865  Harold P. Warren|Tom Neyman|John Reynolds|Dian...    Harold P. Warren   \n",
      "\n",
      "       runtime                                     genres  \\\n",
      "0          124  Action|Adventure|Science Fiction|Thriller   \n",
      "1          120  Action|Adventure|Science Fiction|Thriller   \n",
      "2          119         Adventure|Science Fiction|Thriller   \n",
      "3          136   Action|Adventure|Science Fiction|Fantasy   \n",
      "4          137                      Action|Crime|Thriller   \n",
      "...        ...                                        ...   \n",
      "10861       95                                Documentary   \n",
      "10862      176                     Action|Adventure|Drama   \n",
      "10863       94                             Mystery|Comedy   \n",
      "10864       80                              Action|Comedy   \n",
      "10865       74                                     Horror   \n",
      "\n",
      "                                    production_companies  vote_count  \\\n",
      "0      Universal Studios|Amblin Entertainment|Legenda...        5562   \n",
      "1      Village Roadshow Pictures|Kennedy Miller Produ...        6185   \n",
      "2      Summit Entertainment|Mandeville Films|Red Wago...        2480   \n",
      "3              Lucasfilm|Truenorth Productions|Bad Robot        5292   \n",
      "4      Universal Pictures|Original Film|Media Rights ...        2947   \n",
      "...                                                  ...         ...   \n",
      "10861                                  Bruce Brown Films          11   \n",
      "10862  Cherokee Productions|Joel Productions|Douglas ...          20   \n",
      "10863                                            Mosfilm          11   \n",
      "10864                            Benedict Pictures Corp.          22   \n",
      "10865                                          Norm-Iris          15   \n",
      "\n",
      "       vote_average  release_year  \n",
      "0               6.5          2015  \n",
      "1               7.1          2015  \n",
      "2               6.3          2015  \n",
      "3               7.5          2015  \n",
      "4               7.3          2015  \n",
      "...             ...           ...  \n",
      "10861           7.4          1966  \n",
      "10862           5.7          1966  \n",
      "10863           6.5          1966  \n",
      "10864           5.4          1966  \n",
      "10865           1.5          1966  \n",
      "\n",
      "[10866 rows x 14 columns]\n"
     ]
    }
   ],
   "source": [
    "# movie meta data\n",
    "movie_Info = pd.read_csv('tmdb-movies.csv')\n",
    "# movie_Info.head()\n",
    "# movie_Info.shape\n",
    "movie_Info.head\n",
    "drop_cols = ['revenue_adj','budget_adj','release_date','overview','keywords','tagline','homepage']\n",
    "movie_Info.drop(drop_cols, inplace=True, axis=1)\n",
    "print(movie_Info)\n"
   ]
  },
  {
   "cell_type": "code",
   "execution_count": 31,
   "metadata": {},
   "outputs": [],
   "source": [
    "movie_Info.to_csv('movie_info.csv',index = False)"
   ]
  },
  {
   "cell_type": "code",
   "execution_count": 98,
   "metadata": {},
   "outputs": [],
   "source": [
    "movie_Info = pd.read_csv('movie_info.csv')\n",
    "# print(movie_Info.genres)\n"
   ]
  },
  {
   "cell_type": "code",
   "execution_count": null,
   "metadata": {},
   "outputs": [],
   "source": [
    "# split function-----\n",
    "def split_values(data):\n",
    "    nan_index = []\n",
    "    # u_genres = []\n",
    "    column_list = movie_Info[data].to_list()\n",
    "    for g in range(len(column_list)):\n",
    "        try:\n",
    "            column_list[g] = column_list[g].replace(\" \", \"\").split('|')\n",
    "\n",
    "        except:\n",
    "            nan_index.append(g)\n",
    "    print(len(nan_index))\n",
    "    movie_Info[data] = column_list\n",
    "    # return nan_index, column_list\n",
    "    # print(nan_index)\n",
    "\n",
    "\n",
    "# --genres--\n",
    "\n",
    "# --director--\n",
    "# index, col_List = split_values(\"director\")\n",
    "# print(col_List)\n",
    "# --cast--\n",
    "\n",
    "# --all col--\n",
    "multi_values = ['cast','director','genres','production_companies']\n",
    "for col in multi_values:\n",
    "    split_values(col)\n",
    "# print(movie_Info)\n",
    "\n"
   ]
  },
  {
   "cell_type": "code",
   "execution_count": 100,
   "metadata": {},
   "outputs": [
    {
     "name": "stdout",
     "output_type": "stream",
     "text": [
      "1095\n",
      "(9771, 14)\n"
     ]
    }
   ],
   "source": [
    "# print(movie_Info.shape)\n",
    "nan_values = movie_Info[movie_Info.isna().any(axis=1)]\n",
    "print(len(nan_values))\n",
    "# dic = {'A': [1, 4, 1, 4], 'B': [9, 2, 5, 3], 'C': [0, 0, 5, 3]}\n",
    "# df = pd.DataFrame(dic)\n",
    "# df['A'] = [5,5,5,5]\n",
    "# print(df)\n",
    "movie_Info = movie_Info.dropna()\n",
    "print(movie_Info.shape)\n",
    "# print(movie_Info)\n"
   ]
  },
  {
   "cell_type": "code",
   "execution_count": 5,
   "metadata": {},
   "outputs": [],
   "source": [
    "# --title--\n",
    "import string\n",
    "from sklearn.metrics.pairwise import cosine_similarity\n",
    "from sklearn.feature_extraction.text import CountVectorizer\n",
    "from nltk.corpus import stopwords\n",
    "stopwords = stopwords.words('english')"
   ]
  },
  {
   "cell_type": "code",
   "execution_count": 366,
   "metadata": {},
   "outputs": [
    {
     "name": "stdout",
     "output_type": "stream",
     "text": [
      "          id  popularity           original_title  \\\n",
      "0     135397   32.985763           jurassic world   \n",
      "1      76341   28.419936        mad max fury road   \n",
      "2     262500   13.112507                insurgent   \n",
      "3     140607   11.173104  star wars force awakens   \n",
      "4     168259    9.335014                 furious    \n",
      "...      ...         ...                      ...   \n",
      "8596      21    0.080598           endless summer   \n",
      "8597   20379    0.065543               grand prix   \n",
      "8598   39768    0.065141      beregis avtomobilya   \n",
      "8599   21449    0.064317         whats tiger lily   \n",
      "8600   22293    0.035919         manos hands fate   \n",
      "\n",
      "                                                   cast             director  \\\n",
      "0     [chrispratt, brycedallashoward, irrfankhan, vi...     [colintrevorrow]   \n",
      "1     [tomhardy, charlizetheron, hughkeaysbyrne, nic...       [georgemiller]   \n",
      "2     [shailenewoodley, theojames, katewinslet, anse...    [robertschwentke]   \n",
      "3     [harrisonford, markhamill, carriefisher, adamd...           [jjabrams]   \n",
      "4     [vindiesel, paulwalker, jasonstatham, michelle...           [jameswan]   \n",
      "...                                                 ...                  ...   \n",
      "8596  [michaelhynson, robertaugust, lordtallyhoblear...         [brucebrown]   \n",
      "8597  [jamesgarner, evamariesaint, yvesmontand, tosh...  [johnfrankenheimer]   \n",
      "8598  [innokentiysmoktunovskiy, olegefremov, georgiz...      [eldarryazanov]   \n",
      "8599  [tatsuyamihashi, akikowakabayashi, miehama, jo...         [woodyallen]   \n",
      "8600  [haroldpwarren, tomneyman, johnreynolds, diane...      [haroldpwarren]   \n",
      "\n",
      "                                             genres  \\\n",
      "0     [action, adventure, sciencefiction, thriller]   \n",
      "1     [action, adventure, sciencefiction, thriller]   \n",
      "2             [adventure, sciencefiction, thriller]   \n",
      "3      [action, adventure, sciencefiction, fantasy]   \n",
      "4                         [action, crime, thriller]   \n",
      "...                                             ...   \n",
      "8596                                  [documentary]   \n",
      "8597                     [action, adventure, drama]   \n",
      "8598                              [mystery, comedy]   \n",
      "8599                               [action, comedy]   \n",
      "8600                                       [horror]   \n",
      "\n",
      "                                   production_companies  vote_average  \\\n",
      "0     [universalstudios, amblinentertainment, legend...           6.5   \n",
      "1     [villageroadshowpictures, kennedymillerproduct...           7.1   \n",
      "2     [summitentertainment, mandevillefilms, redwago...           6.3   \n",
      "3           [lucasfilm, truenorthproductions, badrobot]           7.5   \n",
      "4     [universalpictures, originalfilm, mediarightsc...           7.3   \n",
      "...                                                 ...           ...   \n",
      "8596                                  [brucebrownfilms]           7.4   \n",
      "8597  [cherokeeproductions, joelproductions, douglas...           5.7   \n",
      "8598                                          [mosfilm]           6.5   \n",
      "8599                             [benedictpicturescorp]           5.4   \n",
      "8600                                         [normiris]           1.5   \n",
      "\n",
      "                                  keywords  \n",
      "0         [monster, dna, tyrannosaurusrex]  \n",
      "1         [future, chase, postapocalyptic]  \n",
      "2     [basedonnovel, revolution, dystopia]  \n",
      "3               [android, spaceship, jedi]  \n",
      "4                [carrace, speed, revenge]  \n",
      "...                                    ...  \n",
      "8596          [surfer, surfboard, surfing]  \n",
      "8597         [carrace, racing, formulaone]  \n",
      "8598           [car, trolley, stealingcar]  \n",
      "8599                               [spoof]  \n",
      "8600                    [fire, gun, drive]  \n",
      "\n",
      "[8601 rows x 9 columns]\n"
     ]
    }
   ],
   "source": [
    "import re\n",
    "\n",
    "num = r'[0-9]+'\n",
    "def clean_string(text):\n",
    "    text = [''.join(c for c in s if c not in string.punctuation) for s in text]\n",
    "    text = [word.lower() for word in text]\n",
    "    text = [''.join(c for c in s if c not in num) for s in text]\n",
    "    return text\n",
    "# def clean_string(text):\n",
    "#     text = ''.join([word for word in text if word not in string.punctuation])\n",
    "#     text = text.lower()\n",
    "#     text = ' '.join([word for word in text.split() if word not in stopwords])\n",
    "#     text = re.sub(num, '', text)\n",
    "#     return text    \n",
    "\n",
    "# sentences = ['123','234']\n",
    "\n",
    "movies['keywords'] = list(map(clean_string, movies['keywords']))\n",
    "# print(movie_Info['original_title'])\n",
    "# for col in multi_values:\n",
    "#     movie_Info[col] = list(map(clean_string, movie_Info[col]))\n",
    "print(movies)\n",
    "\n"
   ]
  },
  {
   "cell_type": "code",
   "execution_count": 114,
   "metadata": {},
   "outputs": [],
   "source": [
    "# movie_Info.drop(['imdb_id','runtime','vote_count','release_year'], inplace=True, axis=1)\n",
    "movie_Info.to_csv('movie_info_fin.csv',index = False)\n",
    "movie_Info_fin = pd.read_csv('movie_info_fin.csv')"
   ]
  },
  {
   "cell_type": "code",
   "execution_count": 367,
   "metadata": {},
   "outputs": [
    {
     "name": "stdout",
     "output_type": "stream",
     "text": [
      "0                  [jurassic, world]\n",
      "1             [mad, max, fury, road]\n",
      "2                        [insurgent]\n",
      "3       [star, wars, force, awakens]\n",
      "4                          [furious]\n",
      "                    ...             \n",
      "8596               [endless, summer]\n",
      "8597                   [grand, prix]\n",
      "8598          [beregis, avtomobilya]\n",
      "8599            [whats, tiger, lily]\n",
      "8600            [manos, hands, fate]\n",
      "Name: original_title, Length: 8601, dtype: object\n"
     ]
    }
   ],
   "source": [
    "# split original title\n",
    "        # i remove the cell with this code accidently\n",
    "movies['original_title'] = list(map(lambda x: list(x.split(\" \")), movies['original_title'].tolist()))\n",
    "movies['original_title']  = list(map(lambda x: [ele for ele in x if ele.strip()], movies['original_title'].tolist()))\n",
    "\n",
    "print(movies['original_title'])\n"
   ]
  },
  {
   "cell_type": "code",
   "execution_count": null,
   "metadata": {},
   "outputs": [],
   "source": [
    "# from ast import literal_eval\n",
    "# keywords = pd.read_csv('keywords.csv')\n",
    "# keywords['id'] = keywords['id'].astype('int')\n",
    "# movies = movie_Info_fin.merge(keywords, on='id')\n",
    "print(movies)\n",
    "\n",
    "movies.to_csv('movies_fin.csv',index = False)\n",
    "# movies['keywords'] = movies['keywords'].apply(literal_eval)\n",
    "# movies['keywords'] = movies['keywords'].apply(lambda x: [i['name'].lower() for i in x])\n",
    "# movies['keywords'] = movies['keywords'].apply(lambda x: x[:3] if len(x)>3 else x)\n",
    "# movies['keywords'] = movies['keywords'].apply(lambda x: [i.replace(' ','') for i in x])\n",
    "\n"
   ]
  },
  {
   "cell_type": "code",
   "execution_count": 191,
   "metadata": {},
   "outputs": [
    {
     "name": "stdout",
     "output_type": "stream",
     "text": [
      "(8601, 9)\n"
     ]
    }
   ],
   "source": [
    "# import ast\n",
    "# movies = pd.read_csv('movies_fin.csv')\n",
    "print(movies.shape)\n",
    "# movies.drop(['budget','revenue'], inplace=True, axis=1)\n",
    "movies.to_csv('movies_fin3.csv',index = False)\n",
    "# movies['keywords'] = [pd.NA if not ast.literal_eval(k) else ast.literal_eval(k) for k in movies.keywords.tolist()]\n",
    "# movies = movies.dropna(how='any')           # assign back\n",
    "# movies.dropna(how='any', inplace=True)  # set inplace parameter\n",
    "\n",
    "\n",
    "\n"
   ]
  },
  {
   "cell_type": "code",
   "execution_count": 30,
   "metadata": {},
   "outputs": [],
   "source": [
    "from ast import literal_eval\n",
    "movies = pd.read_csv('movies_wo_padding.csv')\n",
    "# # literal_eval first\n",
    "all_cols = ['original_title','cast','director','genres','production_companies','keywords']\n",
    "# # #changing columns into python objects\n",
    "for c in all_cols:\n",
    "    movies[c] = movies[c].apply(literal_eval)\n",
    "    # movies[c] = movies[c].to_numpy()\n",
    "\n",
    "# print(type(movies['cast'][0]))\n",
    "# print(movies['cast'][6][2])\n",
    "# print(movies['director'][0][0])\n",
    "# print(movies)\n",
    "\n",
    "# movies['str_metadata'] = movies.apply(lambda x : ' '.join(x['cast']) + ' ' + ' '.join(x['director']) + ' ' + ' '.join(x['genres']) + ' '+ ' '.join(x['production_companies'])+ ' ' + ' '.join(x['keywords']), axis = 1)\n",
    "# print(movies.str_metadata)"
   ]
  },
  {
   "cell_type": "code",
   "execution_count": 543,
   "metadata": {},
   "outputs": [
    {
     "name": "stdout",
     "output_type": "stream",
     "text": [
      "          id  popularity       original_title                   cast director  \\\n",
      "0     135397   32.985763          [3336, 293]     [5794, 3503, 4400]   [9684]   \n",
      "1      76341   28.419936   [1071, 1513, 1713]      [1388, 359, 8363]   [1641]   \n",
      "2     262500   13.112507               [7354]      [2879, 8364, 360]   [3739]   \n",
      "3     140607   11.173104    [260, 1208, 2741]      [227, 1389, 2431]   [2955]   \n",
      "4     168259    9.335014               [2742]        [746, 688, 347]   [2169]   \n",
      "...      ...         ...                  ...                    ...      ...   \n",
      "8596      21    0.080598          [7471, 494]  [21019, 21020, 21021]  [23173]   \n",
      "8597   20379    0.065543        [2766, 15539]     [1438, 4752, 9646]   [1463]   \n",
      "8598   39768    0.065141       [15540, 15541]  [21022, 21023, 21024]  [23174]   \n",
      "8599   21449    0.064317  [2388, 1732, 15542]   [21025, 9656, 21026]     [80]   \n",
      "8600   22293    0.035919  [15543, 3399, 8362]   [9683, 21027, 21028]   [9683]   \n",
      "\n",
      "         genres  production_companies  vote_average              keywords  \n",
      "0     [3, 6, 9]       [853, 103, 233]           6.5      [52, 2678, 2274]  \n",
      "1     [3, 6, 9]            [61, 1660]           7.1       [145, 526, 234]  \n",
      "2     [6, 9, 4]     [113, 1906, 3851]           6.3        [18, 1554, 70]  \n",
      "3     [3, 6, 9]    [718, 23175, 2216]           7.5     [396, 1313, 5748]  \n",
      "4     [3, 8, 4]       [14, 276, 1043]           7.3       [612, 2773, 55]  \n",
      "...         ...                   ...           ...                   ...  \n",
      "8596       [20]               [26969]           7.4   [1767, 11631, 2301]  \n",
      "8597  [3, 6, 1]  [11105, 7038, 26970]           5.7    [612, 8093, 28986]  \n",
      "8598    [12, 2]               [11101]           6.5  [1213, 28987, 28988]  \n",
      "8599     [3, 2]               [26971]           5.4                 [616]  \n",
      "8600        [5]               [26972]           1.5      [102, 135, 1352]  \n",
      "\n",
      "[8601 rows x 9 columns]\n"
     ]
    }
   ],
   "source": [
    "print(movies)"
   ]
  },
  {
   "cell_type": "code",
   "execution_count": 374,
   "metadata": {},
   "outputs": [
    {
     "name": "stdout",
     "output_type": "stream",
     "text": [
      "(['chacun', 'son', 'cinema', 'ou', 'ce', 'petit', 'coup', 'au', 'coeur', 'quand', 'la', 'lumiere', 'seteint', 'et', 'que', 'le', 'film', 'commence'], 18)\n",
      "(['chrispratt', 'brycedallashoward', 'irrfankhan'], 3)\n",
      "(['roxannebenjamin', 'davidbruckner', 'patrickhorvath'], 3)\n",
      "(['action', 'adventure', 'sciencefiction'], 3)\n",
      "(['universalstudios', 'amblinentertainment', 'legendarypictures'], 3)\n",
      "(['monster', 'dna', 'tyrannosaurusrex'], 3)\n"
     ]
    }
   ],
   "source": [
    "# length list in a nested list\n",
    " \n",
    "def FindMaxLength(lst):\n",
    "    maxList = max(lst, key = lambda i: len(i))\n",
    "    maxLength = max(len(x) for x in lst )\n",
    " \n",
    "    return maxList, maxLength\n",
    "     \n",
    "# Driver Code\n",
    "str_col = ['original_title','cast','director','genres','production_companies','keywords']\n",
    "for c in str_col:\n",
    "    lst = movies[c]\n",
    "    print(FindMaxLength(lst))"
   ]
  },
  {
   "cell_type": "code",
   "execution_count": 377,
   "metadata": {},
   "outputs": [],
   "source": [
    "\n",
    "# movies.drop(['id'], inplace=True, axis=1)\n",
    "cols_wo_title = ['original_title','cast','director','genres','production_companies','keywords']\n",
    "for c in cols_wo_title:\n",
    "    movies[c] = movies[c].apply(lambda x: x[:3] if len(x)>3 else x)"
   ]
  },
  {
   "cell_type": "code",
   "execution_count": 375,
   "metadata": {},
   "outputs": [
    {
     "name": "stdout",
     "output_type": "stream",
     "text": [
      "2.0302290431345194\n"
     ]
    }
   ],
   "source": [
    "from statistics import mean\n",
    "import numpy as np\n",
    "# list(map(np.mean, movies['original_title'].tolist()))\n",
    "temp = []\n",
    "# str_col = ['original_title','cast','director','genres','production_companies','keywords']\n",
    "# for c in str_col:\n",
    "temp = list(map(lambda x: len(x), movies['original_title'].tolist()))\n",
    "print(mean(temp)) #ave = 2.03，我算4"
   ]
  },
  {
   "cell_type": "code",
   "execution_count": 376,
   "metadata": {},
   "outputs": [
    {
     "name": "stdout",
     "output_type": "stream",
     "text": [
      "0                  [jurassic, world]\n",
      "1             [mad, max, fury, road]\n",
      "2                        [insurgent]\n",
      "3       [star, wars, force, awakens]\n",
      "4                          [furious]\n",
      "                    ...             \n",
      "8596               [endless, summer]\n",
      "8597                   [grand, prix]\n",
      "8598          [beregis, avtomobilya]\n",
      "8599            [whats, tiger, lily]\n",
      "8600            [manos, hands, fate]\n",
      "Name: original_title, Length: 8601, dtype: object\n"
     ]
    }
   ],
   "source": [
    "print(movies['original_title'])"
   ]
  },
  {
   "cell_type": "code",
   "execution_count": 379,
   "metadata": {},
   "outputs": [],
   "source": [
    "from keras_preprocessing.text import Tokenizer\n",
    "all_str_col = ['original_title','cast','director','genres','production_companies','keywords']\n",
    "col_concat = []\n",
    "# dict makes from whole features' words\n",
    "for c in all_str_col:\n",
    "    col_concat.extend(movies[c].tolist())\n",
    "# embedding for each col\n",
    "for c in all_str_col:\n",
    "    token = Tokenizer()\n",
    "    token.fit_on_texts(col_concat)\n",
    "    movies[c] = token.texts_to_sequences(movies[c].tolist())\n",
    "\n"
   ]
  },
  {
   "cell_type": "code",
   "execution_count": null,
   "metadata": {},
   "outputs": [],
   "source": [
    "print(movies)\n",
    "# print(type(movies.cast))"
   ]
  },
  {
   "cell_type": "code",
   "execution_count": 460,
   "metadata": {},
   "outputs": [],
   "source": [
    "# test_movies = movies\n",
    "# print(test_movies)\n",
    "# movies.to_csv('movies_wo_padding.csv',index = False)\n",
    "movies = pd.read_csv('movies_wo_padding.csv')"
   ]
  },
  {
   "cell_type": "code",
   "execution_count": 32,
   "metadata": {},
   "outputs": [
    {
     "name": "stdout",
     "output_type": "stream",
     "text": [
      "          id  popularity                                     original_title  \\\n",
      "0     135397   32.985763  [-0.33657873094753044, 0.049547543890164705, -...   \n",
      "1      76341   28.419936  [0.047539687999847424, -0.34824864560604335, -...   \n",
      "2     262500   13.112507  [-0.33657873094753044, -0.6783998440195173, 0....   \n",
      "3     140607   11.173104  [-0.24332869460176176, -0.4148025884455077, -0...   \n",
      "4     168259    9.335014  [-0.33657873094753044, -0.6783998440195173, -0...   \n",
      "...      ...         ...                                                ...   \n",
      "8596      21    0.080598  [-0.33657873094753044, 0.9518444410743777, -1....   \n",
      "8597   20379    0.065543  [-0.33657873094753044, -0.07483195584260469, 1...   \n",
      "8598   39768    0.065141  [-0.33657873094753044, 2.712578096063354, 1.76...   \n",
      "8599   21449    0.064317  [0.5198869874897603, -0.30046073255082145, 1.7...   \n",
      "8600   22293    0.035919  [5.23798017259971, 0.06329475175536553, 0.4288...   \n",
      "\n",
      "                                                   cast  \\\n",
      "0     [0.25834723574560076, -0.4136894808318079, -0....   \n",
      "1     [-0.48446764808847487, -0.8746723918249092, 0....   \n",
      "2     [-0.23309747291902258, 0.2990452298353249, -1....   \n",
      "3     [-0.6802025732204225, -0.723650636633149, -0.7...   \n",
      "4     [-0.5927034981614382, -0.8264334040015218, -1....   \n",
      "...                                                 ...   \n",
      "8596  [2.8251553624759236, 2.154706718871168, 1.8216...   \n",
      "8597  [-0.47603806474945903, -0.23055727477888696, 0...   \n",
      "8598  [2.8256611374762644, 2.1551465880610468, 1.822...   \n",
      "8599  [2.8261669124766056, 0.4884822276098436, 1.822...   \n",
      "8600  [0.9140002278542526, 2.155733080314219, 1.8225...   \n",
      "\n",
      "                                               director  \\\n",
      "0     [-0.08282599316352698, -0.20872159480748947, 0...   \n",
      "1     [-0.08282599316352698, -0.20872159480748947, -...   \n",
      "2     [-0.08282599316352698, -0.20872159480748947, -...   \n",
      "3     [-0.08282599316352698, -0.20872159480748947, -...   \n",
      "4     [-0.08282599316352698, -0.20872159480748947, -...   \n",
      "...                                                 ...   \n",
      "8596  [-0.08282599316352698, -0.20872159480748947, 1...   \n",
      "8597  [-0.08282599316352698, -0.20872159480748947, -...   \n",
      "8598  [-0.08282599316352698, -0.20872159480748947, 1...   \n",
      "8599  [-0.08282599316352698, -0.20872159480748947, -...   \n",
      "8600  [-0.08282599316352698, -0.20872159480748947, 0...   \n",
      "\n",
      "                                                 genres  \\\n",
      "0     [0.03708238459114142, 0.2753098752559077, 0.18...   \n",
      "1     [0.03708238459114142, 0.2753098752559077, 0.18...   \n",
      "2     [0.5388321326798786, 0.7623065648581692, -0.34...   \n",
      "3     [0.03708238459114142, 0.2753098752559077, 0.18...   \n",
      "4     [0.03708238459114142, 0.5999743349907487, -0.3...   \n",
      "...                                                 ...   \n",
      "8596  [-0.46466736349759574, -0.6986835039486152, 1....   \n",
      "8597  [0.03708238459114142, 0.2753098752559077, -0.6...   \n",
      "8598  [-0.46466736349759574, 1.2493032544604306, -0....   \n",
      "8599  [-0.46466736349759574, -0.21168681434635375, -...   \n",
      "8600  [-0.46466736349759574, -0.6986835039486152, -0...   \n",
      "\n",
      "                                   production_companies  vote_average  \\\n",
      "0     [-0.1493026919212765, -0.5360199560036808, -0....           6.5   \n",
      "1     [-0.321800405366651, -0.5412961781555415, -0.7...           7.1   \n",
      "2     [-0.2989490083920586, -0.3095192764845161, -0....           6.3   \n",
      "3     [-0.17660303343959485, 2.3623847460851537, -0....           7.5   \n",
      "4     [-0.31896925883882543, -0.5142869457114926, -0...           7.3   \n",
      "...                                                 ...           ...   \n",
      "8596  [-0.321800405366651, -0.5489592627094345, 1.66...           7.4   \n",
      "8597  [1.9239054654550187, 0.335184820738087, 1.6653...           5.7   \n",
      "8598  [-0.321800405366651, -0.5489592627094345, 0.14...           6.5   \n",
      "8599  [-0.321800405366651, -0.5489592627094345, 1.66...           5.4   \n",
      "8600  [-0.321800405366651, -0.5489592627094345, 1.66...           1.5   \n",
      "\n",
      "                                               keywords  \n",
      "0     [-0.37389263903152203, -0.14604320337550739, -...  \n",
      "1     [-0.3543791455179982, -0.44574067026997916, -0...  \n",
      "2     [-0.3810266044020576, -0.3025766386865605, -0....  \n",
      "3     [-0.3017136952825737, -0.3361394126278094, -0....  \n",
      "4     [-0.25639203292858287, -0.1328130642700358, -0...  \n",
      "...                                                 ...  \n",
      "8596  [-0.014047032841270877, 1.1007929588485659, -0...  \n",
      "8597  [-0.25639203292858287, 0.608074725636372, 2.43...  \n",
      "8598  [-0.13028870387882138, 3.5178697411071402, 2.4...  \n",
      "8599  [-0.3848034095982235, -0.5189938615276428, -0....  \n",
      "8600  [-0.36340151348661676, -0.5001931375356569, -0...  \n",
      "\n",
      "[8601 rows x 9 columns]\n"
     ]
    }
   ],
   "source": [
    "from keras.preprocessing import sequence\n",
    "# from sklearn.preprocessing import MinMaxScaler\n",
    "from sklearn.preprocessing import StandardScaler\n",
    "all_cols = ['original_title','cast','director','genres','production_companies','keywords']\n",
    "# -------popularity, vote_average to list------------\n",
    "# def tolst(value):\n",
    "#     temp = []\n",
    "#     temp.append(round(value, 2))\n",
    "#     return temp\n",
    "# movies['vote_average'] = list(map(tolst, movies['vote_average']))\n",
    "\n",
    "# paddind dataset-------------------\n",
    "for feature in all_cols:\n",
    "    movies[feature] = list(sequence.pad_sequences(movies[feature].tolist(), maxlen = 3, dtype='float32'))\n",
    "# print(movies)\n",
    "\n",
    "# ----data normalization-----\n",
    "scaler = StandardScaler()\n",
    "for feature in all_cols:\n",
    "    movies[feature] = list(scaler.fit_transform(movies[feature].tolist()))\n",
    "# normalized_movies = scaler.fit_transform(test_movies)\n",
    "print(movies)"
   ]
  },
  {
   "cell_type": "code",
   "execution_count": 33,
   "metadata": {},
   "outputs": [
    {
     "name": "stdout",
     "output_type": "stream",
     "text": [
      "                                         original_title  \\\n",
      "0     [-0.33657873094753044, 0.049547543890164705, -...   \n",
      "1     [0.047539687999847424, -0.34824864560604335, -...   \n",
      "2     [-0.33657873094753044, -0.6783998440195173, 0....   \n",
      "3     [-0.24332869460176176, -0.4148025884455077, -0...   \n",
      "4     [-0.33657873094753044, -0.6783998440195173, -0...   \n",
      "...                                                 ...   \n",
      "8596  [-0.33657873094753044, 0.9518444410743777, -1....   \n",
      "8597  [-0.33657873094753044, -0.07483195584260469, 1...   \n",
      "8598  [-0.33657873094753044, 2.712578096063354, 1.76...   \n",
      "8599  [0.5198869874897603, -0.30046073255082145, 1.7...   \n",
      "8600  [5.23798017259971, 0.06329475175536553, 0.4288...   \n",
      "\n",
      "                                                   cast  \\\n",
      "0     [0.25834723574560076, -0.4136894808318079, -0....   \n",
      "1     [-0.48446764808847487, -0.8746723918249092, 0....   \n",
      "2     [-0.23309747291902258, 0.2990452298353249, -1....   \n",
      "3     [-0.6802025732204225, -0.723650636633149, -0.7...   \n",
      "4     [-0.5927034981614382, -0.8264334040015218, -1....   \n",
      "...                                                 ...   \n",
      "8596  [2.8251553624759236, 2.154706718871168, 1.8216...   \n",
      "8597  [-0.47603806474945903, -0.23055727477888696, 0...   \n",
      "8598  [2.8256611374762644, 2.1551465880610468, 1.822...   \n",
      "8599  [2.8261669124766056, 0.4884822276098436, 1.822...   \n",
      "8600  [0.9140002278542526, 2.155733080314219, 1.8225...   \n",
      "\n",
      "                                               director  \\\n",
      "0     [-0.08282599316352698, -0.20872159480748947, 0...   \n",
      "1     [-0.08282599316352698, -0.20872159480748947, -...   \n",
      "2     [-0.08282599316352698, -0.20872159480748947, -...   \n",
      "3     [-0.08282599316352698, -0.20872159480748947, -...   \n",
      "4     [-0.08282599316352698, -0.20872159480748947, -...   \n",
      "...                                                 ...   \n",
      "8596  [-0.08282599316352698, -0.20872159480748947, 1...   \n",
      "8597  [-0.08282599316352698, -0.20872159480748947, -...   \n",
      "8598  [-0.08282599316352698, -0.20872159480748947, 1...   \n",
      "8599  [-0.08282599316352698, -0.20872159480748947, -...   \n",
      "8600  [-0.08282599316352698, -0.20872159480748947, 0...   \n",
      "\n",
      "                                                 genres  \\\n",
      "0     [0.03708238459114142, 0.2753098752559077, 0.18...   \n",
      "1     [0.03708238459114142, 0.2753098752559077, 0.18...   \n",
      "2     [0.5388321326798786, 0.7623065648581692, -0.34...   \n",
      "3     [0.03708238459114142, 0.2753098752559077, 0.18...   \n",
      "4     [0.03708238459114142, 0.5999743349907487, -0.3...   \n",
      "...                                                 ...   \n",
      "8596  [-0.46466736349759574, -0.6986835039486152, 1....   \n",
      "8597  [0.03708238459114142, 0.2753098752559077, -0.6...   \n",
      "8598  [-0.46466736349759574, 1.2493032544604306, -0....   \n",
      "8599  [-0.46466736349759574, -0.21168681434635375, -...   \n",
      "8600  [-0.46466736349759574, -0.6986835039486152, -0...   \n",
      "\n",
      "                                   production_companies  vote_average  \\\n",
      "0     [-0.1493026919212765, -0.5360199560036808, -0....           6.5   \n",
      "1     [-0.321800405366651, -0.5412961781555415, -0.7...           7.1   \n",
      "2     [-0.2989490083920586, -0.3095192764845161, -0....           6.3   \n",
      "3     [-0.17660303343959485, 2.3623847460851537, -0....           7.5   \n",
      "4     [-0.31896925883882543, -0.5142869457114926, -0...           7.3   \n",
      "...                                                 ...           ...   \n",
      "8596  [-0.321800405366651, -0.5489592627094345, 1.66...           7.4   \n",
      "8597  [1.9239054654550187, 0.335184820738087, 1.6653...           5.7   \n",
      "8598  [-0.321800405366651, -0.5489592627094345, 0.14...           6.5   \n",
      "8599  [-0.321800405366651, -0.5489592627094345, 1.66...           5.4   \n",
      "8600  [-0.321800405366651, -0.5489592627094345, 1.66...           1.5   \n",
      "\n",
      "                                               keywords  \n",
      "0     [-0.37389263903152203, -0.14604320337550739, -...  \n",
      "1     [-0.3543791455179982, -0.44574067026997916, -0...  \n",
      "2     [-0.3810266044020576, -0.3025766386865605, -0....  \n",
      "3     [-0.3017136952825737, -0.3361394126278094, -0....  \n",
      "4     [-0.25639203292858287, -0.1328130642700358, -0...  \n",
      "...                                                 ...  \n",
      "8596  [-0.014047032841270877, 1.1007929588485659, -0...  \n",
      "8597  [-0.25639203292858287, 0.608074725636372, 2.43...  \n",
      "8598  [-0.13028870387882138, 3.5178697411071402, 2.4...  \n",
      "8599  [-0.3848034095982235, -0.5189938615276428, -0....  \n",
      "8600  [-0.36340151348661676, -0.5001931375356569, -0...  \n",
      "\n",
      "[8601 rows x 7 columns]\n"
     ]
    }
   ],
   "source": [
    "# test_movies = movies.copy()\n",
    "# temp_movies = movies.copy()\n",
    "# print(test_movies)\n",
    "movies.drop(['id','popularity'], inplace=True, axis=1)\n",
    "print(movies)"
   ]
  },
  {
   "cell_type": "code",
   "execution_count": 563,
   "metadata": {},
   "outputs": [
    {
     "name": "stdout",
     "output_type": "stream",
     "text": [
      "                             popularity  \\\n",
      "0                       [0.0, 0.0, 1.0]   \n",
      "1         [0.0, 0.0, 0.861473132171564]   \n",
      "2        [0.0, 0.0, 0.3973931188137645]   \n",
      "3       [0.0, 0.0, 0.33858743582862005]   \n",
      "4        [0.0, 0.0, 0.2831160860074853]   \n",
      "...                                 ...   \n",
      "8596  [0.0, 0.0, 0.0024249770882575667]   \n",
      "8597  [0.0, 0.0, 0.0021218550086862698]   \n",
      "8598  [0.0, 0.0, 0.0021218550086862698]   \n",
      "8599   [0.0, 0.0, 0.001818732816193175]   \n",
      "8600  [0.0, 0.0, 0.0012124885441287833]   \n",
      "\n",
      "                                         original_title  \\\n",
      "0      [0.0, 0.21467181467181465, 0.018852142581392357]   \n",
      "1     [0.06890561667631732, 0.09736164736164736, 0.1...   \n",
      "2                        [0.0, 0.0, 0.4731694762578819]   \n",
      "3     [0.016727787428424373, 0.07773487773487774, 0....   \n",
      "4                       [0.0, 0.0, 0.17642517050572643]   \n",
      "...                                                 ...   \n",
      "8596    [0.0, 0.48075933075933075, 0.03178484107579462]   \n",
      "8597       [0.0, 0.177992277992278, 0.9998069746493373]   \n",
      "8598      [0.0, 0.9999999999999999, 0.9999356582164458]   \n",
      "8599     [0.1536382937656823, 0.11145431145431145, 1.0]   \n",
      "8600      [1.0, 0.21872586872586872, 0.538025994080556]   \n",
      "\n",
      "                                                   cast  \\\n",
      "0     [0.27557669441141497, 0.16659532981404862, 0.2...   \n",
      "1     [0.0660166468489893, 0.017073286726589625, 0.3...   \n",
      "2     [0.1369322235434007, 0.3977742901983165, 0.013...   \n",
      "3     [0.01079667063020214, 0.06605792552432588, 0.1...   \n",
      "4     [0.03548156956004756, 0.032719836400818, 0.012...   \n",
      "...                                                 ...   \n",
      "8596  [0.9997146254458977, 0.9996670946877825, 0.999...   \n",
      "8597  [0.06839476813317479, 0.225995149094022, 0.456...   \n",
      "8598  [0.9998573127229489, 0.9998097683930186, 0.999...   \n",
      "8599       [1.0, 0.459219099253341, 0.9999045254916938]   \n",
      "8600                    [0.46054696789536265, 1.0, 1.0]   \n",
      "\n",
      "                                director  \\\n",
      "0          [0.0, 0.0, 0.416017316017316]   \n",
      "1        [0.0, 0.0, 0.06783549783549783]   \n",
      "2        [0.0, 0.0, 0.15865800865800866]   \n",
      "3         [0.0, 0.0, 0.1247186147186147]   \n",
      "4        [0.0, 0.0, 0.09069264069264069]   \n",
      "...                                  ...   \n",
      "8596      [0.0, 0.0, 0.9999567099567099]   \n",
      "8597     [0.0, 0.0, 0.06012987012987014]   \n",
      "8598                     [0.0, 0.0, 1.0]   \n",
      "8599  [0.0, 0.0, 0.00025974025974025974]   \n",
      "8600       [0.0, 0.0, 0.415974025974026]   \n",
      "\n",
      "                                                 genres  \\\n",
      "0     [0.03488372093023256, 0.06976744186046512, 0.0...   \n",
      "1     [0.03488372093023256, 0.06976744186046512, 0.0...   \n",
      "2     [0.06976744186046512, 0.10465116279069767, 0.0...   \n",
      "3     [0.03488372093023256, 0.06976744186046512, 0.0...   \n",
      "4     [0.03488372093023256, 0.09302325581395349, 0.0...   \n",
      "...                                                 ...   \n",
      "8596                    [0.0, 0.0, 0.22352941176470587]   \n",
      "8597    [0.03488372093023256, 0.06976744186046512, 0.0]   \n",
      "8598   [0.0, 0.13953488372093023, 0.011764705882352941]   \n",
      "8599   [0.0, 0.03488372093023256, 0.011764705882352941]   \n",
      "8600                   [0.0, 0.0, 0.047058823529411764]   \n",
      "\n",
      "                                   production_companies  \\\n",
      "0     [0.031645334817288075, 0.0038200496977339317, ...   \n",
      "1      [0.0, 0.002262359529725921, 0.06105794198382669]   \n",
      "2     [0.004192172138749769, 0.07068946333864926, 0....   \n",
      "3     [0.02663698757187906, 0.8595111819901347, 0.08...   \n",
      "4     [0.0005193841587831571, 0.010236249675481215, ...   \n",
      "...                                                 ...   \n",
      "8596                     [0.0, 0.0, 0.9998887157801024]   \n",
      "8597  [0.41198293452049717, 0.261024366724771, 0.999...   \n",
      "8598                    [0.0, 0.0, 0.41126938200163216]   \n",
      "8599                     [0.0, 0.0, 0.9999629052600341]   \n",
      "8600                                    [0.0, 0.0, 1.0]   \n",
      "\n",
      "                                               keywords  vote_ave  \n",
      "0     [0.001794526693584567, 0.09238624210853141, 0....       6.5  \n",
      "1     [0.00500396866480312, 0.018146065477627902, 0....       7.1  \n",
      "2     [0.0006211823170100424, 0.053610239072687756, ...       6.3  \n",
      "3     [0.013666010974220934, 0.045296167247386755, 0...       7.5  \n",
      "4     [0.021120198778341443, 0.09566357332597371, 0....       7.3  \n",
      "...                                                 ...       ...  \n",
      "8596  [0.0609793974531525, 0.4012488356849622, 0.079...       7.4  \n",
      "8597  [0.021120198778341443, 0.2791941215027426, 0.9...       5.7  \n",
      "8598                   [0.041860786140732305, 1.0, 1.0]       6.5  \n",
      "8599                   [0.0, 0.0, 0.021216407355021213]       5.4  \n",
      "8600  [0.003520033129723574, 0.004657260151102218, 0...       1.5  \n",
      "\n",
      "[8601 rows x 8 columns]\n"
     ]
    }
   ],
   "source": [
    "# vote_ave = pd.read_csv('movies_fin3.csv')\n",
    "# vote_ave = vote_ave['vote_average'].tolist()\n",
    "# print(len(vote_ave))\n",
    "# movies['vote_ave'] = vote_ave\n",
    "\n",
    "movies.drop('vote_average', inplace=True, axis=1)\n",
    "print(movies)"
   ]
  },
  {
   "cell_type": "code",
   "execution_count": 40,
   "metadata": {},
   "outputs": [
    {
     "name": "stdout",
     "output_type": "stream",
     "text": [
      "      vote_average        o1        o2        o3        c1        c2  \\\n",
      "0              6.5 -0.336579  0.049548 -1.077588  0.258347 -0.413689   \n",
      "1              7.1  0.047540 -0.348249 -0.812474 -0.484468 -0.874672   \n",
      "2              6.3 -0.336579 -0.678400  0.240700 -0.233097  0.299045   \n",
      "3              7.5 -0.243329 -0.414803 -0.620547 -0.680203 -0.723651   \n",
      "4              7.3 -0.336579 -0.678400 -0.620360 -0.592703 -0.826433   \n",
      "...            ...       ...       ...       ...       ...       ...   \n",
      "8596           7.4 -0.336579  0.951844 -1.040061  2.825155  2.154707   \n",
      "8597           5.7 -0.336579 -0.074832  1.768839 -0.476038 -0.230557   \n",
      "8598           6.5 -0.336579  2.712578  1.769212  2.825661  2.155147   \n",
      "8599           5.4  0.519887 -0.300461  1.769399  2.826167  0.488482   \n",
      "8600           1.5  5.237980  0.063295  0.428894  0.914000  2.155733   \n",
      "\n",
      "            c3        d1        d2        d3        g1        g2        g3  \\\n",
      "0    -0.498351 -0.082826 -0.208722  0.167666  0.037082  0.275310  0.189934   \n",
      "1     0.054806 -0.082826 -0.208722 -0.848362  0.037082  0.275310  0.189934   \n",
      "2    -1.062256 -0.082826 -0.208722 -0.583333  0.538832  0.762307 -0.349144   \n",
      "3    -0.773185 -0.082826 -0.208722 -0.682371  0.037082  0.275310  0.189934   \n",
      "4    -1.064071 -0.082826 -0.208722 -0.781662  0.037082  0.599974 -0.349144   \n",
      "...        ...       ...       ...       ...       ...       ...       ...   \n",
      "8596  1.821614 -0.082826 -0.208722  1.871656 -0.464667 -0.698684  1.375904   \n",
      "8597  0.233887 -0.082826 -0.208722 -0.870847  0.037082  0.275310 -0.672590   \n",
      "8598  1.822033 -0.082826 -0.208722  1.871782 -0.464667  1.249303 -0.564775   \n",
      "8599  1.822312 -0.082826 -0.208722 -1.045554 -0.464667 -0.211687 -0.564775   \n",
      "8600  1.822591 -0.082826 -0.208722  0.167539 -0.464667 -0.698684 -0.241328   \n",
      "\n",
      "            p1        p2        p3        k1        k2        k3  \n",
      "0    -0.149303 -0.536020 -0.893720 -0.373893 -0.146043 -0.424721  \n",
      "1    -0.321800 -0.541296 -0.757137 -0.354379 -0.445741 -0.643453  \n",
      "2    -0.298949 -0.309519 -0.547430 -0.381027 -0.302577 -0.661037  \n",
      "3    -0.176603  2.362385 -0.703921 -0.301714 -0.336139 -0.052234  \n",
      "4    -0.318969 -0.514287 -0.816193 -0.256392 -0.132813 -0.662645  \n",
      "...        ...       ...       ...       ...       ...       ...  \n",
      "8596 -0.321800 -0.548959  1.665270 -0.014047  1.100793 -0.421826  \n",
      "8597  1.923905  0.335185  1.665366 -0.256392  0.608075  2.439375  \n",
      "8598 -0.321800 -0.548959  0.146492 -0.130289  3.517870  2.439589  \n",
      "8599 -0.321800 -0.548959  1.665461 -0.384803 -0.518994 -0.602494  \n",
      "8600 -0.321800 -0.548959  1.665557 -0.363402 -0.500193 -0.523579  \n",
      "\n",
      "[8601 rows x 19 columns]\n"
     ]
    }
   ],
   "source": [
    "# split features\n",
    "# split_movies = movies.copy()\n",
    "# all_cols = ['original_title','cast','director','genres','production_companies','vote_average','keywords']\n",
    "# movies[['k1','k2','k3']] = pd.DataFrame(movies['keywords'].tolist(), index= movies.index)\n",
    "# movies.drop('keywords', inplace=True, axis=1)\n",
    "\n",
    "# print(type(split_movies['vote_ave']))\n",
    "print(movies)"
   ]
  },
  {
   "cell_type": "code",
   "execution_count": 74,
   "metadata": {},
   "outputs": [],
   "source": [
    "# -----KNN------\n",
    "# import libs\n",
    "from sklearn.neighbors import KNeighborsClassifier\n",
    "# from sklearn.linear_model import LinearRegression\n",
    "from IPython.display import display\n",
    "from sklearn.metrics import confusion_matrix\n",
    "from sklearn.metrics import plot_confusion_matrix\n"
   ]
  },
  {
   "cell_type": "code",
   "execution_count": 68,
   "metadata": {},
   "outputs": [],
   "source": [
    "# print(split_movies)\n",
    "# movies = split_movies.copy()\n",
    "# moviews_with_newr = movies.copy()\n",
    "# print(moviews_with_newr)\n",
    "moviews_with_newr.drop('vote_average', inplace=True, axis=1)\n"
   ]
  },
  {
   "cell_type": "code",
   "execution_count": 91,
   "metadata": {},
   "outputs": [
    {
     "data": {
      "text/plain": [
       "(6868, 1733)"
      ]
     },
     "execution_count": 91,
     "metadata": {},
     "output_type": "execute_result"
    }
   ],
   "source": [
    "#define training and validation split\n",
    "# dep_var = 'vote_average'\n",
    "\n",
    "cond = np.random.rand(len(moviews_with_newr))>.2\n",
    "train = np.where(cond)[0]\n",
    "valid = np.where(~cond)[0]\n",
    "\n",
    "len(train), len(valid)"
   ]
  },
  {
   "cell_type": "code",
   "execution_count": 77,
   "metadata": {},
   "outputs": [
    {
     "name": "stdout",
     "output_type": "stream",
     "text": [
      "0       1\n",
      "1       2\n",
      "2       1\n",
      "3       2\n",
      "4       2\n",
      "       ..\n",
      "8596    2\n",
      "8597    1\n",
      "8598    1\n",
      "8599    1\n",
      "8600    0\n",
      "Name: rating, Length: 8601, dtype: int64\n"
     ]
    }
   ],
   "source": [
    "# temp_movies = movies.copy()\n",
    "# rating to 1/0\n",
    "movies['rating'] = list(map(lambda x: 0 if x <= 3 else (1 if x>3 and x < 7 else 2)\n",
    ", movies['vote_average'].tolist()))\n",
    "print(movies.rating)"
   ]
  },
  {
   "cell_type": "code",
   "execution_count": null,
   "metadata": {},
   "outputs": [],
   "source": [
    "print(moviews_with_newr)"
   ]
  },
  {
   "cell_type": "code",
   "execution_count": 92,
   "metadata": {},
   "outputs": [
    {
     "data": {
      "text/plain": [
       "(6868, 1733)"
      ]
     },
     "execution_count": 92,
     "metadata": {},
     "output_type": "execute_result"
    }
   ],
   "source": [
    "# moviews_with_newr = movies.copy()\n",
    "# moviews_with_newr.drop('vote_average', inplace=True, axis=1)\n",
    "train_df = moviews_with_newr.iloc[train]\n",
    "valid_df = moviews_with_newr.iloc[valid]\n",
    "len(train_df), len(valid_df)\n"
   ]
  },
  {
   "cell_type": "code",
   "execution_count": 676,
   "metadata": {},
   "outputs": [
    {
     "name": "stdout",
     "output_type": "stream",
     "text": [
      "      vote_ave        o1        o2        o3        c1        c2        c3  \\\n",
      "0          6.5  0.000000  0.214672  0.018852  0.275577  0.166595  0.206225   \n",
      "1          7.1  0.068906  0.097362  0.110217  0.066017  0.017073  0.395408   \n",
      "2          6.3  0.000000  0.000000  0.473169  0.136932  0.397774  0.013366   \n",
      "4          7.3  0.000000  0.000000  0.176425  0.035482  0.032720  0.012746   \n",
      "5          7.2  0.000000  0.000000  0.473234  0.020832  0.066010  0.206273   \n",
      "...        ...       ...       ...       ...       ...       ...       ...   \n",
      "8595       7.0  0.000000  0.071042  0.280466  0.102830  0.225662  0.410111   \n",
      "8596       7.4  0.000000  0.480759  0.031785  0.999715  0.999667  0.999666   \n",
      "8597       5.7  0.000000  0.177992  0.999807  0.068395  0.225995  0.456655   \n",
      "8598       6.5  0.000000  1.000000  0.999936  0.999857  0.999810  0.999809   \n",
      "8600       1.5  1.000000  0.218726  0.538026  0.460547  1.000000  1.000000   \n",
      "\n",
      "       d1   d2        d3        g1        g2        g3        p1        p2  \\\n",
      "0     0.0  0.0  0.416017  0.034884  0.069767  0.094118  0.031645  0.003820   \n",
      "1     0.0  0.0  0.067835  0.034884  0.069767  0.094118  0.000000  0.002262   \n",
      "2     0.0  0.0  0.158658  0.069767  0.104651  0.035294  0.004192  0.070689   \n",
      "4     0.0  0.0  0.090693  0.034884  0.093023  0.035294  0.000519  0.010236   \n",
      "5     0.0  0.0  0.202727  0.500000  0.011628  0.058824  0.002078  0.061603   \n",
      "...   ...  ...       ...       ...       ...       ...       ...       ...   \n",
      "8595  0.0  0.0  0.047229  0.000000  0.000000  0.011765  0.000000  0.147350   \n",
      "8596  0.0  0.0  0.999957  0.000000  0.000000  0.223529  0.000000  0.000000   \n",
      "8597  0.0  0.0  0.060130  0.034884  0.069767  0.000000  0.411983  0.261024   \n",
      "8598  0.0  0.0  1.000000  0.000000  0.139535  0.011765  0.000000  0.000000   \n",
      "8600  0.0  0.0  0.415974  0.000000  0.000000  0.047059  0.000000  0.000000   \n",
      "\n",
      "            p3        k1        k2        k3  \n",
      "0     0.008124  0.001795  0.092386  0.078414  \n",
      "1     0.061058  0.005004  0.018146  0.008038  \n",
      "2     0.142333  0.000621  0.053610  0.002380  \n",
      "4     0.038170  0.021120  0.095664  0.001863  \n",
      "5     0.382484  0.001829  0.002035  0.000586  \n",
      "...        ...       ...       ...       ...  \n",
      "8595  0.410416  0.001795  0.061579  0.069583  \n",
      "8596  0.999889  0.060979  0.401249  0.079346  \n",
      "8597  0.999926  0.021120  0.279194  0.999931  \n",
      "8598  0.411269  0.041861  1.000000  1.000000  \n",
      "8600  1.000000  0.003520  0.004657  0.046607  \n",
      "\n",
      "[6907 rows x 19 columns]\n"
     ]
    }
   ],
   "source": [
    "print(train_df)"
   ]
  },
  {
   "cell_type": "code",
   "execution_count": 93,
   "metadata": {},
   "outputs": [],
   "source": [
    "train_y = train_df['rating']\n",
    "train_xs = train_df.drop('rating', axis = 1)\n"
   ]
  },
  {
   "cell_type": "code",
   "execution_count": 94,
   "metadata": {},
   "outputs": [],
   "source": [
    "valid_y = valid_df['rating']\n",
    "valid_xs = valid_df.drop('rating', axis = 1)"
   ]
  },
  {
   "cell_type": "code",
   "execution_count": 82,
   "metadata": {},
   "outputs": [
    {
     "name": "stdout",
     "output_type": "stream",
     "text": [
      "(1739,)\n",
      "(1739, 18)\n"
     ]
    }
   ],
   "source": [
    "print(np.array(valid_y).shape)\n",
    "print(np.array(valid_xs).shape)\n",
    "# print(valid_xs)"
   ]
  },
  {
   "cell_type": "code",
   "execution_count": 63,
   "metadata": {},
   "outputs": [
    {
     "data": {
      "text/plain": [
       "[1.5,\n",
       " 2.1,\n",
       " 2.2,\n",
       " 2.4,\n",
       " 2.5,\n",
       " 2.6,\n",
       " 2.7,\n",
       " 2.8,\n",
       " 2.9,\n",
       " 3.0,\n",
       " 3.1,\n",
       " 3.2,\n",
       " 3.3,\n",
       " 3.4,\n",
       " 3.5,\n",
       " 3.6,\n",
       " 3.7,\n",
       " 3.8,\n",
       " 3.9,\n",
       " 4.0,\n",
       " 4.1,\n",
       " 4.2,\n",
       " 4.3,\n",
       " 4.4,\n",
       " 4.5,\n",
       " 4.6,\n",
       " 4.7,\n",
       " 4.8,\n",
       " 4.9,\n",
       " 5.0,\n",
       " 5.1,\n",
       " 5.2,\n",
       " 5.3,\n",
       " 5.4,\n",
       " 5.5,\n",
       " 5.6,\n",
       " 5.7,\n",
       " 5.8,\n",
       " 5.9,\n",
       " 6.0,\n",
       " 6.1,\n",
       " 6.2,\n",
       " 6.3,\n",
       " 6.4,\n",
       " 6.5,\n",
       " 6.6,\n",
       " 6.7,\n",
       " 6.8,\n",
       " 6.9,\n",
       " 7.0,\n",
       " 7.1,\n",
       " 7.2,\n",
       " 7.3,\n",
       " 7.4,\n",
       " 7.5,\n",
       " 7.6,\n",
       " 7.7,\n",
       " 7.8,\n",
       " 7.9,\n",
       " 8.0,\n",
       " 8.1,\n",
       " 8.2,\n",
       " 8.3,\n",
       " 8.4,\n",
       " 8.5]"
      ]
     },
     "execution_count": 63,
     "metadata": {},
     "output_type": "execute_result"
    }
   ],
   "source": [
    "\n",
    "# test with label_encoder\n",
    "from sklearn import preprocessing\n",
    "lab_enc = preprocessing.LabelEncoder()\n",
    "lab_enc.fit(train_y)\n",
    "list(lab_enc.classes_)\n",
    "\n",
    "# encoded = lab_enc.fit_transform(train_y)\n",
    "# print(encoded)\n"
   ]
  },
  {
   "cell_type": "code",
   "execution_count": 95,
   "metadata": {},
   "outputs": [],
   "source": [
    "#train model\n",
    "# l = LinearRegression()\n",
    "m =KNeighborsClassifier()\n",
    "# train_xs = train_xs.to_numpy()\n",
    "# train_y = np.array(train_y.tolist())\n",
    "m = m.fit(train_xs, train_y)\n",
    "# print(train_y[0])"
   ]
  },
  {
   "cell_type": "code",
   "execution_count": 103,
   "metadata": {},
   "outputs": [
    {
     "name": "stdout",
     "output_type": "stream",
     "text": [
      "0.8528563185227929\n"
     ]
    },
    {
     "data": {
      "image/png": "[encoded data removed]",
      "text/plain": [
       "<Figure size 432x288 with 2 Axes>"
      ]
     },
     "metadata": {
      "needs_background": "light"
     },
     "output_type": "display_data"
    }
   ],
   "source": [
    "plot_confusion_matrix(estimator = m, X = valid_xs, y_true = valid_y)\n",
    "std_score = m.score(valid_xs, valid_y) #0.02689143509348857\n",
    "# use StandardScaler precision is higher   0.0386297664695866\n",
    "print(std_score)"
   ]
  },
  {
   "cell_type": "code",
   "execution_count": null,
   "metadata": {},
   "outputs": [],
   "source": [
    "data = {'o': [0], 'c': [0], 'd': [0], 'g': [0], 'p': [0], 'k': [0]}\n",
    "feat_imp = pd.DataFrame(data)\n",
    "feat_imp.head()"
   ]
  },
  {
   "cell_type": "code",
   "execution_count": null,
   "metadata": {},
   "outputs": [],
   "source": [
    "# this result is rating to 3 class(0,1,2) and use knn to predict\n",
    "valid_o = valid_xs.copy()\n",
    "valid_o['o1'] = np.random.permutation(valid_o['o1'])\n",
    "valid_o['o2'] = np.random.permutation(valid_o['o2'])\n",
    "valid_o['o3'] = np.random.permutation(valid_o['o3'])\n",
    "o_score = m.score(valid_o, valid_y)\n",
    "feat_imp['o'] = std_score - o_score\n",
    "\n",
    "valid_c = valid_xs.copy()\n",
    "valid_c['c1'] = np.random.permutation(valid_c['c1'])\n",
    "valid_c['c2'] = np.random.permutation(valid_c['c2'])\n",
    "valid_c['c3'] = np.random.permutation(valid_c['c3'])\n",
    "\n",
    "c_score = m.score(valid_c, valid_y) #0.02689143509348857\n",
    "\n",
    "feat_imp['c'] = std_score - c_score\n",
    "# feat_imp.head()\n",
    "\n",
    "valid_d = valid_xs.copy()\n",
    "valid_d['d1'] = np.random.permutation(valid_d['d1'])\n",
    "valid_d['d2'] = np.random.permutation(valid_d['d2'])\n",
    "valid_d['d3'] = np.random.permutation(valid_d['d3'])\n",
    "\n",
    "d_score = m.score(valid_d, valid_y) #0.02689143509348857\n",
    "\n",
    "feat_imp['d'] = std_score - d_score\n",
    "# feat_imp.head()\n",
    "\n",
    "valid_g = valid_xs.copy()\n",
    "valid_g['g1'] = np.random.permutation(valid_g['g1'])\n",
    "valid_g['g2'] = np.random.permutation(valid_g['g2'])\n",
    "valid_g['g3'] = np.random.permutation(valid_g['g3'])\n",
    "\n",
    "g_score = m.score(valid_g, valid_y) #0.02689143509348857\n",
    "\n",
    "feat_imp['g'] = std_score - g_score\n",
    "# feat_imp.head()\n",
    "\n",
    "valid_p = valid_xs.copy()\n",
    "valid_p['p1'] = np.random.permutation(valid_p['p1'])\n",
    "valid_p['p2'] = np.random.permutation(valid_p['p2'])\n",
    "valid_p['p3'] = np.random.permutation(valid_p['p3'])\n",
    "\n",
    "p_score = m.score(valid_p, valid_y) #0.02689143509348857\n",
    "# print(p_score)\n",
    "feat_imp['p'] = std_score - p_score\n",
    "# feat_imp.head()\n",
    "\n",
    "valid_k = valid_xs.copy()\n",
    "valid_k['k1'] = np.random.permutation(valid_k['k1'])\n",
    "valid_k['k2'] = np.random.permutation(valid_k['k2'])\n",
    "valid_k['k3'] = np.random.permutation(valid_k['k3'])\n",
    "\n",
    "k_score = m.score(valid_k, valid_y) #0.02689143509348857\n",
    "\n",
    "feat_imp['k'] = std_score - k_score\n",
    "feat_imp.head()\n",
    "\n"
   ]
  },
  {
   "cell_type": "code",
   "execution_count": 105,
   "metadata": {},
   "outputs": [
    {
     "name": "stdout",
     "output_type": "stream",
     "text": [
      "          o         c         d        g         p         k\n",
      "0  0.002308 -0.000577  0.002308  0.00577  0.002308  0.008656\n"
     ]
    }
   ],
   "source": [
    "print(feat_imp)"
   ]
  }
 ],
 "metadata": {
  "kernelspec": {
   "display_name": "Python 3.6.12 ('py36')",
   "language": "python",
   "name": "python3"
  },
  "language_info": {
   "codemirror_mode": {
    "name": "ipython",
    "version": 3
   },
   "file_extension": ".py",
   "mimetype": "text/x-python",
   "name": "python",
   "nbconvert_exporter": "python",
   "pygments_lexer": "ipython3",
   "version": "3.6.12 |Anaconda, Inc.| (default, Sep  9 2020, 00:29:25) [MSC v.1916 64 bit (AMD64)]"
  },
  "orig_nbformat": 4,
  "vscode": {
   "interpreter": {
    "hash": "65a80066adf52311e4b099f946732f29f233270ec01e58fbcfb8e7e9b391e6c3"
   }
  }
 },
 "nbformat": 4,
 "nbformat_minor": 2
}
