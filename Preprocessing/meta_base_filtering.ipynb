{
 "cells": [
  {
   "cell_type": "code",
   "execution_count": 2,
   "metadata": {},
   "outputs": [],
   "source": [
    "import csv\n",
    "import pandas as pd\n",
    "import numpy as np\n",
    "from ast import literal_eval\n",
    "movies = pd.read_csv('all_movies_meta.csv')\n",
    "# # literal_eval first\n",
    "# all_cols = ['original_title','cast','director','genres','production_companies','keywords']\n",
    "cols = ['cast','director','genres','production_companies','keywords']\n",
    "# # #changing columns into python objects\n",
    "for c in cols:\n",
    "    movies[c] = movies[c].apply(literal_eval)"
   ]
  },
  {
   "cell_type": "code",
   "execution_count": 3,
   "metadata": {},
   "outputs": [
    {
     "name": "stdout",
     "output_type": "stream",
     "text": [
      "25918\n",
      "           id                               original_title  \\\n",
      "0         862                                    Toy Story   \n",
      "1        8844                                      Jumanji   \n",
      "2       15602                             Grumpier Old Men   \n",
      "3       31357                            Waiting to Exhale   \n",
      "4       11862                  Father of the Bride Part II   \n",
      "...       ...                                          ...   \n",
      "25913  249260                             Avalanche Sharks   \n",
      "25914   19422                               Lost in Austen   \n",
      "25915    1777                              Fahrenheit 9/11   \n",
      "25916   11052  YÅ«giÅ Dyueru MonsutÄzu Hikari no Piramiddo   \n",
      "25917   15138                              Little Monsters   \n",
      "\n",
      "                                                    cast            director  \\\n",
      "0                       [tomhanks, timallen, donrickles]      [johnlasseter]   \n",
      "1            [robinwilliams, jonathanhyde, kirstendunst]       [joejohnston]   \n",
      "2                [waltermatthau, jacklemmon, annmargret]      [howarddeutch]   \n",
      "3         [whitneyhouston, angelabassett, lorettadevine]    [forestwhitaker]   \n",
      "4                [stevemartin, dianekeaton, martinshort]      [charlesshyer]   \n",
      "...                                                  ...                 ...   \n",
      "25913  [alexandermendeluk, katenauta, benjamineasterday]      [scottwheeler]   \n",
      "25914              [jemimarooper, elliotcowan, tommison]           [danzeff]   \n",
      "25915            [michaelmoore, georgewbush, benaffleck]      [michaelmoore]   \n",
      "25916                 [dangreen, ericstuart, scottieray]      [hatsukitsuji]   \n",
      "25917             [fredsavage, howiemandel, danielstern]  [richardgreenberg]   \n",
      "\n",
      "                                 genres  \\\n",
      "0           [animation, comedy, family]   \n",
      "1          [adventure, fantasy, family]   \n",
      "2                     [romance, comedy]   \n",
      "3              [comedy, drama, romance]   \n",
      "4                              [comedy]   \n",
      "...                                 ...   \n",
      "25913  [action, horror, sciencefiction]   \n",
      "25914           [comedy, drama, family]   \n",
      "25915                     [documentary]   \n",
      "25916   [adventure, fantasy, animation]   \n",
      "25917      [adventure, fantasy, comedy]   \n",
      "\n",
      "                                    production_companies  \\\n",
      "0                                [pixaranimationstudios]   \n",
      "1      [tristarpictures, teitlerfilm, interscopecommu...   \n",
      "2                            [warnerbros, lancastergate]   \n",
      "3                   [twentiethcenturyfoxfilmcorporation]   \n",
      "4             [sandollarproductions, touchstonepictures]   \n",
      "...                                                  ...   \n",
      "25913  [odysseymedia, pulserproductions, roguestate, ...   \n",
      "25914                                    [mammothscreen]   \n",
      "25915       [bimdistribuzione, fellowshipadventuregroup]   \n",
      "25916  [konamicorporationltd, tohocompany, shueisha, ...   \n",
      "25917                             [metrogoldwynmayermgm]   \n",
      "\n",
      "                                                keywords  release_year  \n",
      "0                                   [jealousy, toy, boy]          1995  \n",
      "1       [boardgame, disappearance, basedonchildrensbook]          1995  \n",
      "2            [fishing, bestfriend, duringcreditsstinger]          1995  \n",
      "3      [basedonnovel, interracialrelationship, single...          1995  \n",
      "4                      [baby, midlifecrisis, confidence]          1995  \n",
      "...                                                  ...           ...  \n",
      "25913                    [bikini, madeforcabletv, curse]          2014  \n",
      "25914                           [janeausten, miniseries]          2008  \n",
      "25915                 [skabundertv, øverstehylde, foran]          2004  \n",
      "25916                         [monster, cardgame, fight]          2004  \n",
      "25917                         [monster, bed, friendship]          1989  \n",
      "\n",
      "[25918 rows x 8 columns]\n"
     ]
    }
   ],
   "source": [
    "movies['id'] = list(map(lambda x: int(x), movies['id'].tolist()))\n",
    "print(len(list(set(movies['id']))))\n",
    "movies = movies[~movies.id.duplicated(keep='first')]\n",
    "movies = movies.reset_index(drop=True)\n",
    "\n",
    "# movies = movies.reset_index().drop_duplicates(subset='index', keep='first').set_index('index')\n",
    "print(movies)"
   ]
  },
  {
   "cell_type": "code",
   "execution_count": 4,
   "metadata": {},
   "outputs": [
    {
     "name": "stdout",
     "output_type": "stream",
     "text": [
      "3362\n",
      "          id                             original_title  \\\n",
      "0     235271                                   Addicted   \n",
      "1     245950  The Dragonphoenix Chronicles: Indomitable   \n",
      "2     146015                                 The Double   \n",
      "3     241765                               The Outsider   \n",
      "4     227348       Paranormal Activity: The Marked Ones   \n",
      "...      ...                                        ...   \n",
      "3357  280422                                Все и сразу   \n",
      "3358  461297                Cop and a Half: New Recruit   \n",
      "3359  404604                                        Maa   \n",
      "3360  371758                   And Then There Were None   \n",
      "3361  249260                           Avalanche Sharks   \n",
      "\n",
      "                                                   cast              director  \\\n",
      "0          [boriskodjoe, brandongonzales, cameronmills]       [billewoodruff]   \n",
      "1     [thanoskermitsis, yannisrubusrubulias, constan...     [thanoskermitsis]   \n",
      "2         [jesseeisenberg, miawasikowska, wallaceshawn]       [richardayoade]   \n",
      "3              [jasonpatric, craigfairbrass, jamescaan]        [brianamiller]   \n",
      "4           [andrewjacobs, richardcabral, carlospratts]  [christopherblandon]   \n",
      "...                                                 ...                   ...   \n",
      "3357    [andreymuravyov, yuliyakhlynina, antonshurtsov]        [romankarimov]   \n",
      "3358     [loudiamondphillips, wallaceshawn, ginaholden]  [jonathanarosenbaum]   \n",
      "3359           [sridevikapoor, sajalali, akshayekhanna]         [raviudyawar]   \n",
      "3360          [maevedermody, aidanturner, charlesdance]       [craigviveiros]   \n",
      "3361  [alexandermendeluk, katenauta, benjamineasterday]        [scottwheeler]   \n",
      "\n",
      "                                genres  \\\n",
      "0                    [drama, thriller]   \n",
      "1         [adventure, action, fantasy]   \n",
      "2                    [thriller, drama]   \n",
      "3               [action, crime, drama]   \n",
      "4                   [horror, thriller]   \n",
      "...                                ...   \n",
      "3357                   [crime, comedy]   \n",
      "3358           [crime, comedy, action]   \n",
      "3359          [crime, drama, thriller]   \n",
      "3360                  [mystery, drama]   \n",
      "3361  [action, horror, sciencefiction]   \n",
      "\n",
      "                                   production_companies  \\\n",
      "0                   [lionsgate, codeblackentertainment]   \n",
      "1                                   [avalonproductions]   \n",
      "2     [britishfilminstitutebfi, alcoveentertainment,...   \n",
      "3         [hollywoodmediabridge, zerogravitymanagement]   \n",
      "4           [blumhouseproductions, room11, solanafilms]   \n",
      "...                                                 ...   \n",
      "3357              [кинокомпания«lunapark», инвадафильм]   \n",
      "3358                                [universalpictures]   \n",
      "3359                       [madfilms, thirdeyepictures]   \n",
      "3360  [britishbroadcastingcorporationbbc, mammothscr...   \n",
      "3361  [odysseymedia, pulserproductions, roguestate, ...   \n",
      "\n",
      "                                    keywords  release_year  \n",
      "0               [infidelity, obsession, lie]          2014  \n",
      "1                    [sword, slave, warrior]          2014  \n",
      "2                         [paranoia, double]          2014  \n",
      "3     [londonengland, detective, helicopter]          2014  \n",
      "4        [supernatural, demon, foundfootage]          2014  \n",
      "...                                      ...           ...  \n",
      "3357                          [robbery, mob]          2014  \n",
      "3358             [sequel, tvmovie, buddycop]          2017  \n",
      "3359          [physicalabuse, sexualassault]          2017  \n",
      "3360         [england, basedonnovel, island]          2015  \n",
      "3361         [bikini, madeforcabletv, curse]          2014  \n",
      "\n",
      "[3362 rows x 8 columns]\n"
     ]
    }
   ],
   "source": [
    "# movies['release_year'] = list(map(lambda x: int(x), movies['release_year'].tolist()))\n",
    "# # print(movies)\n",
    "movies_with_meta_a2014 = movies.loc[movies['release_year'] >= 2014]\n",
    "movies_with_meta_a2014 = movies_with_meta_a2014.reset_index(drop=True)\n",
    "\n",
    "print(len(movies_with_meta_a2014))\n",
    "print(movies_with_meta_a2014)\n",
    "# print(movies)\n"
   ]
  },
  {
   "cell_type": "code",
   "execution_count": 5,
   "metadata": {},
   "outputs": [
    {
     "name": "stdout",
     "output_type": "stream",
     "text": [
      "3362\n"
     ]
    }
   ],
   "source": [
    "movies_with_meta_a2014['id'] = list(map(lambda x: int(x), movies_with_meta_a2014['id'].tolist()))\n",
    "print(len(list(set(movies_with_meta_a2014['id']))))"
   ]
  },
  {
   "cell_type": "code",
   "execution_count": 66,
   "metadata": {},
   "outputs": [
    {
     "name": "stdout",
     "output_type": "stream",
     "text": [
      "          id                             original_title  \\\n",
      "0     235271                                   Addicted   \n",
      "1     245950  The Dragonphoenix Chronicles: Indomitable   \n",
      "2     146015                                 The Double   \n",
      "3     241765                               The Outsider   \n",
      "4     227348       Paranormal Activity: The Marked Ones   \n",
      "...      ...                                        ...   \n",
      "3357  280422                                Все и сразу   \n",
      "3358  461297                Cop and a Half: New Recruit   \n",
      "3359  404604                                        Maa   \n",
      "3360  371758                   And Then There Were None   \n",
      "3361  249260                           Avalanche Sharks   \n",
      "\n",
      "                                                   cast              director  \\\n",
      "0          [boriskodjoe, brandongonzales, cameronmills]       [billewoodruff]   \n",
      "1     [thanoskermitsis, yannisrubusrubulias, constan...     [thanoskermitsis]   \n",
      "2         [jesseeisenberg, miawasikowska, wallaceshawn]       [richardayoade]   \n",
      "3              [jasonpatric, craigfairbrass, jamescaan]        [brianamiller]   \n",
      "4           [andrewjacobs, richardcabral, carlospratts]  [christopherblandon]   \n",
      "...                                                 ...                   ...   \n",
      "3357    [andreymuravyov, yuliyakhlynina, antonshurtsov]        [romankarimov]   \n",
      "3358     [loudiamondphillips, wallaceshawn, ginaholden]  [jonathanarosenbaum]   \n",
      "3359           [sridevikapoor, sajalali, akshayekhanna]         [raviudyawar]   \n",
      "3360          [maevedermody, aidanturner, charlesdance]       [craigviveiros]   \n",
      "3361  [alexandermendeluk, katenauta, benjamineasterday]        [scottwheeler]   \n",
      "\n",
      "                                genres  \\\n",
      "0                    [drama, thriller]   \n",
      "1         [adventure, action, fantasy]   \n",
      "2                    [thriller, drama]   \n",
      "3               [action, crime, drama]   \n",
      "4                   [horror, thriller]   \n",
      "...                                ...   \n",
      "3357                   [crime, comedy]   \n",
      "3358           [crime, comedy, action]   \n",
      "3359          [crime, drama, thriller]   \n",
      "3360                  [mystery, drama]   \n",
      "3361  [action, horror, sciencefiction]   \n",
      "\n",
      "                                   production_companies  \\\n",
      "0                   [lionsgate, codeblackentertainment]   \n",
      "1                                   [avalonproductions]   \n",
      "2     [britishfilminstitutebfi, alcoveentertainment,...   \n",
      "3         [hollywoodmediabridge, zerogravitymanagement]   \n",
      "4           [blumhouseproductions, room11, solanafilms]   \n",
      "...                                                 ...   \n",
      "3357              [кинокомпания«lunapark», инвадафильм]   \n",
      "3358                                [universalpictures]   \n",
      "3359                       [madfilms, thirdeyepictures]   \n",
      "3360  [britishbroadcastingcorporationbbc, mammothscr...   \n",
      "3361  [odysseymedia, pulserproductions, roguestate, ...   \n",
      "\n",
      "                                    keywords  release_year  \n",
      "0               [infidelity, obsession, lie]          2014  \n",
      "1                    [sword, slave, warrior]          2014  \n",
      "2                         [paranoia, double]          2014  \n",
      "3     [londonengland, detective, helicopter]          2014  \n",
      "4        [supernatural, demon, foundfootage]          2014  \n",
      "...                                      ...           ...  \n",
      "3357                          [robbery, mob]          2014  \n",
      "3358             [sequel, tvmovie, buddycop]          2017  \n",
      "3359          [physicalabuse, sexualassault]          2017  \n",
      "3360         [england, basedonnovel, island]          2015  \n",
      "3361         [bikini, madeforcabletv, curse]          2014  \n",
      "\n",
      "[3362 rows x 8 columns]\n"
     ]
    }
   ],
   "source": [
    "# movies_with_meta_a2014.drop('release_year', inplace=True, axis=1)\n",
    "print(movies_with_meta_a2014)\n",
    "\n",
    "# for c in cols:\n",
    "#     movies[c] = movies[c].apply(lambda x: [i.replace(' ','') for i in x])"
   ]
  },
  {
   "cell_type": "code",
   "execution_count": 6,
   "metadata": {},
   "outputs": [],
   "source": [
    "movies_with_meta_a2014['metadata'] = movies_with_meta_a2014.apply(lambda x : ' '.join(x['cast']) + ' ' + ' '.join(x['director']) + ' ' + ' '.join(x['genres']) + ' ' + ' '.join(x['production_companies']) + ' ' + ' '.join(x['keywords']), axis = 1)"
   ]
  },
  {
   "cell_type": "code",
   "execution_count": 44,
   "metadata": {},
   "outputs": [
    {
     "name": "stdout",
     "output_type": "stream",
     "text": [
      "0       boriskodjoe brandongonzales cameronmills bille...\n",
      "1       thanoskermitsis yannisrubusrubulias constantin...\n",
      "2       jesseeisenberg miawasikowska wallaceshawn rich...\n",
      "3       jasonpatric craigfairbrass jamescaan brianamil...\n",
      "4       andrewjacobs richardcabral carlospratts christ...\n",
      "                              ...                        \n",
      "4312    dirknowitzki holgergeschwinder kobebryant seba...\n",
      "4313    alysaking madisonferguson christophegallander ...\n",
      "4314    richardstanley fairuzabalk marcohofschneider d...\n",
      "4315    ianogilvy alisondoody christopherellison sacha...\n",
      "4316    sharonhinnendael jillevyn constancebrenneman m...\n",
      "Name: metadata, Length: 4317, dtype: object\n"
     ]
    }
   ],
   "source": [
    "print(movies_with_meta_a2014['metadata'])"
   ]
  },
  {
   "cell_type": "code",
   "execution_count": 7,
   "metadata": {},
   "outputs": [],
   "source": [
    "from sklearn.metrics.pairwise import cosine_similarity\n",
    "from sklearn.feature_extraction.text import CountVectorizer\n",
    "count_vec = CountVectorizer(stop_words='english')\n",
    "count_vec_matrix = count_vec.fit_transform(movies_with_meta_a2014['metadata'])\n",
    "cosine_sim_matrix = cosine_similarity(count_vec_matrix, count_vec_matrix)\n",
    "#movies index mapping\n",
    "mapping = pd.Series(movies_with_meta_a2014.index,index = movies_with_meta_a2014['original_title'])"
   ]
  },
  {
   "cell_type": "code",
   "execution_count": 9,
   "metadata": {},
   "outputs": [
    {
     "name": "stdout",
     "output_type": "stream",
     "text": [
      "[[1.         0.         0.18181818 ... 0.18181818 0.0805823  0.        ]\n",
      " [0.         1.         0.         ... 0.         0.         0.07412493]\n",
      " [0.18181818 0.         1.         ... 0.18181818 0.0805823  0.        ]\n",
      " ...\n",
      " [0.18181818 0.         0.18181818 ... 1.         0.0805823  0.        ]\n",
      " [0.0805823  0.         0.0805823  ... 0.0805823  1.         0.        ]\n",
      " [0.         0.07412493 0.         ... 0.         0.         1.        ]]\n"
     ]
    }
   ],
   "source": [
    "print(cosine_sim_matrix)"
   ]
  },
  {
   "cell_type": "code",
   "execution_count": 74,
   "metadata": {},
   "outputs": [],
   "source": [
    "\n",
    "# print(cosine_sim_matrix)\n",
    "np.savetxt(\"movies_meta_sim.csv\", cosine_sim_matrix, delimiter=\",\")\n"
   ]
  },
  {
   "cell_type": "code",
   "execution_count": 70,
   "metadata": {},
   "outputs": [
    {
     "name": "stdout",
     "output_type": "stream",
     "text": [
      "original_title\n",
      "Addicted                                        0\n",
      "The Dragonphoenix Chronicles: Indomitable       1\n",
      "The Double                                      2\n",
      "The Outsider                                    3\n",
      "Paranormal Activity: The Marked Ones            4\n",
      "                                             ... \n",
      "Все и сразу                                  3357\n",
      "Cop and a Half: New Recruit                  3358\n",
      "Maa                                          3359\n",
      "And Then There Were None                     3360\n",
      "Avalanche Sharks                             3361\n",
      "Length: 3362, dtype: int64\n"
     ]
    }
   ],
   "source": [
    "print(mapping)"
   ]
  },
  {
   "cell_type": "code",
   "execution_count": 73,
   "metadata": {},
   "outputs": [],
   "source": [
    "# print(mapping)\n",
    "mapping.to_csv('movies_title_index.csv')\n",
    "# title_index = pd.read_csv('movies_title_index.csv',header=None, index_col=0, squeeze=True)\n",
    "# print(title_index)"
   ]
  },
  {
   "cell_type": "code",
   "execution_count": 72,
   "metadata": {},
   "outputs": [
    {
     "data": {
      "text/plain": [
       "3059          The Fate of the Furious\n",
       "244                    Dracula Untold\n",
       "852                        Trainwreck\n",
       "890           The Secret Life of Pets\n",
       "2034             Central Intelligence\n",
       "2612                             Sing\n",
       "349                    Jurassic World\n",
       "2682       xXx: Return of Xander Cage\n",
       "902             The Last Witch Hunter\n",
       "788                    The Dead Lands\n",
       "3330            S.W.A.T.: Under Siege\n",
       "146                        Ek Villain\n",
       "1876                          வேதாளம்\n",
       "769     The Man with the Iron Fists 2\n",
       "Name: original_title, dtype: object"
      ]
     },
     "execution_count": 72,
     "metadata": {},
     "output_type": "execute_result"
    }
   ],
   "source": [
    "#recommender function to recommend movies based on metadata\n",
    "def recommend_movies_based_on_metadata(movie_input):\n",
    "    movie_index = mapping[movie_input]\n",
    "    #get similarity values with other movies\n",
    "    similarity_score = list(enumerate(cosine_sim_matrix[movie_index]))\n",
    "    similarity_score = sorted(similarity_score, key=lambda x: x[1], reverse=True)\n",
    "    \n",
    "    # Get the scores of the 15 most similar movies. Ignore the first movie.\n",
    "    similarity_score = similarity_score[1:15]\n",
    "    movie_indices = [i[0] for i in similarity_score]\n",
    "    return (movies_with_meta_a2014['original_title'].iloc[movie_indices])\n",
    "recommend_movies_based_on_metadata('Furious 7')"
   ]
  },
  {
   "cell_type": "code",
   "execution_count": null,
   "metadata": {},
   "outputs": [],
   "source": [
    "# print(type(movies.cast))\n",
    "# movies['cast'] = movies['cast'].apply(literal_eval)\n",
    "# print(movies['cast'][0][0])\n",
    "# movies = movies.dropna()\n",
    "col = ['genres','cast',\n",
    "       'crew', 'keywords','production_companies']\n",
    "for c in col:\n",
    "       # movies[c] = movies[c].apply(literal_eval)\n",
    "       movies = movies[movies[c].map(lambda d: len(d)) > 0]"
   ]
  }
 ],
 "metadata": {
  "kernelspec": {
   "display_name": "Python 3.6.12 ('py36')",
   "language": "python",
   "name": "python3"
  },
  "language_info": {
   "codemirror_mode": {
    "name": "ipython",
    "version": 3
   },
   "file_extension": ".py",
   "mimetype": "text/x-python",
   "name": "python",
   "nbconvert_exporter": "python",
   "pygments_lexer": "ipython3",
   "version": "3.6.12 |Anaconda, Inc.| (default, Sep  9 2020, 00:29:25) [MSC v.1916 64 bit (AMD64)]"
  },
  "orig_nbformat": 4,
  "vscode": {
   "interpreter": {
    "hash": "65a80066adf52311e4b099f946732f29f233270ec01e58fbcfb8e7e9b391e6c3"
   }
  }
 },
 "nbformat": 4,
 "nbformat_minor": 2
}
