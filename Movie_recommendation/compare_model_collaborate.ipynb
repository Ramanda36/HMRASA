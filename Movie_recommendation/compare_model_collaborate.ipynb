{
 "cells": [
  {
   "cell_type": "code",
   "execution_count": 1,
   "metadata": {},
   "outputs": [],
   "source": [
    "import csv\n",
    "import pandas as pd\n",
    "import numpy as np\n",
    "import pickle\n",
    "from ast import literal_eval"
   ]
  },
  {
   "cell_type": "code",
   "execution_count": 8,
   "metadata": {},
   "outputs": [
    {
     "data": {
      "text/plain": [
       "(856, 9)"
      ]
     },
     "execution_count": 8,
     "metadata": {},
     "output_type": "execute_result"
    }
   ],
   "source": [
    "movie_meta = pd.read_csv('all_movies_meta_wr_0418.csv')\n",
    "movie_meta.shape"
   ]
  },
  {
   "cell_type": "code",
   "execution_count": 5,
   "metadata": {},
   "outputs": [],
   "source": [
    "\n",
    "with open(\"movies_meta_title_a1994_\", \"rb\") as fp:   # Unpickling\n",
    "    file_names = pickle.load(fp)\n",
    "file_names = list(set(file_names))"
   ]
  },
  {
   "cell_type": "code",
   "execution_count": 9,
   "metadata": {},
   "outputs": [],
   "source": [
    "# movie_meta.drop('release_year', inplace=True, axis=1)\n",
    "cols = ['cast','director','genres','production_companies','keywords']\n",
    "# # #changing columns into python objects\n",
    "for c in cols:\n",
    "    movie_meta[c] = movie_meta[c].apply(literal_eval)"
   ]
  },
  {
   "cell_type": "code",
   "execution_count": 10,
   "metadata": {},
   "outputs": [
    {
     "data": {
      "text/html": [
       "<div>\n",
       "<style scoped>\n",
       "    .dataframe tbody tr th:only-of-type {\n",
       "        vertical-align: middle;\n",
       "    }\n",
       "\n",
       "    .dataframe tbody tr th {\n",
       "        vertical-align: top;\n",
       "    }\n",
       "\n",
       "    .dataframe thead th {\n",
       "        text-align: right;\n",
       "    }\n",
       "</style>\n",
       "<table border=\"1\" class=\"dataframe\">\n",
       "  <thead>\n",
       "    <tr style=\"text-align: right;\">\n",
       "      <th></th>\n",
       "      <th>id</th>\n",
       "      <th>original_title</th>\n",
       "      <th>cast</th>\n",
       "      <th>director</th>\n",
       "      <th>genres</th>\n",
       "      <th>production_companies</th>\n",
       "      <th>keywords</th>\n",
       "      <th>release_year</th>\n",
       "      <th>imdb_id</th>\n",
       "      <th>cast_trans</th>\n",
       "      <th>director_trans</th>\n",
       "      <th>genres_trans</th>\n",
       "      <th>production_companies_trans</th>\n",
       "      <th>keywords_trans</th>\n",
       "    </tr>\n",
       "  </thead>\n",
       "  <tbody>\n",
       "    <tr>\n",
       "      <th>0</th>\n",
       "      <td>333371</td>\n",
       "      <td>10 Cloverfield Lane</td>\n",
       "      <td>[maryelizabethwinstead, johngoodman, johngalla...</td>\n",
       "      <td>[dantrachtenberg]</td>\n",
       "      <td>[thriller, sciencefiction, drama]</td>\n",
       "      <td>[paramountpictures, badrobot, spectrumeffects]</td>\n",
       "      <td>[kidnapping, bunker, paranoia]</td>\n",
       "      <td>2016.0</td>\n",
       "      <td>NaN</td>\n",
       "      <td>maryelizabethwinstead johngoodman johngallagherjr</td>\n",
       "      <td>dantrachtenberg</td>\n",
       "      <td>thriller sciencefiction drama</td>\n",
       "      <td>paramountpictures badrobot spectrumeffects</td>\n",
       "      <td>kidnapping bunker paranoia</td>\n",
       "    </tr>\n",
       "    <tr>\n",
       "      <th>1</th>\n",
       "      <td>4951</td>\n",
       "      <td>10 Things I Hate About You</td>\n",
       "      <td>[juliastiles, heathledger, josephgordonlevitt]</td>\n",
       "      <td>[giljunger]</td>\n",
       "      <td>[comedy, romance, drama]</td>\n",
       "      <td>[madchance, jaretentertainment, touchstonepict...</td>\n",
       "      <td>[shakespeare, sister, highschool]</td>\n",
       "      <td>1999.0</td>\n",
       "      <td>tt0147800</td>\n",
       "      <td>juliastiles heathledger josephgordonlevitt</td>\n",
       "      <td>giljunger</td>\n",
       "      <td>comedy romance drama</td>\n",
       "      <td>madchance jaretentertainment touchstonepictures</td>\n",
       "      <td>shakespeare sister highschool</td>\n",
       "    </tr>\n",
       "    <tr>\n",
       "      <th>2</th>\n",
       "      <td>389</td>\n",
       "      <td>12 Angry Men</td>\n",
       "      <td>[henryfonda, martinbalsam, johnfiedler]</td>\n",
       "      <td>[sidneylumet]</td>\n",
       "      <td>[drama]</td>\n",
       "      <td>[unitedartists, orionnovaproductions]</td>\n",
       "      <td>[judge, jurors, sultriness]</td>\n",
       "      <td>1957.0</td>\n",
       "      <td>NaN</td>\n",
       "      <td>henryfonda martinbalsam johnfiedler</td>\n",
       "      <td>sidneylumet</td>\n",
       "      <td>drama</td>\n",
       "      <td>unitedartists orionnovaproductions</td>\n",
       "      <td>judge jurors sultriness</td>\n",
       "    </tr>\n",
       "    <tr>\n",
       "      <th>3</th>\n",
       "      <td>76203</td>\n",
       "      <td>12 Years a Slave</td>\n",
       "      <td>[chiwetelejiofor, michaelfassbender, lupitanyo...</td>\n",
       "      <td>[stevemcqueen]</td>\n",
       "      <td>[drama, history]</td>\n",
       "      <td>[planbentertainment, regencyenterprises, river...</td>\n",
       "      <td>[whip, kidnapping, slavery]</td>\n",
       "      <td>2013.0</td>\n",
       "      <td>tt2024544</td>\n",
       "      <td>chiwetelejiofor michaelfassbender lupitanyongo</td>\n",
       "      <td>stevemcqueen</td>\n",
       "      <td>drama history</td>\n",
       "      <td>planbentertainment regencyenterprises riverroa...</td>\n",
       "      <td>whip kidnapping slavery</td>\n",
       "    </tr>\n",
       "    <tr>\n",
       "      <th>4</th>\n",
       "      <td>44115</td>\n",
       "      <td>127 Hours</td>\n",
       "      <td>[jamesfranco, katemara, ambertamblyn]</td>\n",
       "      <td>[dannyboyle]</td>\n",
       "      <td>[adventure, drama, thriller]</td>\n",
       "      <td>[foxsearchlightpictures, duneentertainment, da...</td>\n",
       "      <td>[mountain, despair, adventure]</td>\n",
       "      <td>2010.0</td>\n",
       "      <td>tt1542344</td>\n",
       "      <td>jamesfranco katemara ambertamblyn</td>\n",
       "      <td>dannyboyle</td>\n",
       "      <td>adventure drama thriller</td>\n",
       "      <td>foxsearchlightpictures duneentertainment darlo...</td>\n",
       "      <td>mountain despair adventure</td>\n",
       "    </tr>\n",
       "    <tr>\n",
       "      <th>...</th>\n",
       "      <td>...</td>\n",
       "      <td>...</td>\n",
       "      <td>...</td>\n",
       "      <td>...</td>\n",
       "      <td>...</td>\n",
       "      <td>...</td>\n",
       "      <td>...</td>\n",
       "      <td>...</td>\n",
       "      <td>...</td>\n",
       "      <td>...</td>\n",
       "      <td>...</td>\n",
       "      <td>...</td>\n",
       "      <td>...</td>\n",
       "      <td>...</td>\n",
       "    </tr>\n",
       "    <tr>\n",
       "      <th>851</th>\n",
       "      <td>310593</td>\n",
       "      <td>Youth</td>\n",
       "      <td>[michaelcaine, harveykeitel, rachelweisz]</td>\n",
       "      <td>[paolosorrentino]</td>\n",
       "      <td>[comedy, drama]</td>\n",
       "      <td>[france2cinéma, indigofilm, pathé, numberfilms]</td>\n",
       "      <td>[venice, suicide, malenudity]</td>\n",
       "      <td>2015.0</td>\n",
       "      <td>NaN</td>\n",
       "      <td>michaelcaine harveykeitel rachelweisz</td>\n",
       "      <td>paolosorrentino</td>\n",
       "      <td>comedy drama</td>\n",
       "      <td>france2cinéma indigofilm pathé numberfilms</td>\n",
       "      <td>venice suicide malenudity</td>\n",
       "    </tr>\n",
       "    <tr>\n",
       "      <th>852</th>\n",
       "      <td>97630</td>\n",
       "      <td>Zero Dark Thirty</td>\n",
       "      <td>[jessicachastain, jasonclarke, markstrong]</td>\n",
       "      <td>[kathrynbigelow]</td>\n",
       "      <td>[thriller, drama, history]</td>\n",
       "      <td>[columbiapictures, annapurnapictures, firstlig...</td>\n",
       "      <td>[assassination, cia, hotel]</td>\n",
       "      <td>2012.0</td>\n",
       "      <td>tt1790885</td>\n",
       "      <td>jessicachastain jasonclarke markstrong</td>\n",
       "      <td>kathrynbigelow</td>\n",
       "      <td>thriller drama history</td>\n",
       "      <td>columbiapictures annapurnapictures firstlightp...</td>\n",
       "      <td>assassination cia hotel</td>\n",
       "    </tr>\n",
       "    <tr>\n",
       "      <th>853</th>\n",
       "      <td>1949</td>\n",
       "      <td>Zodiac</td>\n",
       "      <td>[jakegyllenhaal, robertdowneyjr, markruffalo]</td>\n",
       "      <td>[davidfincher]</td>\n",
       "      <td>[crime, drama, mystery]</td>\n",
       "      <td>[paramountpictures, warnerbros, phoenixpictures]</td>\n",
       "      <td>[california, sanfrancisco, killing]</td>\n",
       "      <td>2007.0</td>\n",
       "      <td>tt0443706</td>\n",
       "      <td>jakegyllenhaal robertdowneyjr markruffalo</td>\n",
       "      <td>davidfincher</td>\n",
       "      <td>crime drama mystery</td>\n",
       "      <td>paramountpictures warnerbros phoenixpictures</td>\n",
       "      <td>california sanfrancisco killing</td>\n",
       "    </tr>\n",
       "    <tr>\n",
       "      <th>854</th>\n",
       "      <td>19908</td>\n",
       "      <td>Zombieland</td>\n",
       "      <td>[jesseeisenberg, woodyharrelson, emmastone]</td>\n",
       "      <td>[rubenfleischer]</td>\n",
       "      <td>[comedy, horror]</td>\n",
       "      <td>[columbiapictures]</td>\n",
       "      <td>[washingtondc, sistersisterrelationship, posta...</td>\n",
       "      <td>2009.0</td>\n",
       "      <td>tt1156398</td>\n",
       "      <td>jesseeisenberg woodyharrelson emmastone</td>\n",
       "      <td>rubenfleischer</td>\n",
       "      <td>comedy horror</td>\n",
       "      <td>columbiapictures</td>\n",
       "      <td>washingtondc sistersisterrelationship postapoc...</td>\n",
       "    </tr>\n",
       "    <tr>\n",
       "      <th>855</th>\n",
       "      <td>269149</td>\n",
       "      <td>Zootopia</td>\n",
       "      <td>[ginnifergoodwin, jasonbateman, shakira]</td>\n",
       "      <td>[byronhoward, richmoore, jaredbush]</td>\n",
       "      <td>[animation, adventure, family]</td>\n",
       "      <td>[waltdisneypictures, waltdisneyanimationstudios]</td>\n",
       "      <td>[fox, prejudice, conspiracy]</td>\n",
       "      <td>2016.0</td>\n",
       "      <td>NaN</td>\n",
       "      <td>ginnifergoodwin jasonbateman shakira</td>\n",
       "      <td>byronhoward richmoore jaredbush</td>\n",
       "      <td>animation adventure family</td>\n",
       "      <td>waltdisneypictures waltdisneyanimationstudios</td>\n",
       "      <td>fox prejudice conspiracy</td>\n",
       "    </tr>\n",
       "  </tbody>\n",
       "</table>\n",
       "<p>856 rows × 14 columns</p>\n",
       "</div>"
      ],
      "text/plain": [
       "         id              original_title  \\\n",
       "0    333371         10 Cloverfield Lane   \n",
       "1      4951  10 Things I Hate About You   \n",
       "2       389                12 Angry Men   \n",
       "3     76203            12 Years a Slave   \n",
       "4     44115                   127 Hours   \n",
       "..      ...                         ...   \n",
       "851  310593                       Youth   \n",
       "852   97630            Zero Dark Thirty   \n",
       "853    1949                      Zodiac   \n",
       "854   19908                  Zombieland   \n",
       "855  269149                    Zootopia   \n",
       "\n",
       "                                                  cast  \\\n",
       "0    [maryelizabethwinstead, johngoodman, johngalla...   \n",
       "1       [juliastiles, heathledger, josephgordonlevitt]   \n",
       "2              [henryfonda, martinbalsam, johnfiedler]   \n",
       "3    [chiwetelejiofor, michaelfassbender, lupitanyo...   \n",
       "4                [jamesfranco, katemara, ambertamblyn]   \n",
       "..                                                 ...   \n",
       "851          [michaelcaine, harveykeitel, rachelweisz]   \n",
       "852         [jessicachastain, jasonclarke, markstrong]   \n",
       "853      [jakegyllenhaal, robertdowneyjr, markruffalo]   \n",
       "854        [jesseeisenberg, woodyharrelson, emmastone]   \n",
       "855           [ginnifergoodwin, jasonbateman, shakira]   \n",
       "\n",
       "                                director                             genres  \\\n",
       "0                      [dantrachtenberg]  [thriller, sciencefiction, drama]   \n",
       "1                            [giljunger]           [comedy, romance, drama]   \n",
       "2                          [sidneylumet]                            [drama]   \n",
       "3                         [stevemcqueen]                   [drama, history]   \n",
       "4                           [dannyboyle]       [adventure, drama, thriller]   \n",
       "..                                   ...                                ...   \n",
       "851                    [paolosorrentino]                    [comedy, drama]   \n",
       "852                     [kathrynbigelow]         [thriller, drama, history]   \n",
       "853                       [davidfincher]            [crime, drama, mystery]   \n",
       "854                     [rubenfleischer]                   [comedy, horror]   \n",
       "855  [byronhoward, richmoore, jaredbush]     [animation, adventure, family]   \n",
       "\n",
       "                                  production_companies  \\\n",
       "0       [paramountpictures, badrobot, spectrumeffects]   \n",
       "1    [madchance, jaretentertainment, touchstonepict...   \n",
       "2                [unitedartists, orionnovaproductions]   \n",
       "3    [planbentertainment, regencyenterprises, river...   \n",
       "4    [foxsearchlightpictures, duneentertainment, da...   \n",
       "..                                                 ...   \n",
       "851    [france2cinéma, indigofilm, pathé, numberfilms]   \n",
       "852  [columbiapictures, annapurnapictures, firstlig...   \n",
       "853   [paramountpictures, warnerbros, phoenixpictures]   \n",
       "854                                 [columbiapictures]   \n",
       "855   [waltdisneypictures, waltdisneyanimationstudios]   \n",
       "\n",
       "                                              keywords  release_year  \\\n",
       "0                       [kidnapping, bunker, paranoia]        2016.0   \n",
       "1                    [shakespeare, sister, highschool]        1999.0   \n",
       "2                          [judge, jurors, sultriness]        1957.0   \n",
       "3                          [whip, kidnapping, slavery]        2013.0   \n",
       "4                       [mountain, despair, adventure]        2010.0   \n",
       "..                                                 ...           ...   \n",
       "851                      [venice, suicide, malenudity]        2015.0   \n",
       "852                        [assassination, cia, hotel]        2012.0   \n",
       "853                [california, sanfrancisco, killing]        2007.0   \n",
       "854  [washingtondc, sistersisterrelationship, posta...        2009.0   \n",
       "855                       [fox, prejudice, conspiracy]        2016.0   \n",
       "\n",
       "       imdb_id                                         cast_trans  \\\n",
       "0          NaN  maryelizabethwinstead johngoodman johngallagherjr   \n",
       "1    tt0147800         juliastiles heathledger josephgordonlevitt   \n",
       "2          NaN                henryfonda martinbalsam johnfiedler   \n",
       "3    tt2024544     chiwetelejiofor michaelfassbender lupitanyongo   \n",
       "4    tt1542344                  jamesfranco katemara ambertamblyn   \n",
       "..         ...                                                ...   \n",
       "851        NaN              michaelcaine harveykeitel rachelweisz   \n",
       "852  tt1790885             jessicachastain jasonclarke markstrong   \n",
       "853  tt0443706          jakegyllenhaal robertdowneyjr markruffalo   \n",
       "854  tt1156398            jesseeisenberg woodyharrelson emmastone   \n",
       "855        NaN               ginnifergoodwin jasonbateman shakira   \n",
       "\n",
       "                      director_trans                   genres_trans  \\\n",
       "0                    dantrachtenberg  thriller sciencefiction drama   \n",
       "1                          giljunger           comedy romance drama   \n",
       "2                        sidneylumet                          drama   \n",
       "3                       stevemcqueen                  drama history   \n",
       "4                         dannyboyle       adventure drama thriller   \n",
       "..                               ...                            ...   \n",
       "851                  paolosorrentino                   comedy drama   \n",
       "852                   kathrynbigelow         thriller drama history   \n",
       "853                     davidfincher            crime drama mystery   \n",
       "854                   rubenfleischer                  comedy horror   \n",
       "855  byronhoward richmoore jaredbush     animation adventure family   \n",
       "\n",
       "                            production_companies_trans  \\\n",
       "0           paramountpictures badrobot spectrumeffects   \n",
       "1      madchance jaretentertainment touchstonepictures   \n",
       "2                   unitedartists orionnovaproductions   \n",
       "3    planbentertainment regencyenterprises riverroa...   \n",
       "4    foxsearchlightpictures duneentertainment darlo...   \n",
       "..                                                 ...   \n",
       "851         france2cinéma indigofilm pathé numberfilms   \n",
       "852  columbiapictures annapurnapictures firstlightp...   \n",
       "853       paramountpictures warnerbros phoenixpictures   \n",
       "854                                   columbiapictures   \n",
       "855      waltdisneypictures waltdisneyanimationstudios   \n",
       "\n",
       "                                        keywords_trans  \n",
       "0                           kidnapping bunker paranoia  \n",
       "1                        shakespeare sister highschool  \n",
       "2                              judge jurors sultriness  \n",
       "3                              whip kidnapping slavery  \n",
       "4                           mountain despair adventure  \n",
       "..                                                 ...  \n",
       "851                          venice suicide malenudity  \n",
       "852                            assassination cia hotel  \n",
       "853                    california sanfrancisco killing  \n",
       "854  washingtondc sistersisterrelationship postapoc...  \n",
       "855                           fox prejudice conspiracy  \n",
       "\n",
       "[856 rows x 14 columns]"
      ]
     },
     "execution_count": 10,
     "metadata": {},
     "output_type": "execute_result"
    }
   ],
   "source": [
    "cols = ['cast','director','genres','production_companies','keywords']\n",
    "for c in cols:\n",
    "    movie_meta[c + '_trans'] = movie_meta.apply(lambda x : ' '.join(x[c]), axis = 1)\n",
    "movie_meta\n"
   ]
  },
  {
   "cell_type": "code",
   "execution_count": 11,
   "metadata": {},
   "outputs": [
    {
     "data": {
      "text/plain": [
       "[array([0.33333333, 0.        , 0.        , ..., 0.        , 0.        ,\n",
       "        0.        ]),\n",
       " array([0.        , 0.        , 0.33333333, ..., 0.        , 0.        ,\n",
       "        0.        ]),\n",
       " array([0., 0., 0., ..., 0., 0., 0.]),\n",
       " array([0.33333333, 0.57735027, 0.40824829, ..., 0.        , 0.        ,\n",
       "        0.        ]),\n",
       " array([0., 0., 0., ..., 0., 0., 0.]),\n",
       " array([0., 0., 0., ..., 0., 0., 0.]),\n",
       " array([0.99576588, 0.98514976, 0.9992554 , ..., 0.99950199, 0.99776286,\n",
       "        0.99826087])]"
      ]
     },
     "execution_count": 11,
     "metadata": {},
     "output_type": "execute_result"
    }
   ],
   "source": [
    "# for each feture cal sim\n",
    "from sklearn.metrics.pairwise import cosine_similarity\n",
    "from sklearn.feature_extraction.text import CountVectorizer\n",
    "count_vec = CountVectorizer(stop_words='english')\n",
    "features_items_matrix = []\n",
    "features = ['original_title','keywords_trans','production_companies_trans','genres_trans','director_trans','cast_trans','release_year']\n",
    "for f in features:\n",
    "    if f == 'release_year':\n",
    "        cosine_sim_matrix = []\n",
    "        for i in range(len(movie_meta[f].tolist())):\n",
    "            for m in range(len(movie_meta[f].tolist())):\n",
    "                if i<m:\n",
    "                    cosine_sim_matrix.append(1 - abs(movie_meta[f].tolist()[i] - movie_meta[f].tolist()[m]) / (movie_meta[f].tolist()[i] + movie_meta[f].tolist()[m]))\n",
    "        features_items_matrix.append(np.array(cosine_sim_matrix))\n",
    "    else:\n",
    "        count_vec_matrix = count_vec.fit_transform(movie_meta[f])\n",
    "        cosine_sim_matrix = cosine_similarity(count_vec_matrix, count_vec_matrix)\n",
    "        features_items_matrix.append(cosine_sim_matrix[np.triu_indices_from(cosine_sim_matrix, k = 1)])\n",
    "    #movies index mapping\n",
    "    # mapping = pd.Series(movie_meta_a2014.index,index = movie_meta_a2014['original_title'])\n",
    "    # np.savetxt(f + \".csv\", cosine_sim_matrix, delimiter=\",\")\n",
    "features_items_matrix\n",
    "\n",
    "\n",
    "\n",
    "\n",
    "\n"
   ]
  },
  {
   "cell_type": "code",
   "execution_count": 12,
   "metadata": {},
   "outputs": [
    {
     "name": "stdout",
     "output_type": "stream",
     "text": [
      "365940\n"
     ]
    }
   ],
   "source": [
    "# f_weight[0]\n",
    "print(len(features_items_matrix[6]))"
   ]
  },
  {
   "cell_type": "code",
   "execution_count": 20,
   "metadata": {},
   "outputs": [
    {
     "data": {
      "text/plain": [
       "7"
      ]
     },
     "execution_count": 20,
     "metadata": {},
     "output_type": "execute_result"
    }
   ],
   "source": [
    "len(features_items_matrix)"
   ]
  },
  {
   "cell_type": "code",
   "execution_count": 93,
   "metadata": {},
   "outputs": [
    {
     "data": {
      "text/plain": [
       "array([[0.1903835 , 0.3612997 , 0.1903835 , 0.47595874, 0.18213465,\n",
       "        0.7140206 , 0.16563694]])"
      ]
     },
     "execution_count": 93,
     "metadata": {},
     "output_type": "execute_result"
    }
   ],
   "source": [
    "f_weight"
   ]
  },
  {
   "cell_type": "code",
   "execution_count": 14,
   "metadata": {},
   "outputs": [
    {
     "name": "stdout",
     "output_type": "stream",
     "text": [
      "[[0.27791679 0.36487868 0.14244203 0.32255894 0.5012566  0.63028018\n",
      "  0.12953967]]\n",
      "365940\n"
     ]
    }
   ],
   "source": [
    "from sklearn import preprocessing\n",
    "f_weight = [[0.004308,0.005656,0.002208,0.005,0.00777,0.00977,0.002008]]\n",
    "# features = ['original_title','keywords_trans','production_companies_trans','genres_trans','director_trans','cast_trans','release_year']\n",
    "\n",
    "f_weight = preprocessing.normalize(f_weight)\n",
    "print(f_weight)\n",
    "\n",
    "# print(cosine_sim_matrix.shape)\n",
    "for w_index in range(len(f_weight[0])):\n",
    "    features_items_matrix[w_index] = features_items_matrix[w_index] * f_weight[0][w_index]\n",
    "print(len(features_items_matrix[0]))"
   ]
  },
  {
   "cell_type": "code",
   "execution_count": 16,
   "metadata": {},
   "outputs": [],
   "source": [
    "# print(len(features_items_matrix[0]))\n",
    "features_items_sim = np.array(features_items_matrix)\n",
    "features_items_sim = features_items_sim.sum(axis=0)"
   ]
  },
  {
   "cell_type": "code",
   "execution_count": 88,
   "metadata": {},
   "outputs": [
    {
     "name": "stdout",
     "output_type": "stream",
     "text": [
      "[[1. 6. 2.]\n",
      " [6. 1. 3.]\n",
      " [2. 3. 1.]]\n"
     ]
    }
   ],
   "source": [
    "#for test\n",
    "test_m = [6,2,3]\n",
    "ttt = np.ones((3, 3))\n",
    "index = 0\n",
    "for term in range(3):\n",
    "    # count = 0\n",
    "    \n",
    "    for next_term in range(3):\n",
    "        # count += 1\n",
    "        if term == next_term or ttt[term][next_term] != 1:\n",
    "            continue\n",
    "        else:\n",
    "            ttt[term][next_term] = test_m[index]\n",
    "            ttt[next_term][term] = test_m[index]\n",
    "            index += 1\n",
    "print(ttt)\n"
   ]
  },
  {
   "cell_type": "code",
   "execution_count": 17,
   "metadata": {},
   "outputs": [
    {
     "name": "stdout",
     "output_type": "stream",
     "text": [
      "[[1.         0.32914976 0.31384547 ... 0.2842502  0.12931439 0.12953967]\n",
      " [0.32914976 1.         0.31439387 ... 0.23680063 0.26090061 0.12899119]\n",
      " [0.31384547 0.31439387 1.         ... 0.31413521 0.12784122 0.12761598]\n",
      " ...\n",
      " [0.2842502  0.23680063 0.31413521 ... 1.         0.12947516 0.12924987]\n",
      " [0.12931439 0.26090061 0.12784122 ... 0.12947516 1.         0.12931439]\n",
      " [0.12953967 0.12899119 0.12761598 ... 0.12924987 0.12931439 1.        ]]\n"
     ]
    }
   ],
   "source": [
    "# print(features_items_sim.shape)\n",
    "#create ori sim matrix\n",
    "# cs_m_len = features_items_sim.shape[0]\n",
    "colla_sim_matrix = np.ones((856, 856))\n",
    "index = 0\n",
    "for term in range(856):\n",
    "    # count = 0\n",
    "    \n",
    "    for next_term in range(856):\n",
    "        # count += 1\n",
    "        if term == next_term or colla_sim_matrix[term][next_term] != 1:\n",
    "            continue\n",
    "        else:\n",
    "            colla_sim_matrix[term][next_term] = features_items_sim[index]\n",
    "            colla_sim_matrix[next_term][term] = features_items_sim[index]\n",
    "            index += 1\n",
    "print(colla_sim_matrix)\n"
   ]
  },
  {
   "cell_type": "code",
   "execution_count": 18,
   "metadata": {},
   "outputs": [
    {
     "data": {
      "text/plain": [
       "array([[ True,  True,  True, ...,  True,  True,  True],\n",
       "       [ True,  True,  True, ...,  True,  True,  True],\n",
       "       [ True,  True,  True, ...,  True,  True,  True],\n",
       "       ...,\n",
       "       [ True,  True,  True, ...,  True,  True,  True],\n",
       "       [ True,  True,  True, ...,  True,  True,  True],\n",
       "       [ True,  True,  True, ...,  True,  True,  True]])"
      ]
     },
     "execution_count": 18,
     "metadata": {},
     "output_type": "execute_result"
    }
   ],
   "source": [
    "# colla_sim_matrix.shape\n",
    "np.save('colla_sim_matrix_0423.npy', colla_sim_matrix) # save\n",
    "r = np.load('colla_sim_matrix_0423.npy') # load\n",
    "colla_sim_matrix == r\n",
    "# np.savetxt(\"colla_sim_matrix.csv\", colla_sim_matrix, delimiter=\",\")"
   ]
  }
 ],
 "metadata": {
  "kernelspec": {
   "display_name": "py36",
   "language": "python",
   "name": "python3"
  },
  "language_info": {
   "codemirror_mode": {
    "name": "ipython",
    "version": 3
   },
   "file_extension": ".py",
   "mimetype": "text/x-python",
   "name": "python",
   "nbconvert_exporter": "python",
   "pygments_lexer": "ipython3",
   "version": "3.6.12 |Anaconda, Inc.| (default, Sep  9 2020, 00:29:25) [MSC v.1916 64 bit (AMD64)]"
  },
  "orig_nbformat": 4,
  "vscode": {
   "interpreter": {
    "hash": "65a80066adf52311e4b099f946732f29f233270ec01e58fbcfb8e7e9b391e6c3"
   }
  }
 },
 "nbformat": 4,
 "nbformat_minor": 2
}
