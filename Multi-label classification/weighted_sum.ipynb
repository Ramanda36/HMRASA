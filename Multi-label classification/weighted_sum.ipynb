{
 "cells": [
  {
   "cell_type": "code",
   "execution_count": 1,
   "metadata": {},
   "outputs": [],
   "source": [
    "from sklearn.metrics.pairwise import cosine_similarity\n",
    "import pandas as pd\n",
    "import numpy as np\n",
    "from sklearn import preprocessing\n",
    "import glob\n",
    "\n",
    "\n",
    "\n"
   ]
  },
  {
   "cell_type": "code",
   "execution_count": null,
   "metadata": {},
   "outputs": [],
   "source": [
    "def get_movie_title(fld_path, temp):\n",
    "    file_names = glob.glob(fld_path)\n",
    "    \n",
    "    path_title = {}\n",
    "    for file in file_names:\n",
    "        name = file.split('\\\\')[-1]\n",
    "        title = name.rsplit(' ', 1)[0]\n",
    "        # print(name)\n",
    "        title_list.append(name)\n",
    "        path_title[name] = title\n",
    "    return path_title\n",
    "title_list = []\n",
    "path = './fin_movies_aspect_clusterd_result/*.csv'\n",
    "path_title_dic = get_movie_title(fld_path = path, temp = True)\n",
    "# print(path_title_dic)\n",
    "print(len(path_title_dic))\n",
    "\n",
    "my_file = open('all_already_aspect_extract_movies.txt', \"r\")\n",
    "already_extracted = my_file.read()\n",
    "already_extracted_list = already_extracted.split(\"\\n\")\n",
    "print(len(already_extracted_list))\n",
    "my_file.close()"
   ]
  },
  {
   "cell_type": "code",
   "execution_count": 209,
   "metadata": {},
   "outputs": [
    {
     "name": "stdout",
     "output_type": "stream",
     "text": [
      "[[0.59156814 0.4630781  0.141853   0.52732312 0.37069376]]\n",
      "5\n"
     ]
    }
   ],
   "source": [
    "# get twp modules' similarity score\n",
    "aspect_sentiment = pd.read_csv('./all_movies_aspect_sentiment_score_0423.csv')\n",
    "bert_sentiment = pd.read_csv('./bert_predict_sentiment_score_0502.csv')\n",
    "f_weight = [[0.009208,0.007208,0.002208,0.008208,0.00577]]\n",
    "#acting,diretion,music,story,effect\n",
    "# features = ['original_title','keywords_trans','production_companies_trans','genres_trans','director_trans','cast_trans','release_year']\n",
    "aspect_sentiment.drop('title', inplace=True, axis=1)\n",
    "aspect_sentiment = np.array(aspect_sentiment.values.tolist())\n",
    "# print(aspect_sentiment)\n",
    "f_weight = preprocessing.normalize(f_weight)\n",
    "print(f_weight)\n",
    "# print(cosine_sim_matrix.shape)\n",
    "for w_index in range(len(f_weight[0])):\n",
    "    aspect_sentiment[w_index] = aspect_sentiment[w_index] * f_weight[0][w_index]\n",
    "print(len(aspect_sentiment[0]))\n",
    "\n",
    "c_aspect_sentiment = aspect_sentiment.copy()\n",
    "c_bert_sentiment = bert_sentiment.copy()\n",
    "c_bert_sentiment.drop('title', inplace=True, axis=1)\n"
   ]
  },
  {
   "cell_type": "code",
   "execution_count": 211,
   "metadata": {},
   "outputs": [
    {
     "data": {
      "text/plain": [
       "[]"
      ]
     },
     "execution_count": 211,
     "metadata": {},
     "output_type": "execute_result"
    }
   ],
   "source": [
    "# bert_sentiment\n",
    "# c_bert_sentiment = np.array(c_bert_sentiment)\n",
    "# c_aspect_sentiment\n",
    "c_bert_sentiment = np.array(c_bert_sentiment, dtype=float)\n",
    "idx = [i for i, arr in enumerate(c_bert_sentiment) if not np.isfinite(arr).all()]\n",
    "idx\n",
    "# np.any(np.isnan(c_bert_sentiment))\n",
    "# np.any(np.isfinite(c_bert_sentiment))\n",
    "# len(aspect_sentiment_sim)"
   ]
  },
  {
   "cell_type": "code",
   "execution_count": 212,
   "metadata": {},
   "outputs": [],
   "source": [
    "aspect_sentiment_sim = cosine_similarity(c_aspect_sentiment, c_aspect_sentiment)\n",
    "bert_sentiment_sim = cosine_similarity(c_bert_sentiment, c_bert_sentiment)\n",
    "# movies index mapping\n",
    "mapping = pd.Series(bert_sentiment.index,index = bert_sentiment['title'])\n",
    "\n",
    "\n",
    "\n"
   ]
  },
  {
   "cell_type": "code",
   "execution_count": 213,
   "metadata": {},
   "outputs": [
    {
     "data": {
      "text/plain": [
       "array([[1.        , 0.58073403, 0.9804573 , ..., 0.98453681, 0.97389944,\n",
       "        0.82092108],\n",
       "       [0.58073403, 1.        , 0.71692205, ..., 0.67038364, 0.62939888,\n",
       "        0.5863111 ],\n",
       "       [0.9804573 , 0.71692205, 1.        , ..., 0.9942152 , 0.98340233,\n",
       "        0.81462295],\n",
       "       ...,\n",
       "       [0.98453681, 0.67038364, 0.9942152 , ..., 1.        , 0.99103271,\n",
       "        0.77416395],\n",
       "       [0.97389944, 0.62939888, 0.98340233, ..., 0.99103271, 1.        ,\n",
       "        0.77851855],\n",
       "       [0.82092108, 0.5863111 , 0.81462295, ..., 0.77416395, 0.77851855,\n",
       "        1.        ]])"
      ]
     },
     "execution_count": 213,
     "metadata": {},
     "output_type": "execute_result"
    }
   ],
   "source": [
    "aspect_sentiment_sim"
   ]
  },
  {
   "cell_type": "code",
   "execution_count": 214,
   "metadata": {},
   "outputs": [
    {
     "data": {
      "text/plain": [
       "array([[1.        , 0.32914976, 0.31384547, ..., 0.2842502 , 0.12931439,\n",
       "        0.12953967],\n",
       "       [0.32914976, 1.        , 0.31439387, ..., 0.23680063, 0.26090061,\n",
       "        0.12899119],\n",
       "       [0.31384547, 0.31439387, 1.        , ..., 0.31413521, 0.12784122,\n",
       "        0.12761598],\n",
       "       ...,\n",
       "       [0.2842502 , 0.23680063, 0.31413521, ..., 1.        , 0.12947516,\n",
       "        0.12924987],\n",
       "       [0.12931439, 0.26090061, 0.12784122, ..., 0.12947516, 1.        ,\n",
       "        0.12931439],\n",
       "       [0.12953967, 0.12899119, 0.12761598, ..., 0.12924987, 0.12931439,\n",
       "        1.        ]])"
      ]
     },
     "execution_count": 214,
     "metadata": {},
     "output_type": "execute_result"
    }
   ],
   "source": [
    "metadata_sim"
   ]
  },
  {
   "cell_type": "code",
   "execution_count": 215,
   "metadata": {},
   "outputs": [
    {
     "name": "stdout",
     "output_type": "stream",
     "text": [
      "(856, 856)\n",
      "(856, 856)\n"
     ]
    }
   ],
   "source": [
    "print(aspect_sentiment_sim.shape)\n",
    "print(metadata_sim.shape)"
   ]
  },
  {
   "cell_type": "code",
   "execution_count": 216,
   "metadata": {},
   "outputs": [],
   "source": [
    "#recommender function to recommend movies based on metadata\n",
    "def recommend_movies_based_on_metadata(movie_input, dataset, sim, index, is_meta = False):\n",
    "    movie_index = index[movie_input]\n",
    "    try:\n",
    "        if len(movie_index)>1:\n",
    "            movie_index = movie_index[0]\n",
    "    except:\n",
    "        pass\n",
    "    # print(movie_index)\n",
    "    #get similarity values with other movies\n",
    "    similarity_score = list(enumerate(sim[movie_index]))\n",
    "    # similarity_score = sorted(similarity_score, key=lambda x: x[1], reverse=True)\n",
    "    # print(similarity_score)\n",
    "    # Get the scores of the 15 most similar movies. Ignore the first movie.\n",
    "    # similarity_score = similarity_score[1:15]\n",
    "    # movie_indices = [i[0] for i in similarity_score]\n",
    "    # print(type(similarity_score))\n",
    "    # print(similarity_score[0])\n",
    "    # print(similarity_score)\n",
    "    return np.array(similarity_score)\n",
    "    # r_movie = dataset['title'].iloc[movie_indices]\n",
    "    # return r_movie"
   ]
  },
  {
   "cell_type": "code",
   "execution_count": 217,
   "metadata": {},
   "outputs": [
    {
     "name": "stdout",
     "output_type": "stream",
     "text": [
      "title\n",
      "10 Cloverfield Lane             0\n",
      "10 Things I Hate About You      1\n",
      "12 Angry Men                    2\n",
      "12 Years a Slave                3\n",
      "127 Hours                       4\n",
      "                             ... \n",
      "Youth                         851\n",
      "Zero Dark Thirty              852\n",
      "Zodiac                        853\n",
      "Zombieland                    854\n",
      "Zootopia                      855\n",
      "Length: 856, dtype: int64\n"
     ]
    }
   ],
   "source": [
    "print(mapping)"
   ]
  },
  {
   "cell_type": "code",
   "execution_count": null,
   "metadata": {},
   "outputs": [],
   "source": [
    "# m_sim = recommend_movies_based_on_metadata('Wonder Woman',aspect_sentiment,aspect_sentiment_sim,mapping)\n",
    "# print([t[1] for t in m_sim])\n",
    "# print(type(m_sim))\n",
    "get_recomm = recommend_movies_based_on_metadata('Wonder Woman',aspect_sentiment,aspect_sentiment_sim,mapping)\n",
    "print(get_recomm)\n",
    "get_recomm = get_recomm.tolist()\n",
    "print(get_recomm)"
   ]
  },
  {
   "cell_type": "code",
   "execution_count": 218,
   "metadata": {},
   "outputs": [
    {
     "data": {
      "text/plain": [
       "array([[1.        , 0.58073403, 0.9804573 , ..., 0.98453681, 0.97389944,\n",
       "        0.82092108],\n",
       "       [0.58073403, 1.        , 0.71692205, ..., 0.67038364, 0.62939888,\n",
       "        0.5863111 ],\n",
       "       [0.9804573 , 0.71692205, 1.        , ..., 0.9942152 , 0.98340233,\n",
       "        0.81462295],\n",
       "       ...,\n",
       "       [0.98453681, 0.67038364, 0.9942152 , ..., 1.        , 0.99103271,\n",
       "        0.77416395],\n",
       "       [0.97389944, 0.62939888, 0.98340233, ..., 0.99103271, 1.        ,\n",
       "        0.77851855],\n",
       "       [0.82092108, 0.5863111 , 0.81462295, ..., 0.77416395, 0.77851855,\n",
       "        1.        ]])"
      ]
     },
     "execution_count": 218,
     "metadata": {},
     "output_type": "execute_result"
    }
   ],
   "source": [
    "import numpy as np\n",
    "meta_data = pd.read_csv('all_movies_meta_wr_0418.csv')\n",
    "metadata_sim = np.load('colla_sim_matrix_0423.npy')\n",
    "# print(metadata_sim)\n",
    "# meta_title_index = pd.read_csv('./movies_title_index.csv',header=None, index_col=0, squeeze=True)\n",
    "aspect_sentiment_sim\n"
   ]
  },
  {
   "cell_type": "code",
   "execution_count": 86,
   "metadata": {},
   "outputs": [
    {
     "name": "stdout",
     "output_type": "stream",
     "text": [
      "856\n"
     ]
    }
   ],
   "source": [
    "print(len(metadata_sim))"
   ]
  },
  {
   "cell_type": "code",
   "execution_count": 14,
   "metadata": {},
   "outputs": [
    {
     "name": "stdout",
     "output_type": "stream",
     "text": [
      "9                    Batman v Superman_ Dawn of Justice\n",
      "95                                        Suicide Squad\n",
      "56                                   Kong_ Skull Island\n",
      "128                                            Warcraft\n",
      "23                                       Doctor Strange\n",
      "30              Fantastic Beasts and Where to Find Them\n",
      "45                           How to Train Your Dragon 2\n",
      "124                                      Thor_ Ragnarok\n",
      "66                                   Mad Max_ Fury Road\n",
      "98                             The Amazing Spider-Man 2\n",
      "78     Pirates of the Caribbean_ Dead Men Tell No Tales\n",
      "108           The Hobbit_ The Battle of the Five Armies\n",
      "135                          X-Men_ Days of Future Past\n",
      "111                                      The Lego Movie\n",
      "Name: title, dtype: object\n"
     ]
    }
   ],
   "source": [
    "#check recommendation(only recommand with meta)\n",
    "similarity_score = sorted(meta_sim, key=lambda x: x[1], reverse=True)\n",
    "similarity_score = similarity_score[1:15]\n",
    "movie_indices = [i[0] for i in similarity_score]\n",
    "r_movie = aspect_sentiment['title'].iloc[movie_indices]\n",
    "print(r_movie)\n",
    "# r_movie = r_movie.tolist()\n",
    "# precision = 0\n",
    "# tp = 0\n",
    "# fp = 0\n",
    "# for r in r_movie:\n",
    "#     if r in top_rank:\n",
    "#         tp += 1\n",
    "#     else:\n",
    "#         fp += 1\n",
    "# print(tp/(tp+fp))"
   ]
  },
  {
   "cell_type": "code",
   "execution_count": 62,
   "metadata": {},
   "outputs": [],
   "source": [
    "# meta_data.to_csv('meta_title_meta_139.csv', index=False)\n",
    "from sklearn.metrics.pairwise import cosine_similarity\n",
    "from sklearn.feature_extraction.text import CountVectorizer\n",
    "cosine_sim_matrix = np.load('colla_sim_matrix_0423.npy')\n",
    "\n"
   ]
  },
  {
   "cell_type": "code",
   "execution_count": 219,
   "metadata": {},
   "outputs": [
    {
     "name": "stdout",
     "output_type": "stream",
     "text": [
      "[[1.         0.32914976 0.31384547 ... 0.2842502  0.12931439 0.12953967]\n",
      " [0.32914976 1.         0.31439387 ... 0.23680063 0.26090061 0.12899119]\n",
      " [0.31384547 0.31439387 1.         ... 0.31413521 0.12784122 0.12761598]\n",
      " ...\n",
      " [0.2842502  0.23680063 0.31413521 ... 1.         0.12947516 0.12924987]\n",
      " [0.12931439 0.26090061 0.12784122 ... 0.12947516 1.         0.12931439]\n",
      " [0.12953967 0.12899119 0.12761598 ... 0.12924987 0.12931439 1.        ]]\n"
     ]
    }
   ],
   "source": [
    "print(cosine_sim_matrix)"
   ]
  },
  {
   "cell_type": "code",
   "execution_count": 187,
   "metadata": {},
   "outputs": [
    {
     "data": {
      "text/plain": [
       "856"
      ]
     },
     "execution_count": 187,
     "metadata": {},
     "output_type": "execute_result"
    }
   ],
   "source": [
    "import pickle\n",
    "with open(\"movies_with_related_0424\", \"rb\") as fp:   # Unpickling\n",
    "    m_r = pickle.load(fp)\n",
    "len(m_r)\n"
   ]
  },
  {
   "cell_type": "code",
   "execution_count": 178,
   "metadata": {},
   "outputs": [
    {
     "data": {
      "text/plain": [
       "['Aquaman',\n",
       " 'Man of Steel',\n",
       " 'Batman v Superman: Dawn of Justice',\n",
       " 'Wonder Woman 1984',\n",
       " 'Justice League',\n",
       " \"Zack Snyder's Justice League\",\n",
       " 'Doctor Strange',\n",
       " 'Venom',\n",
       " 'Deadpool 2',\n",
       " 'Batman v Superman: Dawn of Justice (Ultimate Edition)',\n",
       " 'Captain America: Civil War',\n",
       " 'Iron Man Three']"
      ]
     },
     "execution_count": 178,
     "metadata": {},
     "output_type": "execute_result"
    }
   ],
   "source": [
    "m_r['tt0451279']"
   ]
  },
  {
   "cell_type": "code",
   "execution_count": 188,
   "metadata": {},
   "outputs": [
    {
     "data": {
      "text/plain": [
       "dict_keys(['10 Cloverfield Lane@tt1179933', '10 Things I Hate About You@tt0147800', '12 Angry Men@tt0050083', '12 Years a Slave@tt2024544', '127 Hours@tt1542344', '1408@tt0450385', '1941@tt0078723', '2012@tt1190080', '21@tt0478087', '21 Jump Street@tt1232829', '22 Jump Street@tt2294449', '28 Days Later...@tt0289043', '28 Weeks Later@tt0463854', '3 Idiots@tt1187043', '30 Days of Night@tt0389722', '300@tt0416449', '3_10 to Yuma@tt0381849', '42@tt0453562', '50 First Dates@tt0343660', '54@tt0120577', '8 Mile@tt0298203', 'A Beautiful Mind@tt0268978', \"A Bug's Life@tt0120623\", 'A Night at the Roxbury@tt0120770', 'A Nightmare on Elm Street@tt0087800', 'A Walk to Remember@tt0281358', 'About Time@tt2194499', 'Abraham Lincoln_ Vampire Hunter@tt1611224', 'Across the Universe@tt0445922', 'Airlift@tt4387040', 'Alexander@tt0346491', 'Ali@tt0248667', 'Alice in Wonderland@tt1014759', 'Aliens@tt2316204', 'Alien_ Covenant@tt0118583', 'Alien_ Resurrection@tt0090605', \"All the President's Men@tt0074119\", 'American Beauty@tt0169547', 'American Gangster@tt0765429', 'American History X@tt0120586', 'American Hustle@tt1800241', 'American Pie@tt0163651', 'American Psycho@tt0144084', 'American Sniper@tt2179136', 'Amistad@tt0118607', 'Anchorman_ The Legend of Ron Burgundy@tt0357413', 'Angels & Demons@tt0808151', 'Ant-Man@tt0478970', 'Antz@tt0120587', 'Any Given Sunday@tt0146838', 'Apollo 13@tt0112384', 'Argo@tt1024648', 'Armageddon@tt0120591', 'Arrival@tt2543164', 'As Good as It Gets@tt0119822', 'Atonement@tt0783233', 'August Rush@tt0426931', 'Avatar@tt0499549', 'Avengers_ Age of Ultron@tt2395427', 'Baby Driver@tt0131857', 'Bad Teacher@tt3890160', 'Balls of Fury@tt1284575', 'BASEketball@tt0424823', 'Batman Begins@tt0372784', 'Batman v Superman_ Dawn of Justice@tt2975590', 'Beasts of No Nation@tt1365050', 'Beauty and the Beast@tt2771200', 'Beauty and the Beast@tt0101414', 'Before Sunrise@tt0112471', 'Before Sunset@tt0381681', 'Being John Malkovich@tt0120601', 'Ben-Hur@tt0052618', 'Beowulf@tt0442933', 'Bhaag Milkha Bhaag@tt2356180', 'Big Fish@tt0319061', 'Big Hero 6@tt2245084', 'Billy Elliot@tt0249462', 'Black Hawk Down@tt0265086', 'Black Mass@tt1355683', 'Black Snake Moan@tt0462200', 'Black Swan@tt0947798', 'Blade@tt0120611', 'Blade II@tt0187738', 'Blades of Glory@tt0445934', 'Blood Diamond@tt0450259', 'Bloody Sunday@tt0280491', 'Blow@tt0221027', 'Blue Crush@tt0300532', 'Bolt@tt0397892', 'Borat_ Cultural Learnings of America for Make Benefit Glorious Nation of Kazakhstan@tt0443453', 'Brave@tt1217209', 'Braveheart@tt0112573', 'Bridesmaids@tt1478338', 'Bridge of Spies@tt3682448', \"Bridget Jones's Diary@tt0243155\", 'Bring It On@tt0204946', 'Brokeback Mountain@tt0388795', 'Bruce Almighty@tt0315327', 'Burlesque@tt1126591', 'Burn After Reading@tt0887883', 'Call Me by Your Name@tt5726616', 'Capote@tt0379725', 'Captain America_ Civil War@tt3498820', 'Captain America_ The First Avenger@tt0458339', 'Captain America_ The Winter Soldier@tt1843866', \"Captain Corelli's Mandolin@tt0238112\", 'Captain Phillips@tt1535109', 'Carrie@tt0074285', 'Cars 2@tt0317219', 'Cars@tt1216475', 'Casino@tt0112641', 'Casino Royale@tt0381061', 'Cast Away@tt0162222', 'Catch Me If You Can@tt0264464', 'Centurion@tt1020558', 'Changeling@tt0824747', 'Chariots of Fire@tt0082158', 'Charlie and the Chocolate Factory@tt0367594', 'Chicken Run@tt0120630', 'Child 44@tt1014763', 'Children of Men@tt0206634', 'Cinderella@tt0042332', 'Cinderella Man@tt0352248', 'Citizen Kane@tt0033467', 'Clash of the Titans@tt0800320', 'Click@tt0389860', 'Closer@tt0376541', 'Cloud Atlas@tt1371111', 'Cloudy with a Chance of Meatballs@tt0844471', 'Cloverfield@tt1060277', 'Coach Carter@tt0393162', 'Coffee and Cigarettes@tt0379217', 'Cold Mountain@tt0159365', 'Collateral@tt0369339', 'Con Air@tt0118880', 'Concussion@tt3322364', 'Constantine@tt0360486', 'Contact@tt0118884', 'Control@tt0421082', 'Coraline@tt0327597', 'Coriolanus@tt1372686', 'Corpse Bride@tt0121164', 'Coyote Ugly@tt0200550', 'Crash@tt0375679', 'Crazy Heart@tt1263670', 'Creed@tt3076658', 'Cube@tt0123755', 'Dallas Buyers Club@tt0790636', 'Dark City@tt0118929', 'Dark Shadows@tt1077368', 'Dawn of the Dead@tt0363547', 'Deadpool@tt1431045', 'Dear John@tt0989757', 'Deepwater Horizon@tt1860357', 'Defiance@tt1034303', 'Despicable Me 2@tt1323594', 'Despicable Me@tt1690953', 'Detroit Rock City@tt0165710', 'Die Hard@tt0095016', 'Dirty Dancing@tt0092890', 'District 9@tt1136608', 'Disturbia@tt0486822', 'Divergent@tt1840309', 'Django Unchained@tt1853728', 'Doctor Strange@tt1211837', 'Dog Day Afternoon@tt0072890', 'Don Jon@tt2229499', \"Don't Breathe@tt4160708\", 'Donnie Brasco@tt0119008', 'Donnie Darko@tt0246578', 'Dr. Strangelove or_ How I Learned to Stop Worrying and Love the Bomb@tt0057012', 'Draft Day@tt2223990', 'Drag Me to Hell@tt1127180', 'Dreamgirls@tt0443489', 'Drive@tt0780504', 'Driven@tt0132245', 'Dumb and Dumber@tt0109686', 'Dunkirk@tt5013056', 'Easy A@tt1282140', 'Ed Wood@tt0109707', 'Edge of Tomorrow@tt1631867', 'Edward Scissorhands@tt0099487', 'Elf@tt0319343', 'Elizabeth@tt0127536', 'Elizabeth_ The Golden Age@tt0414055', 'Elysium@tt1535108', 'Empire Records@tt0112950', 'Enchanted@tt0461770', \"Ender's Game@tt1731141\", 'Enemy at the Gates@tt0215750', 'Erin Brockovich@tt0195685', 'Eternal Sunshine of the Spotless Mind@tt0338013', 'Event Horizon@tt0119081', 'Everest@tt2719848', 'Evil Dead@tt1288558', 'Ex Machina@tt0470752', 'Eyes Wide Shut@tt0120663', 'Fantastic Beasts and Where to Find Them@tt3183660', 'Fantastic Four@tt0120667', 'Fantastic Mr. Fox@tt0432283', 'Fargo@tt0116282', 'Fast & Furious 6@tt1905041', 'Fast Five@tt1596343', 'Fifty Shades of Grey@tt2322441', 'Fight Club@tt0137523', 'Final Destination 2@tt0195714', 'Final Destination@tt0309593', 'Finding Dory@tt2277860', 'Finding Nemo@tt0266543', 'Finding Neverland@tt0308644', 'Flight@tt1907668', 'Footloose@tt1068242', 'Footloose@tt0087277', 'For Love of the Game@tt0126916', 'Forgetting Sarah Marshall@tt0800039', 'Forrest Gump@tt0109830', 'Foxcatcher@tt1100089', 'Frank@tt1605717', 'Friday Night Lights@tt0390022', 'Friends with Benefits@tt1632708', 'From Dusk Till Dawn@tt0116367', 'From Hell@tt0120681', 'Frozen@tt2294629', 'Furious 7@tt2820852', 'Fury@tt2713180', 'G.I. Jane@tt0119173', 'Gangs of New York@tt0217505', 'Garden State@tt0333766', 'Get Him to the Greek@tt1226229', 'Get Out@tt5052448', 'Ghost Rider@tt0259324', 'Ghostbusters@tt0087332', 'Girl, Interrupted@tt0172493', 'Gladiator@tt0172495', 'Glory Road@tt0385726', 'Godzilla@tt0831387', 'Gone Baby Gone@tt0452623', 'Gone Girl@tt2267998', 'Gone with the Wind@tt0031381', 'Good Night, and Good Luck.@tt0433383', 'Good Will Hunting@tt0119217', 'Gran Torino@tt1205489', 'Gravity@tt1454468', 'Green Room@tt4062536', 'Groundhog Day@tt0385002', 'Grudge Match@tt0107048', 'Guardians of the Galaxy@tt1661382', 'Guardians of the Galaxy Vol. 2@tt2015381', 'Hacksaw Ridge@tt3896198', 'Hail, Caesar!@tt2119532', 'Halloween@tt0475290', 'Hancock@tt0077651', 'Hansel & Gretel_ Witch Hunters@tt0448157', 'Happy Feet@tt1428538', 'Happy Gilmore@tt0366548', 'Happy New Year@tt0116483', 'Hardball@tt2461132', 'Harry Potter and the Chamber of Secrets@tt0180734', 'Harry Potter and the Deathly Hallows_ Part 1@tt0295297', 'Harry Potter and the Deathly Hallows_ Part 2@tt0926084', 'Harry Potter and the Goblet of Fire@tt1201607', 'Harry Potter and the Order of the Phoenix@tt0330373', 'Harry Potter and the Prisoner of Azkaban@tt0373889', \"Hart's War@tt0304141\", 'He Got Game@tt0251114', 'Heat@tt0124718', 'Hedwig and the Angry Inch@tt0113277', 'Hellboy@tt0248845', 'Hellboy II_ The Golden Army@tt0167190', 'Her@tt0411477', 'Hercules@tt1798709', 'Here Comes the Boom@tt0119282', 'Hidden Figures@tt1648179', 'High Fidelity@tt4846340', 'Hitch@tt0146882', 'Honey@tt0386588', 'Hooligans@tt0322589', 'Horrible Bosses@tt1499658', 'Hostel@tt0450278', 'Hot Fuzz@tt0425112', 'Hot Rod@tt0787475', 'Hotel Rwanda@tt0395169', 'Hotel Transylvania@tt0837562', 'How to Lose a Guy in 10 Days@tt0251127', 'How to Train Your Dragon 2@tt0892769', 'How to Train Your Dragon@tt1646971', 'Hugo@tt0970179', 'Hustle & Flow@tt0410097', 'I Am Legend@tt0480249', 'I Love You, Man@tt1155056', 'I, Robot@tt0343818', 'Ice Age@tt0268380', 'Ice Age_ Continental Drift@tt1667889', 'Ice Age_ Dawn of the Dinosaurs@tt1080016', 'Ice Age_ The Meltdown@tt0438097', 'Identity@tt0309698', 'If I Stay@tt1355630', 'In Bruges@tt0780536', 'In the Land of Blood and Honey@tt1637688', 'In Time@tt1714209', 'Incendies@tt1255953', 'Inception@tt1375666', 'Independence Day@tt0116629', 'Indiana Jones and the Last Crusade@tt0097576', 'Inglourious Basterds@tt0361748', 'Inside Llewyn Davis@tt2042568', 'Inside Man@tt0454848', 'Inside Out@tt2096673', 'Insidious@tt1591095', 'Insidious_ Chapter 2@tt2226417', 'Insomnia@tt0278504', 'Interstellar@tt0816692', 'Into the Wild@tt0758758', 'Invictus@tt1057500', 'Invincible@tt0445990', 'Iron Man 2@tt0371746', 'Iron Man@tt1228705', 'Iron Man 3@tt1300854', 'It Follows@tt3235888', 'Jack Reacher@tt0790724', 'Jackie@tt1619029', 'Jackie Brown@tt0119396', 'Jarhead@tt0418763', 'Jerry Maguire@tt0116695', 'Jersey Boys@tt1742044', 'John Wick@tt2911666', 'John Wick_ Chapter 2@tt4425200', 'Joy@tt2446980', 'Juno@tt0467406', 'Jurassic World@tt0369610', 'Justice League@tt0974015', 'K-19_ The Widowmaker@tt0267626', 'Kick-Ass@tt1250777', 'Kickboxer@tt0097659', 'Kill Bill_ Vol. 1@tt0266697', 'Kill Bill_ Vol. 2@tt0378194', 'Kingpin@tt0116778', 'Kingsman_ The Secret Service@tt2802144', 'Knocked Up@tt0478311', 'Knowing@tt0448011', 'Kong_ Skull Island@tt3731562', 'Kung Fu Panda 2@tt0441773', 'Kung Fu Panda@tt1302011', 'L.A. Confidential@tt0119488', 'La La Land@tt3783958', 'Law Abiding Citizen@tt1197624', 'Legend@tt3569230', 'Legends of the Fall@tt0110322', 'Liar Liar@tt0119528', 'Life@tt5442430', 'Life of Pi@tt0454876', 'Lilo & Stitch@tt0275847', 'Limitless@tt1219289', 'Lincoln@tt0443272', 'Lion@tt3741834', 'Little Boy@tt1810683', 'Little Miss Sunshine@tt0449059', 'Live Free or Die Hard@tt0337978', 'Lock, Stock and Two Smoking Barrels@tt0120735', 'Logan@tt3315342', 'Lone Survivor@tt1091191', 'Looper@tt1276104', 'Lord of War@tt0399295', 'Lords of Dogtown@tt0355702', 'Lost in Translation@tt0335266', 'Love & Mercy@tt0903657', 'Love Actually@tt0314331', 'Love and Death@tt0073312', 'Lucky Number Slevin@tt0425210', 'Lucy@tt2872732', 'Macbeth@tt0066026', 'Mad Max_ Fury Road@tt2884018', 'Madagascar@tt1392190', \"Madagascar 3_ Europe's Most Wanted@tt0351283\", 'Madagascar_ Escape 2 Africa@tt1277953', 'Magic Mike XXL@tt0479952', 'Major League@tt2268016', 'Mama@tt0097815', 'Mamma Mia!@tt2023587', 'Man of Steel@tt0795421', 'Man on Fire@tt0770828', 'Man on the Moon@tt0328107', 'Marie Antoinette@tt0125664', 'Mary and Max@tt0422720', 'MASH@tt0978762', 'Match Point@tt0416320', 'McFarland, USA@tt2097298', 'Me Before You@tt2674426', 'Meet Joe Black@tt0119643', 'Meet the Fockers@tt0290002', 'Meet the Parents@tt0212338', 'Megamind@tt1001526', 'Memento@tt0209144', 'Men in Black@tt0119654', 'Men in Black 3@tt1409024', 'Men in Black II@tt0120912', 'Midnight in Paris@tt1605783', 'Milk@tt1013753', 'Million Dollar Arm@tt1647668', 'Million Dollar Baby@tt0405159', 'Minions@tt2293640', 'Minority Report@tt0181689', 'Miracle@tt0349825', 'Mission_ Impossible - Ghost Protocol@tt0117060', 'Mission_ Impossible - Rogue Nation@tt1229238', 'Mission_ Impossible@tt2381249', 'Mission_ Impossible II@tt0120755', 'Mission_ Impossible III@tt0317919', 'Moana@tt3521164', 'Moneyball@tt1210166', 'Monster@tt0340855', 'Monsters University@tt1453405', 'Monsters, Inc.@tt0198781', 'Moon@tt1182345', 'Moonrise Kingdom@tt1748122', 'Moulin Rouge!@tt0203009', 'Mr. & Mrs. Smith@tt0356910', \"Mr. Holland's Opus@tt0113862\", 'Mr. Nobody@tt0485947', 'Mulan@tt0120762', 'Mulholland Drive@tt0166924', 'Munich@tt0408306', 'Music and Lyrics@tt0758766', 'Mystic River@tt0327056', 'Nacho Libre@tt0457510', 'National Treasure@tt0368891', 'National Treasure_ Book of Secrets@tt0465234', 'Never Back Down@tt1023111', \"Nick and Norah's Infinite Playlist@tt0981227\", 'Nightcrawler@tt2872718', 'No Country for Old Men@tt0477348', \"No Man's Land@tt0283509\", 'No Strings Attached@tt1411238', 'Non-Stop@tt2024469', 'Notting Hill@tt0125439', 'Now You See Me@tt1670345', 'Oblivion@tt1483013', \"Ocean's Eleven@tt0240772\", \"Ocean's Thirteen@tt0496806\", \"Ocean's Twelve@tt0349903\", 'Once@tt0907657', 'Orphan@tt1148204', 'Over the Hedge@tt0327084', 'P.S. I Love You@tt0431308', 'Pacific Rim@tt1663662', 'Paranormal Activity@tt1179904', 'Passengers@tt1355644', 'Pawn Sacrifice@tt1596345', 'Pearl Harbor@tt0213149', 'Pi@tt0138704', 'Pineapple Express@tt0910936', \"Pirates of the Caribbean_ At World's End@tt0449088\", \"Pirates of the Caribbean_ Dead Man's Chest@tt0383574\", 'Pirates of the Caribbean_ Dead Men Tell No Tales@tt1790809', 'Pirates of the Caribbean_ On Stranger Tides@tt1298650', 'Pirates of the Caribbean_ The Curse of the Black Pearl@tt0325980', 'Pitch Black@tt0134847', 'Pitch Perfect 2@tt1981677', 'Pitch Perfect@tt2848292', 'Platoon@tt0091763', 'Pocahontas@tt0114148', 'Point Break@tt2058673', 'Popstar_ Never Stop Never Stopping@tt3960412', 'Predator@tt0093773', 'Pride & Prejudice@tt0414387', 'Prince of Persia_ The Sands of Time@tt0473075', 'Prisoners@tt1392214', 'Prometheus@tt1446714', 'Psycho@tt0054215', 'Public Enemies@tt1152836', 'Pulp Fiction@tt0110912', 'Quantum of Solace@tt0830515', 'Quiz Show@tt0110932', 'Rab Ne Bana Di Jodi@tt1245526', 'Radio@tt1182937', 'Rang De Basanti@tt0316465', 'Rango@tt0405508', 'Ratatouille@tt1192628', 'Ray@tt0382932', 'Rear Window@tt0350258', 'RED@tt0047396', 'Remember the Titans@tt0210945', 'Requiem for a Dream@tt0180093', 'Reservoir Dogs@tt0105236', 'Resident Evil@tt0120804', 'Resident Evil_ Afterlife@tt1220634', 'Resident Evil_ Apocalypse@tt0318627', 'Resident Evil_ Extinction@tt0432021', 'Revolutionary Road@tt0959337', 'Rio@tt1436562', 'Rise of the Guardians@tt1446192', 'Rise of the Planet of the Apes@tt1318514', 'Rock Star@tt0202470', 'Rocky II@tt0079817', 'Rocky IV@tt0089927', 'Rogue One_ A Star Wars Story@tt3748528', 'Romeo + Juliet@tt0117509', 'Room@tt3170832', \"Rosemary's Baby@tt0063522\", 'Rules of Engagement@tt0160797', 'Rush@tt1979320', 'Saboteur@tt0035279', 'Saints and Soldiers@tt0373283', 'Salt@tt0944835', 'Sausage Party@tt1700841', 'Save the Last Dance@tt0206275', 'Saving Mr. Banks@tt2140373', 'Saving Private Ryan@tt0120815', 'Saw@tt0387564', 'Saw II@tt0432348', 'Saw III@tt0489270', 'Scarface@tt0086250', 'Scary Movie 2@tt0257106', 'School of Rock@tt0332379', 'Scott Pilgrim vs. the World@tt0446029', 'Scream@tt0117571', 'Scream 2@tt0120082', 'Se7en@tt0114369', 'Seabiscuit@tt0329575', 'Selma@tt1020072', 'Semi-Pro@tt0839980', 'Seven Years in Tibet@tt0120102', 'Shakespeare in Love@tt0138097', 'Shark Tale@tt0307453', 'Shaun of the Dead@tt0365748', \"She's the Man@tt0454945\", 'Sherlock Holmes@tt0988045', 'Sherlock Holmes_ A Game of Shadows@tt1515091', 'Shine@tt0117631', 'Shooter@tt0822854', 'Shrek 2@tt0126029', 'Shrek@tt0298148', 'Shrek Forever After@tt0892791', 'Shrek the Third@tt0413267', 'Shutter Island@tt1130884', 'Sicario@tt3397884', 'Signs@tt0286106', 'Silence@tt0490215', 'Silent Hill@tt0384537', 'Silver Linings Playbook@tt1045658', 'Sin City@tt0401792', 'Sing Street@tt3544112', \"Singin' in the Rain@tt0045152\", 'Sinister@tt1922777', 'Skyfall@tt1074638', 'Sleepy Hollow@tt0162661', 'Slumdog Millionaire@tt1010048', 'Snatch@tt0208092', 'Snow White and the Seven Dwarfs@tt0029583', 'Snowden@tt3774114', 'Source Code@tt0945513', 'South Park_ Bigger, Longer & Uncut@tt0158983', 'Southpaw@tt1798684', 'Space Jam@tt0117705', 'Spartacus@tt0054331', 'Spectre@tt2379713', 'Speed@tt0111257', 'Spice World@tt0120185', 'Spider-Man 2@tt0145487', 'Spider-Man@tt0316654', 'Spider-Man 3@tt0413300', 'Split@tt4972582', 'Spotlight@tt1895587', 'Star Trek@tt0796366', 'Star Trek Into Darkness@tt1408101', 'Star Wars_ Episode I - The Phantom Menace@tt0120915', 'Star Wars_ Episode II - Attack of the Clones@tt0121765', 'Star Wars_ Episode III - Revenge of the Sith@tt0121766', 'Stardust@tt0486655', 'Step Up@tt0462590', 'Step Up 2_ The Streets@tt1023481', 'Steve Jobs@tt2080374', 'Stop-Loss@tt0489281', 'Straight Outta Compton@tt1398426', 'Stranger Than Fiction@tt0420223', 'Sucker Punch@tt0978764', 'Suicide Squad@tt1386697', 'Sully@tt3263904', 'Sultan@tt4832640', 'Super 8@tt1650062', 'Superbad@tt0829482', 'Sweeney Todd_ The Demon Barber of Fleet Street@tt0408236', 'Sweet and Lowdown@tt0158371', 'Taken 2@tt0936501', 'Taken@tt1397280', 'Talladega Nights_ The Ballad of Ricky Bobby@tt0415306', 'Tangled@tt0398286', 'Tarzan@tt0120855', 'Ted@tt1637725', 'Terminator 3_ Rise of the Machines@tt0181852', 'Terminator Salvation@tt0438488', 'That Thing You Do!@tt0117887', 'The 13th Warrior@tt0120657', 'The Adjustment Bureau@tt1385826', 'The Adventures of Priscilla, Queen of the Desert@tt0109045', 'The Adventures of Tintin@tt0983193', 'The Alamo@tt0318974', 'The Amazing Spider-Man 2@tt0948470', 'The Amazing Spider-Man@tt1872181', 'The Artist@tt1655442', 'The Assassination of Jesse James by the Coward Robert Ford@tt0443680', 'The Avengers@tt0848228', 'The Aviator@tt0338751', 'The Babadook@tt2321549', 'The Beach@tt0163978', 'The Benchwarmers@tt0437863', 'The Big Lebowski@tt0118715', 'The Big Short@tt1596363', 'The Birth of a Nation@tt0004972', 'The Blair Witch Project@tt0185937', 'The Blind Side@tt0878804', 'The Book Thief@tt0816442', 'The Bourne Identity@tt0258463', 'The Bourne Legacy@tt1194173', 'The Bourne Supremacy@tt0372183', 'The Bourne Ultimatum@tt0440963', 'The Bridge on the River Kwai@tt0050212', 'The Butterfly Effect@tt0289879', 'The Chronicles of Narnia_ The Lion, the Witch and the Wardrobe@tt0363771', 'The Conjuring 2@tt1457767', 'The Conjuring@tt3065204', 'The Croods@tt0481499', 'The Curious Case of Benjamin Button@tt0421715', 'The Da Vinci Code@tt0382625', 'The Danish Girl@tt0810819', 'The Dark Knight@tt0468569', 'The Dark Knight Rises@tt1345836', 'The Day After Tomorrow@tt0319262', 'The Departed@tt0407887', 'The Descent@tt0435625', 'The Devil Wears Prada@tt0458352', \"The Devil's Advocate@tt0118971\", 'The Doors@tt0101761', 'The Duchess@tt0864761', \"The Emperor's New Groove@tt0120917\", 'The English Patient@tt0116209', 'The Equalizer@tt0455944', 'The Expendables 2@tt1320253', 'The Expendables@tt1764651', 'The Fan@tt0116277', 'The Fast and the Furious@tt0232500', 'The Fault in Our Stars@tt2582846', 'The Fifth Element@tt0119116', 'The Fighter@tt0964517', 'The Finest Hours@tt2025690', 'The Football Factory@tt0385705', 'The Fountain@tt0414993', 'The Game@tt0119174', 'The Girl Next Door@tt0265208', 'The Girl with the Dragon Tattoo@tt1568346', 'The Godfather_ Part II@tt0071562', 'The Good Shepherd@tt0343737', 'The Grand Budapest Hotel@tt2278388', 'The Great Gatsby@tt1343092', 'The Great Raid@tt0326905', 'The Greatest Game Ever Played@tt0388980', 'The Green Mile@tt0120689', 'The Hangover@tt1119646', 'The Hangover Part II@tt1411697', 'The Hangover Part III@tt1951261', 'The Happening@tt0949731', 'The Hateful Eight@tt3460252', 'The Hills Have Eyes@tt0454841', 'The Hobbit_ An Unexpected Journey@tt0903624', 'The Hobbit_ The Battle of the Five Armies@tt2310332', 'The Hobbit_ The Desolation of Smaug@tt1170358', 'The Holiday@tt0457939', 'The Hunger Games@tt1392170', 'The Hunger Games_ Catching Fire@tt1951264', 'The Hunger Games_ Mockingjay - Part 1@tt1951265', 'The Hurricane@tt0174856', 'The Hurt Locker@tt0887912', 'The Hustler@tt0054997', 'The Illusionist@tt0443543', 'The Imitation Game@tt2084970', 'The Incredible Hulk@tt0800080', 'The Incredibles@tt0317705', 'The Insider@tt0140352', 'The Iron Giant@tt0129167', 'The Island@tt0399201', 'The Italian Job@tt0317740', 'The Jungle Book@tt0061852', \"The King's Speech@tt1504320\", 'The Last King of Scotland@tt0455590', 'The Last Legion@tt0462396', 'The Last Samurai@tt0325710', 'The Last Song@tt1294226', 'The Legend of Bagger Vance@tt0146984', 'The Lego Movie@tt1490017', 'The Lion King@tt0110357', 'The Lobster@tt3464902', 'The Longest Day@tt0056197', 'The Longest Yard@tt0398165', 'The Lord of the Rings_ The Fellowship of the Ring@tt0120737', 'The Lord of the Rings_ The Return of the King@tt0167260', 'The Lord of the Rings_ The Two Towers@tt0167261', 'The Lost City of Z@tt1212428', 'The Lost World_ Jurassic Park@tt0119567', 'The Love Guru@tt0811138', 'The Machinist@tt0361862', 'The Man Who Would Be King@tt0073341', 'The Martian@tt3659388', 'The Mask@tt0110475', 'The Matrix@tt0133093', 'The Matrix Reloaded@tt0234215', 'The Matrix Revolutions@tt0242653', 'The Maze Runner@tt1790864', 'The Men Who Stare at Goats@tt1234548', 'The Mist@tt0884328', 'The Monuments Men@tt2177771', 'The Mummy@tt0120616', 'The Mummy Returns@tt0209163', 'The Natural@tt0087781', 'The New World@tt0402399', 'The Nice Guys@tt3799694', 'The Notebook@tt0332280', 'The Number 23@tt0481369', 'The Other Boleyn Girl@tt0467200', 'The Others@tt0230600', 'The Ottoman Lieutenant@tt4943322', 'The Patriot@tt0187393', 'The Perks of Being a Wallflower@tt1659337', 'The Pianist@tt0253474', 'The Piano@tt0107822', 'The Polar Express@tt0338348', 'The Prestige@tt0482571', 'The Princess Bride@tt0093779', 'The Producers@tt0063462', 'The Proposal@tt1041829', 'The Purge@tt2184339', 'The Pursuit of Happyness@tt0454921', 'The Queen@tt0436697', 'The Reader@tt0976051', 'The Red Violin@tt0120802', 'The Replacements@tt0191397', 'The Revenant@tt1663202', 'The Ring@tt0298130', 'The Ringer@tt0267891', 'The Rock@tt0117500', 'The Rocker@tt1031969', 'The Rookie@tt0265662', 'The Runaways@tt1017451', 'The Secret Life of Pets@tt2709768', 'The Secret Life of Walter Mitty@tt0359950', 'The Shawshank Redemption@tt0111161', 'The Simpsons Movie@tt0462538', 'The Sixth Sense@tt0167404', 'The Social Network@tt1285016', 'The Soloist@tt0821642', 'The Sound of Music@tt0059742', 'The Terminal@tt0362227', 'The Terminator@tt0088247', 'The Theory of Everything@tt2980516', 'The Thin Red Line@tt0120863', 'The Thing@tt0084787', 'The Town@tt0840361', 'The Transporter@tt0293662', 'The Truman Show@tt0120382', 'The Twilight Saga_ Breaking Dawn - Part 1@tt1324999', 'The Twilight Saga_ Breaking Dawn - Part 2@tt1673434', 'The Twilight Saga_ Eclipse@tt1325004', 'The Twilight Saga_ New Moon@tt1259571', 'The Ugly Truth@tt1142988', 'The Untouchables@tt0094226', 'The Usual Suspects@tt0114814', 'The Village@tt0368447', 'The Water Diviner@tt3007512', 'The Waterboy@tt0120484', 'The Way Back@tt1023114', 'The Wedding Singer@tt0120888', 'The Witch@tt4263482', 'The Wolf of Wall Street@tt0993846', 'The Wolverine@tt1430132', 'The Woman in Black@tt1596365', \"The World's Fastest Indian@tt0412080\", 'The Wrestler@tt1125849', 'The Young Victoria@tt0962736', 'There Will Be Blood@tt0469494', \"There's Something About Mary@tt0129387\", 'Thirteen Days@tt0146309', 'This Is the End@tt1245492', 'Thor@tt0800369', 'Thor_ Ragnarok@tt3501632', 'Thor_ The Dark World@tt1981115', 'Tigerland@tt0170691', 'Tinker Tailor Soldier Spy@tt1340800', 'Titanic@tt0120338', 'Tombstone@tt0108358', 'Total Recall@tt0100802', 'Toy Story@tt0114709', 'Toy Story 2@tt0120363', 'Toy Story 3@tt0435761', 'Training Day@tt0139654', 'Trainspotting@tt0117951', 'Transformers@tt0418279', 'Transformers_ Dark of the Moon@tt1399103', 'Transformers_ Revenge of the Fallen@tt1055369', 'Tropic Thunder@tt0942385', 'Trouble with the Curve@tt2083383', 'Troy@tt0332452', 'Tucker and Dale vs Evil@tt1465522', 'Twilight@tt1099212', 'Two for the Money@tt0417217', 'U-571@tt0141926', 'Unbreakable@tt0217869', 'Unbroken@tt1809398', 'Underworld@tt0320691', 'United 93@tt0475276', 'Unknown@tt1401152', 'Up@tt1049413', 'Up in the Air@tt1193138', 'V for Vendetta@tt0434409', 'Valkyrie@tt0985699', 'Van Helsing@tt0338526', 'Vanilla Sky@tt0259711', 'Velvet Goldmine@tt0120879', 'Vicky Cristina Barcelona@tt0497465', 'Walk Hard_ The Dewey Cox Story@tt0841046', 'Walk the Line@tt0358273', 'Wanted@tt0493464', 'War Dogs@tt2005151', 'War Machine@tt4758646', 'War of the Worlds@tt0407304', 'Warcraft@tt0803096', 'Warm Bodies@tt1588173', 'Warrior@tt1291584', 'Watchmen@tt0409459', 'We Are Marshall@tt0758794', 'We Were Soldiers@tt0277434', \"We're the Millers@tt1723121\", 'Wedding Crashers@tt0396269', 'What We Do in the Shadows@tt3416742', 'Whip It@tt1172233', 'Whiplash@tt2582802', 'Who Framed Roger Rabbit@tt0096438', 'Wimbledon@tt0360201', 'Win Win@tt1606392', 'Wind River@tt5362988', 'Windtalkers@tt0245562', 'Woman in Gold@tt2404425', 'Wonder Woman@tt0451279', 'World Trade Center@tt0469641', 'World War Z@tt0816711', 'Wreck-It Ralph@tt1772341', 'X-Men@tt0120903', 'X-Men Origins_ Wolverine@tt0458525', 'X-Men_ Apocalypse@tt3385516', 'X-Men_ Days of Future Past@tt1877832', 'X-Men_ First Class@tt1270798', 'X-Men_ The Last Stand@tt0376994', 'Yes Man@tt1068680', 'Youth@tt3312830', 'Zero Dark Thirty@tt1790885', 'Zodiac@tt0443706', 'Zombieland@tt1156398', 'Zootopia@tt2948356'])"
      ]
     },
     "execution_count": 188,
     "metadata": {},
     "output_type": "execute_result"
    }
   ],
   "source": [
    "\n",
    "index = 0\n",
    "movies_with_related = m_r.copy()\n",
    "for m in m_r.keys():\n",
    "    movies_with_related[bert_sentiment.title.tolist()[index]+'@'+m] = movies_with_related.pop(m)\n",
    "    index += 1\n",
    "movies_with_related.keys()"
   ]
  },
  {
   "cell_type": "code",
   "execution_count": 189,
   "metadata": {},
   "outputs": [
    {
     "data": {
      "text/plain": [
       "856"
      ]
     },
     "execution_count": 189,
     "metadata": {},
     "output_type": "execute_result"
    }
   ],
   "source": [
    "len(movies_with_related)"
   ]
  },
  {
   "cell_type": "code",
   "execution_count": 95,
   "metadata": {},
   "outputs": [
    {
     "data": {
      "text/plain": [
       "['The Little Mermaid',\n",
       " 'Aladdin',\n",
       " 'Mulan',\n",
       " 'Cinderella',\n",
       " 'Pocahontas',\n",
       " 'Hercules',\n",
       " 'Beauty and the Beast',\n",
       " 'Tarzan',\n",
       " 'Sleeping Beauty',\n",
       " 'Snow White and the Seven Dwarfs',\n",
       " 'The Hunchback of Notre Dame',\n",
       " 'The Jungle Book']"
      ]
     },
     "execution_count": 95,
     "metadata": {},
     "output_type": "execute_result"
    }
   ],
   "source": [
    "movies_with_related['Beauty and the Beast']\n",
    "# len(movies_with_related)"
   ]
  },
  {
   "cell_type": "code",
   "execution_count": 232,
   "metadata": {},
   "outputs": [],
   "source": [
    "#weighted-- meta and sentiment\n",
    "w_range = np.linspace(0,1,11)\n",
    "\n",
    "movies_precision = []\n",
    "index = 0\n",
    "for m, relate in movies_with_related.items():\n",
    "    movie = m.split('@')[0]\n",
    "    p_list = []\n",
    "    for w1 in w_range:\n",
    "        #sentitment module\n",
    "        a_sim = recommend_movies_based_on_metadata(movie, bert_sentiment, aspect_sentiment_sim, mapping)\n",
    "        b_sim = recommend_movies_based_on_metadata(movie, bert_sentiment, bert_sentiment_sim, mapping)\n",
    "        sentiment_sim = a_sim * 0 + b_sim * 1\n",
    "        \n",
    "        # print(sentiment_sim)\n",
    "        # print(w1,\"sentiment_sim:\",sentiment_sim)\n",
    "        # aspect module\n",
    "        meta_sim = recommend_movies_based_on_metadata(movie, meta_data, metadata_sim, mapping)\n",
    "        mix_sim = sentiment_sim * w1 + meta_sim * (1 - w1)\n",
    "        \n",
    "        # print(w1,\"mix_sim:\",mix_sim)\n",
    "        try:\n",
    "            # print(len(mix_sim))\n",
    "            similarity_score = sorted(mix_sim, key=lambda x: x[1], reverse=True)\n",
    "        except:\n",
    "            print(index)\n",
    "            print(m)\n",
    "            print(len(mix_sim))\n",
    "            print(len(sentiment_sim))\n",
    "            print(mix_sim)\n",
    "            raise RuntimeError\n",
    "        similarity_score = similarity_score[1:11]\n",
    "        movie_indices = [i[0] for i in similarity_score]\n",
    "        r_movie = bert_sentiment['title'].iloc[movie_indices]\n",
    "        \n",
    "        r_movie = r_movie.tolist()\n",
    "        # print(r_movie)\n",
    "        precision = 0\n",
    "        tp = 0\n",
    "        fp = 0\n",
    "        for r in r_movie:\n",
    "            if r in relate[0:10]:\n",
    "                tp += 1\n",
    "            else:\n",
    "                fp += 1\n",
    "        # print(tp,fp)\n",
    "        p_list.append(tp/(tp+fp))\n",
    "    # print(p_list)\n",
    "    index+=1\n",
    "    movies_precision.append(p_list)\n",
    "    # print(max(p_list, key = p_list.get))\n",
    "\n",
    "\n",
    "\n",
    "#0.0~0.3  \n",
    "\n",
    "\n",
    "\n"
   ]
  },
  {
   "cell_type": "code",
   "execution_count": 264,
   "metadata": {},
   "outputs": [
    {
     "name": "stdout",
     "output_type": "stream",
     "text": [
      "['Dark City', 'Knowing', 'The Matrix', 'Independence Day', 'Terminator 3_ Rise of the Machines', 'Men in Black 3', 'Lucy', 'Hancock', 'Looper', 'The Terminator']\n",
      "['Dark City', 'Knowing', 'The Matrix', 'Independence Day', 'Terminator 3_ Rise of the Machines', 'Men in Black 3', 'Lucy', 'Hancock', 'The Terminator', 'Looper']\n",
      "['Dark City', 'Knowing', 'The Matrix', 'Independence Day', 'Terminator 3_ Rise of the Machines', 'Men in Black 3', 'Lucy', 'Hancock', 'The Terminator', 'The Matrix Reloaded']\n",
      "['Dark City', 'Knowing', 'Independence Day', 'The Matrix', 'Terminator 3_ Rise of the Machines', 'Men in Black 3', 'Lucy', 'Hancock', 'The Matrix Reloaded', 'The Terminator']\n",
      "['Knowing', 'Dark City', 'Independence Day', 'Men in Black 3', 'Terminator 3_ Rise of the Machines', 'The Matrix', 'Lucy', 'Hancock', 'The Matrix Reloaded', 'The Matrix Revolutions']\n",
      "['Knowing', 'Dark City', 'Independence Day', 'Men in Black 3', 'Terminator 3_ Rise of the Machines', 'Lucy', 'Hancock', 'The Matrix Reloaded', 'The Matrix', 'The Matrix Revolutions']\n",
      "['Knowing', 'Dark City', 'Independence Day', 'Men in Black 3', 'The Matrix Reloaded', 'Hancock', 'Lucy', 'The Matrix Revolutions', 'Terminator 3_ Rise of the Machines', 'The Terminator']\n",
      "['Knowing', 'Dark City', 'Independence Day', 'Men in Black 3', 'The Matrix Reloaded', 'Hancock', 'The Matrix Revolutions', 'Men in Black II', 'Lucy', 'Edge of Tomorrow']\n",
      "['Knowing', 'The Matrix Reloaded', 'Independence Day', 'Hancock', 'Dark City', 'The Matrix Revolutions', 'Men in Black 3', 'Men in Black II', 'Edge of Tomorrow', 'Terminator Salvation']\n",
      "['Knowing', 'The Matrix Reloaded', 'Terminator Salvation', 'Godzilla', 'Men in Black II', 'Edge of Tomorrow', 'The Matrix Revolutions', 'The Island', 'Hancock', 'X-Men']\n",
      "['Shooter', 'Terminator Salvation', 'Kill Bill_ Vol. 1', 'Contact', 'Casino', 'The Departed', \"The Devil's Advocate\", 'National Treasure', 'Public Enemies', 'Godzilla']\n",
      "{0.0: 0.3, 0.1: 0.3, 0.2: 0.3, 0.30000000000000004: 0.3, 0.4: 0.3, 0.5: 0.3, 0.6000000000000001: 0.3, 0.7000000000000001: 0.5, 0.8: 0.5, 0.9: 0.3, 1.0: 0.0}\n",
      "0.7000000000000001\n"
     ]
    }
   ],
   "source": [
    "#weighted-- meta and sentiment\n",
    "\n",
    "w_range = np.linspace(0,1,11)\n",
    "p_list = {}\n",
    "for w1 in w_range:\n",
    "    #sentitment module\n",
    "    title = 'I, Robot'\n",
    "    imdb ='@tt0343818'\n",
    "    # title = 'Good Will Hunting'\n",
    "    # imdb ='@tt0119217'\n",
    "    a_sim = recommend_movies_based_on_metadata(title, bert_sentiment, aspect_sentiment_sim, mapping)\n",
    "    b_sim = recommend_movies_based_on_metadata(title, bert_sentiment, bert_sentiment_sim, mapping)\n",
    "    sentiment_sim = a_sim * 0.1 + b_sim * 0.9\n",
    "    # print(w1,\"sentiment_sim:\",sentiment_sim)\n",
    "    # aspect module\n",
    "    meta_sim = recommend_movies_based_on_metadata(title, meta_data, metadata_sim, mapping)\n",
    "    mix_sim = sentiment_sim * w1 + meta_sim * (1 - w1)\n",
    "    # print(w1,\"mix_sim:\",mix_sim)\n",
    "    similarity_score = sorted(mix_sim, key=lambda x: x[1], reverse=True)\n",
    "    similarity_score = similarity_score[1:11]\n",
    "    movie_indices = [i[0] for i in similarity_score]\n",
    "    r_movie = bert_sentiment['title'].iloc[movie_indices]\n",
    "    \n",
    "    r_movie = r_movie.tolist()\n",
    "    print(r_movie)\n",
    "#     precision = 0\n",
    "    tp = 0\n",
    "    fp = 0\n",
    "    for r in r_movie[:10]:\n",
    "        if r in movies_with_related[title+imdb]:\n",
    "            tp += 1\n",
    "        else:\n",
    "            fp += 1\n",
    "    # print(tp,fp)\n",
    "    p_list[w1] = (tp/(tp+fp))\n",
    "    # print(tp+fp)\n",
    "\n",
    "print(p_list)\n",
    "print(max(p_list, key = p_list.get))\n",
    "\n",
    "\n",
    "\n",
    "#0.0~0.3  \n",
    "\n",
    "\n",
    "\n"
   ]
  },
  {
   "cell_type": "code",
   "execution_count": 205,
   "metadata": {},
   "outputs": [],
   "source": [
    "with open(\"movies_with_related_0428\", \"wb\") as fp:   #Pickling\n",
    "    pickle.dump(movies_with_related, fp)"
   ]
  },
  {
   "cell_type": "code",
   "execution_count": 190,
   "metadata": {},
   "outputs": [
    {
     "name": "stdout",
     "output_type": "stream",
     "text": [
      "856\n"
     ]
    },
    {
     "data": {
      "text/plain": [
       "856"
      ]
     },
     "execution_count": 190,
     "metadata": {},
     "output_type": "execute_result"
    }
   ],
   "source": [
    "# movies_with_related['3_10 to Yuma@tt0381849']\n",
    "movies_with_related_for_cola = movies_with_related.copy()\n",
    "keys = []\n",
    "for i in movies_with_related_for_cola.keys():\n",
    "    keys.append(i.replace('_', ':'))\n",
    "print(len(keys))\n",
    "ori_keys = list(movies_with_related.keys())\n",
    "for j in range(len(keys)):\n",
    "    movies_with_related_for_cola[(keys[j].split('@')[0]) + '@' + (ori_keys[j].split('@')[1])] = movies_with_related_for_cola.pop((ori_keys[j].split('@')[0]) + '@' + (ori_keys[j].split('@')[1]))\n",
    "# movies_with_related['Ant-Man@tt0478970']\n",
    "# 'Ant-Man,tt0478970'.split(',')[0]\n",
    "len(movies_with_related_for_cola)"
   ]
  },
  {
   "cell_type": "code",
   "execution_count": 231,
   "metadata": {},
   "outputs": [
    {
     "name": "stdout",
     "output_type": "stream",
     "text": [
      "precision@10 at different weight: [1.053738317757009, 1.0595794392523359, 1.0619158878504669, 1.0712616822429903, 1.082943925233644, 1.087616822429906, 1.0712616822429895, 1.0502336448598124, 0.9392523364485982, 0.7394859813084145, 0.23714953271028047]\n",
      "precision@10 at best weight: 1.087616822429906\n"
     ]
    }
   ],
   "source": [
    "final_weight = np.array(movies_precision)\n",
    "final_weight = final_weight.mean(axis=0)\n",
    "# final_weight = [ '%.2f' % elem for elem in final_weight ]\n",
    "final_weight = [float(i) * 10 for i in final_weight]\n",
    "print('precision@10 at different weight:', final_weight)\n",
    "# final_weight.argmax(axis=0)\n",
    "print('precision@10 at best weight:', max(final_weight))\n"
   ]
  },
  {
   "cell_type": "code",
   "execution_count": 197,
   "metadata": {},
   "outputs": [
    {
     "data": {
      "text/plain": [
       "0.2"
      ]
     },
     "execution_count": 197,
     "metadata": {},
     "output_type": "execute_result"
    }
   ],
   "source": [
    "movies_precision[50]"
   ]
  },
  {
   "cell_type": "code",
   "execution_count": 268,
   "metadata": {},
   "outputs": [
    {
     "data": {
      "text/plain": [
       "0.031191588785046732"
      ]
     },
     "execution_count": 268,
     "metadata": {},
     "output_type": "execute_result"
    }
   ],
   "source": [
    "final_weight = np.array(movies_precision)\n",
    "final_weight = final_weight.mean()\n",
    "final_weight"
   ]
  },
  {
   "cell_type": "code",
   "execution_count": 202,
   "metadata": {},
   "outputs": [],
   "source": [
    "# colla_filtering\n",
    "mine_pivot = pd.read_csv('colla_filter.csv')\n",
    "w_range = np.linspace(0,1,11)\n",
    "movies_precision = []\n",
    "index = 0\n",
    "movies_precision = []\n",
    "for m, relate in movies_with_related_for_cola.items():\n",
    "    movie = m.split('@')[0]\n",
    "    movie_watched = mine_pivot[movie]\n",
    "    similarity_with_other_movies = mine_pivot.corrwith(movie_watched)\n",
    "    similarity_with_other_movies = similarity_with_other_movies.sort_values(ascending=False)\n",
    "    r_movie = list(similarity_with_other_movies.to_dict().keys())[1:6]\n",
    "    tp = 0\n",
    "    fp = 0\n",
    "    for r in r_movie:\n",
    "        if r in relate[0:5]:\n",
    "            tp += 1\n",
    "        else:\n",
    "            fp += 1\n",
    "    movies_precision.append(tp/(tp+fp))\n",
    "\n"
   ]
  },
  {
   "cell_type": "code",
   "execution_count": 235,
   "metadata": {},
   "outputs": [
    {
     "data": {
      "text/plain": [
       "855"
      ]
     },
     "execution_count": 235,
     "metadata": {},
     "output_type": "execute_result"
    }
   ],
   "source": [
    "len(pure_sentiment_sim)"
   ]
  },
  {
   "cell_type": "code",
   "execution_count": 267,
   "metadata": {},
   "outputs": [],
   "source": [
    "# pure muli-label sentiment compare model\n",
    "pure_sentiment = pd.read_csv('./for_sentiment_compare_0501.csv')\n",
    "pure_sentiment = np.array(pure_sentiment, dtype=float)\n",
    "pure_sentiment_sim = cosine_similarity(pure_sentiment, pure_sentiment)\n",
    "w_range = np.linspace(0,1,11)\n",
    "movies_precision = []\n",
    "index = 0\n",
    "movies_precision = []\n",
    "for m, relate in movies_with_related.items():\n",
    "    movie = m.split('@')[0]\n",
    "    pure_sim = recommend_movies_based_on_metadata(movie, bert_sentiment, pure_sentiment_sim, mapping)\n",
    "    similarity_score = sorted(pure_sim, key=lambda x: x[1], reverse=True)\n",
    "    similarity_score = similarity_score[1:11]\n",
    "    movie_indices = [i[0] for i in similarity_score]\n",
    "    r_movie = bert_sentiment['title'].iloc[movie_indices]\n",
    "    r_movie = r_movie.tolist()\n",
    "    # print(r_movie)\n",
    "    precision = 0\n",
    "    tp = 0\n",
    "    fp = 0\n",
    "    for r in r_movie:\n",
    "        if r in relate[0:10]:\n",
    "            tp += 1\n",
    "        else:\n",
    "            fp += 1\n",
    "    movies_precision.append(tp/(tp+fp))"
   ]
  }
 ],
 "metadata": {
  "kernelspec": {
   "display_name": "Python 3.6.12 ('py36')",
   "language": "python",
   "name": "python3"
  },
  "language_info": {
   "codemirror_mode": {
    "name": "ipython",
    "version": 3
   },
   "file_extension": ".py",
   "mimetype": "text/x-python",
   "name": "python",
   "nbconvert_exporter": "python",
   "pygments_lexer": "ipython3",
   "version": "3.6.12 |Anaconda, Inc.| (default, Sep  9 2020, 00:29:25) [MSC v.1916 64 bit (AMD64)]"
  },
  "orig_nbformat": 4,
  "vscode": {
   "interpreter": {
    "hash": "65a80066adf52311e4b099f946732f29f233270ec01e58fbcfb8e7e9b391e6c3"
   }
  }
 },
 "nbformat": 4,
 "nbformat_minor": 2
}
